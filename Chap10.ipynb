{
  "cells": [
    {
      "cell_type": "code",
      "execution_count": 1,
      "id": "c6613a08-febe-48c2-aee4-8f3604f9b327",
      "metadata": {
        "id": "c6613a08-febe-48c2-aee4-8f3604f9b327"
      },
      "outputs": [],
      "source": [
        "import numpy as np\n",
        "import pandas as pd\n",
        "import matplotlib.pyplot as plt\n",
        "import matplotlib as mpl\n",
        "import seaborn as sns\n",
        "\n",
        "import statsmodels.api as sm\n",
        "import statsmodels.formula.api as smf\n",
        "\n",
        "import tensorflow as tf\n",
        "from tensorflow.keras.layers import Dense, Dropout\n",
        "from tensorflow.keras.models import Sequential \n",
        "\n",
        "\n",
        "%matplotlib inline"
      ]
    },
    {
      "cell_type": "code",
      "execution_count": 2,
      "id": "4f722af8-e7bd-44de-ac0e-e07fd5cc7690",
      "metadata": {
        "id": "4f722af8-e7bd-44de-ac0e-e07fd5cc7690"
      },
      "outputs": [],
      "source": [
        "np.random.seed(13)"
      ]
    },
    {
      "cell_type": "markdown",
      "id": "4ef3737d-3d51-497e-848d-a9e9bbecd8de",
      "metadata": {
        "tags": [],
        "id": "4ef3737d-3d51-497e-848d-a9e9bbecd8de"
      },
      "source": [
        "# 1. A Single Layer Network on the Hitters Data"
      ]
    },
    {
      "cell_type": "code",
      "execution_count": 3,
      "id": "de900812-d833-435e-a8ee-a45e7593aa0c",
      "metadata": {
        "id": "de900812-d833-435e-a8ee-a45e7593aa0c"
      },
      "outputs": [],
      "source": [
        "from sklearn.model_selection import train_test_split\n",
        "from sklearn.metrics import mean_absolute_error\n",
        "from sklearn.preprocessing import OneHotEncoder, StandardScaler\n",
        "from sklearn.pipeline import Pipeline\n",
        "from sklearn.compose import ColumnTransformer\n",
        "from sklearn.linear_model import LassoCV"
      ]
    },
    {
      "cell_type": "code",
      "execution_count": 4,
      "id": "a8d02d82-7d3b-46f6-92da-f25328bc299f",
      "metadata": {
        "colab": {
          "base_uri": "https://localhost:8080/",
          "height": 206
        },
        "id": "a8d02d82-7d3b-46f6-92da-f25328bc299f",
        "outputId": "ce439f81-14a5-4d84-b69a-52bd2d58b864"
      },
      "outputs": [
        {
          "output_type": "execute_result",
          "data": {
            "text/plain": [
              "   AtBat  Hits  HmRun  Runs  RBI  Walks  Years  CAtBat  CHits  CHmRun  CRuns  \\\n",
              "0    315    81      7    24   38     39     14    3449    835      69    321   \n",
              "1    479   130     18    66   72     76      3    1624    457      63    224   \n",
              "2    496   141     20    65   78     37     11    5628   1575     225    828   \n",
              "3    321    87     10    39   42     30      2     396    101      12     48   \n",
              "4    594   169      4    74   51     35     11    4408   1133      19    501   \n",
              "\n",
              "   CRBI  CWalks League Division  PutOuts  Assists  Errors  Salary NewLeague  \n",
              "0   414     375      N        W      632       43      10   475.0         N  \n",
              "1   266     263      A        W      880       82      14   480.0         A  \n",
              "2   838     354      N        E      200       11       3   500.0         N  \n",
              "3    46      33      N        E      805       40       4    91.5         N  \n",
              "4   336     194      A        W      282      421      25   750.0         A  "
            ],
            "text/html": [
              "\n",
              "  <div id=\"df-23c244e5-f71c-4815-ba17-b3cab19db811\">\n",
              "    <div class=\"colab-df-container\">\n",
              "      <div>\n",
              "<style scoped>\n",
              "    .dataframe tbody tr th:only-of-type {\n",
              "        vertical-align: middle;\n",
              "    }\n",
              "\n",
              "    .dataframe tbody tr th {\n",
              "        vertical-align: top;\n",
              "    }\n",
              "\n",
              "    .dataframe thead th {\n",
              "        text-align: right;\n",
              "    }\n",
              "</style>\n",
              "<table border=\"1\" class=\"dataframe\">\n",
              "  <thead>\n",
              "    <tr style=\"text-align: right;\">\n",
              "      <th></th>\n",
              "      <th>AtBat</th>\n",
              "      <th>Hits</th>\n",
              "      <th>HmRun</th>\n",
              "      <th>Runs</th>\n",
              "      <th>RBI</th>\n",
              "      <th>Walks</th>\n",
              "      <th>Years</th>\n",
              "      <th>CAtBat</th>\n",
              "      <th>CHits</th>\n",
              "      <th>CHmRun</th>\n",
              "      <th>CRuns</th>\n",
              "      <th>CRBI</th>\n",
              "      <th>CWalks</th>\n",
              "      <th>League</th>\n",
              "      <th>Division</th>\n",
              "      <th>PutOuts</th>\n",
              "      <th>Assists</th>\n",
              "      <th>Errors</th>\n",
              "      <th>Salary</th>\n",
              "      <th>NewLeague</th>\n",
              "    </tr>\n",
              "  </thead>\n",
              "  <tbody>\n",
              "    <tr>\n",
              "      <th>0</th>\n",
              "      <td>315</td>\n",
              "      <td>81</td>\n",
              "      <td>7</td>\n",
              "      <td>24</td>\n",
              "      <td>38</td>\n",
              "      <td>39</td>\n",
              "      <td>14</td>\n",
              "      <td>3449</td>\n",
              "      <td>835</td>\n",
              "      <td>69</td>\n",
              "      <td>321</td>\n",
              "      <td>414</td>\n",
              "      <td>375</td>\n",
              "      <td>N</td>\n",
              "      <td>W</td>\n",
              "      <td>632</td>\n",
              "      <td>43</td>\n",
              "      <td>10</td>\n",
              "      <td>475.0</td>\n",
              "      <td>N</td>\n",
              "    </tr>\n",
              "    <tr>\n",
              "      <th>1</th>\n",
              "      <td>479</td>\n",
              "      <td>130</td>\n",
              "      <td>18</td>\n",
              "      <td>66</td>\n",
              "      <td>72</td>\n",
              "      <td>76</td>\n",
              "      <td>3</td>\n",
              "      <td>1624</td>\n",
              "      <td>457</td>\n",
              "      <td>63</td>\n",
              "      <td>224</td>\n",
              "      <td>266</td>\n",
              "      <td>263</td>\n",
              "      <td>A</td>\n",
              "      <td>W</td>\n",
              "      <td>880</td>\n",
              "      <td>82</td>\n",
              "      <td>14</td>\n",
              "      <td>480.0</td>\n",
              "      <td>A</td>\n",
              "    </tr>\n",
              "    <tr>\n",
              "      <th>2</th>\n",
              "      <td>496</td>\n",
              "      <td>141</td>\n",
              "      <td>20</td>\n",
              "      <td>65</td>\n",
              "      <td>78</td>\n",
              "      <td>37</td>\n",
              "      <td>11</td>\n",
              "      <td>5628</td>\n",
              "      <td>1575</td>\n",
              "      <td>225</td>\n",
              "      <td>828</td>\n",
              "      <td>838</td>\n",
              "      <td>354</td>\n",
              "      <td>N</td>\n",
              "      <td>E</td>\n",
              "      <td>200</td>\n",
              "      <td>11</td>\n",
              "      <td>3</td>\n",
              "      <td>500.0</td>\n",
              "      <td>N</td>\n",
              "    </tr>\n",
              "    <tr>\n",
              "      <th>3</th>\n",
              "      <td>321</td>\n",
              "      <td>87</td>\n",
              "      <td>10</td>\n",
              "      <td>39</td>\n",
              "      <td>42</td>\n",
              "      <td>30</td>\n",
              "      <td>2</td>\n",
              "      <td>396</td>\n",
              "      <td>101</td>\n",
              "      <td>12</td>\n",
              "      <td>48</td>\n",
              "      <td>46</td>\n",
              "      <td>33</td>\n",
              "      <td>N</td>\n",
              "      <td>E</td>\n",
              "      <td>805</td>\n",
              "      <td>40</td>\n",
              "      <td>4</td>\n",
              "      <td>91.5</td>\n",
              "      <td>N</td>\n",
              "    </tr>\n",
              "    <tr>\n",
              "      <th>4</th>\n",
              "      <td>594</td>\n",
              "      <td>169</td>\n",
              "      <td>4</td>\n",
              "      <td>74</td>\n",
              "      <td>51</td>\n",
              "      <td>35</td>\n",
              "      <td>11</td>\n",
              "      <td>4408</td>\n",
              "      <td>1133</td>\n",
              "      <td>19</td>\n",
              "      <td>501</td>\n",
              "      <td>336</td>\n",
              "      <td>194</td>\n",
              "      <td>A</td>\n",
              "      <td>W</td>\n",
              "      <td>282</td>\n",
              "      <td>421</td>\n",
              "      <td>25</td>\n",
              "      <td>750.0</td>\n",
              "      <td>A</td>\n",
              "    </tr>\n",
              "  </tbody>\n",
              "</table>\n",
              "</div>\n",
              "      <button class=\"colab-df-convert\" onclick=\"convertToInteractive('df-23c244e5-f71c-4815-ba17-b3cab19db811')\"\n",
              "              title=\"Convert this dataframe to an interactive table.\"\n",
              "              style=\"display:none;\">\n",
              "        \n",
              "  <svg xmlns=\"http://www.w3.org/2000/svg\" height=\"24px\"viewBox=\"0 0 24 24\"\n",
              "       width=\"24px\">\n",
              "    <path d=\"M0 0h24v24H0V0z\" fill=\"none\"/>\n",
              "    <path d=\"M18.56 5.44l.94 2.06.94-2.06 2.06-.94-2.06-.94-.94-2.06-.94 2.06-2.06.94zm-11 1L8.5 8.5l.94-2.06 2.06-.94-2.06-.94L8.5 2.5l-.94 2.06-2.06.94zm10 10l.94 2.06.94-2.06 2.06-.94-2.06-.94-.94-2.06-.94 2.06-2.06.94z\"/><path d=\"M17.41 7.96l-1.37-1.37c-.4-.4-.92-.59-1.43-.59-.52 0-1.04.2-1.43.59L10.3 9.45l-7.72 7.72c-.78.78-.78 2.05 0 2.83L4 21.41c.39.39.9.59 1.41.59.51 0 1.02-.2 1.41-.59l7.78-7.78 2.81-2.81c.8-.78.8-2.07 0-2.86zM5.41 20L4 18.59l7.72-7.72 1.47 1.35L5.41 20z\"/>\n",
              "  </svg>\n",
              "      </button>\n",
              "      \n",
              "  <style>\n",
              "    .colab-df-container {\n",
              "      display:flex;\n",
              "      flex-wrap:wrap;\n",
              "      gap: 12px;\n",
              "    }\n",
              "\n",
              "    .colab-df-convert {\n",
              "      background-color: #E8F0FE;\n",
              "      border: none;\n",
              "      border-radius: 50%;\n",
              "      cursor: pointer;\n",
              "      display: none;\n",
              "      fill: #1967D2;\n",
              "      height: 32px;\n",
              "      padding: 0 0 0 0;\n",
              "      width: 32px;\n",
              "    }\n",
              "\n",
              "    .colab-df-convert:hover {\n",
              "      background-color: #E2EBFA;\n",
              "      box-shadow: 0px 1px 2px rgba(60, 64, 67, 0.3), 0px 1px 3px 1px rgba(60, 64, 67, 0.15);\n",
              "      fill: #174EA6;\n",
              "    }\n",
              "\n",
              "    [theme=dark] .colab-df-convert {\n",
              "      background-color: #3B4455;\n",
              "      fill: #D2E3FC;\n",
              "    }\n",
              "\n",
              "    [theme=dark] .colab-df-convert:hover {\n",
              "      background-color: #434B5C;\n",
              "      box-shadow: 0px 1px 3px 1px rgba(0, 0, 0, 0.15);\n",
              "      filter: drop-shadow(0px 1px 2px rgba(0, 0, 0, 0.3));\n",
              "      fill: #FFFFFF;\n",
              "    }\n",
              "  </style>\n",
              "\n",
              "      <script>\n",
              "        const buttonEl =\n",
              "          document.querySelector('#df-23c244e5-f71c-4815-ba17-b3cab19db811 button.colab-df-convert');\n",
              "        buttonEl.style.display =\n",
              "          google.colab.kernel.accessAllowed ? 'block' : 'none';\n",
              "\n",
              "        async function convertToInteractive(key) {\n",
              "          const element = document.querySelector('#df-23c244e5-f71c-4815-ba17-b3cab19db811');\n",
              "          const dataTable =\n",
              "            await google.colab.kernel.invokeFunction('convertToInteractive',\n",
              "                                                     [key], {});\n",
              "          if (!dataTable) return;\n",
              "\n",
              "          const docLinkHtml = 'Like what you see? Visit the ' +\n",
              "            '<a target=\"_blank\" href=https://colab.research.google.com/notebooks/data_table.ipynb>data table notebook</a>'\n",
              "            + ' to learn more about interactive tables.';\n",
              "          element.innerHTML = '';\n",
              "          dataTable['output_type'] = 'display_data';\n",
              "          await google.colab.output.renderOutput(dataTable, element);\n",
              "          const docLink = document.createElement('div');\n",
              "          docLink.innerHTML = docLinkHtml;\n",
              "          element.appendChild(docLink);\n",
              "        }\n",
              "      </script>\n",
              "    </div>\n",
              "  </div>\n",
              "  "
            ]
          },
          "metadata": {},
          "execution_count": 4
        }
      ],
      "source": [
        "hitters = sm.datasets.get_rdataset('Hitters', 'ISLR').data.dropna().reset_index(drop=True)\n",
        "hitters.head()"
      ]
    },
    {
      "cell_type": "code",
      "execution_count": 5,
      "id": "940591ca-c099-4b02-bea6-977fec8e8d15",
      "metadata": {
        "id": "940591ca-c099-4b02-bea6-977fec8e8d15"
      },
      "outputs": [],
      "source": [
        "nrows = hitters.shape[0]\n",
        "test_id = np.random.choice(nrows, nrows // 3, replace=False)\n",
        "train_id = hitters.index.difference(test_id)"
      ]
    },
    {
      "cell_type": "code",
      "execution_count": 6,
      "id": "256839bc-bcb2-4a60-9552-519cb1d98660",
      "metadata": {
        "id": "256839bc-bcb2-4a60-9552-519cb1d98660"
      },
      "outputs": [],
      "source": [
        "lfit = smf.ols('Salary ~ ' + '+'.join(hitters.columns.drop('Salary')), \n",
        "               data=hitters, subset=train_id).fit()"
      ]
    },
    {
      "cell_type": "code",
      "execution_count": 7,
      "id": "c0a1e475-128d-4cff-9f0b-c609ed6c7710",
      "metadata": {
        "colab": {
          "base_uri": "https://localhost:8080/"
        },
        "id": "c0a1e475-128d-4cff-9f0b-c609ed6c7710",
        "outputId": "63aa4bb4-0e3e-44fc-c4ec-797d209d9b6f"
      },
      "outputs": [
        {
          "output_type": "execute_result",
          "data": {
            "text/plain": [
              "242.99282793560923"
            ]
          },
          "metadata": {},
          "execution_count": 7
        }
      ],
      "source": [
        "mean_absolute_error(\n",
        "    hitters.loc[test_id, 'Salary'], \n",
        "    lfit.predict(hitters.drop(columns='Salary').loc[test_id])\n",
        ")"
      ]
    },
    {
      "cell_type": "code",
      "execution_count": 8,
      "id": "a71b2256-6fde-4f66-b770-1578475a270c",
      "metadata": {
        "id": "a71b2256-6fde-4f66-b770-1578475a270c"
      },
      "outputs": [],
      "source": [
        "preprocess = ColumnTransformer([\n",
        "    ('encode', OneHotEncoder(), hitters.select_dtypes('object').columns),\n",
        "    ('scale', StandardScaler(), hitters.select_dtypes('number').drop(columns='Salary').columns)\n",
        "])"
      ]
    },
    {
      "cell_type": "code",
      "execution_count": 9,
      "id": "114f2473-3a17-4b7e-98e9-0fb9fc5b4647",
      "metadata": {
        "id": "114f2473-3a17-4b7e-98e9-0fb9fc5b4647"
      },
      "outputs": [],
      "source": [
        "X = preprocess.fit_transform(hitters.drop(columns='Salary'))\n",
        "y = hitters['Salary'].copy()"
      ]
    },
    {
      "cell_type": "code",
      "execution_count": 10,
      "id": "2f6936be-f864-4a50-bb51-0d9f6e8acdc0",
      "metadata": {
        "id": "2f6936be-f864-4a50-bb51-0d9f6e8acdc0"
      },
      "outputs": [],
      "source": [
        "X_train = X[train_id]\n",
        "X_test = X[test_id]\n",
        "y_train = y[train_id]\n",
        "y_test = y[test_id]"
      ]
    },
    {
      "cell_type": "code",
      "execution_count": 11,
      "id": "8aa4bdd4-4733-45d8-b587-eb993839f3ee",
      "metadata": {
        "id": "8aa4bdd4-4733-45d8-b587-eb993839f3ee"
      },
      "outputs": [],
      "source": [
        "lasso = LassoCV(cv=10, random_state=13).fit(X_train, y_train)"
      ]
    },
    {
      "cell_type": "code",
      "execution_count": 12,
      "id": "cbc29ae5-228e-4e06-8e28-e2f09c6684a4",
      "metadata": {
        "colab": {
          "base_uri": "https://localhost:8080/"
        },
        "id": "cbc29ae5-228e-4e06-8e28-e2f09c6684a4",
        "outputId": "927101af-479b-438e-913d-917d12c0ec5e"
      },
      "outputs": [
        {
          "output_type": "execute_result",
          "data": {
            "text/plain": [
              "219.88804382063952"
            ]
          },
          "metadata": {},
          "execution_count": 12
        }
      ],
      "source": [
        "mean_absolute_error(y_test, lasso.predict(X_test))"
      ]
    },
    {
      "cell_type": "code",
      "execution_count": 13,
      "id": "ac99e68d-610b-4c59-8631-ae77283db9ae",
      "metadata": {
        "id": "ac99e68d-610b-4c59-8631-ae77283db9ae"
      },
      "outputs": [],
      "source": [
        "model = Sequential([\n",
        "    Dense(units=50, activation='relu', input_shape=(X_train.shape[1], )),\n",
        "    Dropout(rate=0.4),\n",
        "    Dense(units=1)\n",
        "])"
      ]
    },
    {
      "cell_type": "code",
      "execution_count": 14,
      "id": "fce4abc8-4466-4157-a447-348e10ab16a8",
      "metadata": {
        "id": "fce4abc8-4466-4157-a447-348e10ab16a8"
      },
      "outputs": [],
      "source": [
        "model.compile(\n",
        "    tf.keras.optimizers.RMSprop(), \n",
        "    tf.keras.losses.MeanSquaredError(),\n",
        "    [tf.keras.metrics.MeanAbsoluteError(), ]\n",
        ")"
      ]
    },
    {
      "cell_type": "code",
      "execution_count": 15,
      "id": "71785de1-50ec-488c-a881-9a6b658633fc",
      "metadata": {
        "colab": {
          "base_uri": "https://localhost:8080/"
        },
        "id": "71785de1-50ec-488c-a881-9a6b658633fc",
        "outputId": "a7a5b63b-a922-41ed-8b46-0da628ac4a57"
      },
      "outputs": [
        {
          "output_type": "stream",
          "name": "stdout",
          "text": [
            "Model: \"sequential\"\n",
            "_________________________________________________________________\n",
            " Layer (type)                Output Shape              Param #   \n",
            "=================================================================\n",
            " dense (Dense)               (None, 50)                1150      \n",
            "                                                                 \n",
            " dropout (Dropout)           (None, 50)                0         \n",
            "                                                                 \n",
            " dense_1 (Dense)             (None, 1)                 51        \n",
            "                                                                 \n",
            "=================================================================\n",
            "Total params: 1,201\n",
            "Trainable params: 1,201\n",
            "Non-trainable params: 0\n",
            "_________________________________________________________________\n",
            "None\n"
          ]
        }
      ],
      "source": [
        "history = model.fit(\n",
        "    X_train, y_train, epochs=1500, batch_size=32, \n",
        "    validation_data=(X_test, y_test), verbose=0\n",
        ")\n",
        "print(model.summary())"
      ]
    },
    {
      "cell_type": "code",
      "execution_count": 16,
      "id": "75f8b8fd-2c9e-4d54-9215-1132e2bc4955",
      "metadata": {
        "colab": {
          "base_uri": "https://localhost:8080/"
        },
        "id": "75f8b8fd-2c9e-4d54-9215-1132e2bc4955",
        "outputId": "365e5bbc-21a6-48e8-a2de-2af26ebe04f4"
      },
      "outputs": [
        {
          "output_type": "stream",
          "name": "stdout",
          "text": [
            "3/3 [==============================] - 0s 3ms/step\n"
          ]
        },
        {
          "output_type": "execute_result",
          "data": {
            "text/plain": [
              "225.43696503948343"
            ]
          },
          "metadata": {},
          "execution_count": 16
        }
      ],
      "source": [
        "mean_absolute_error(y_test, model.predict(X_test))"
      ]
    },
    {
      "cell_type": "code",
      "execution_count": 17,
      "id": "b1c14904-ef28-49a0-aeae-1223f641fa12",
      "metadata": {
        "colab": {
          "base_uri": "https://localhost:8080/"
        },
        "id": "b1c14904-ef28-49a0-aeae-1223f641fa12",
        "outputId": "0943678f-0ac7-4141-fee4-078d356c1e4e"
      },
      "outputs": [
        {
          "output_type": "execute_result",
          "data": {
            "text/plain": [
              "dict_keys(['loss', 'mean_absolute_error', 'val_loss', 'val_mean_absolute_error'])"
            ]
          },
          "metadata": {},
          "execution_count": 17
        }
      ],
      "source": [
        "history.history.keys()"
      ]
    },
    {
      "cell_type": "code",
      "execution_count": 18,
      "id": "48b277c7-7315-4737-9f88-7f300eb12921",
      "metadata": {
        "colab": {
          "base_uri": "https://localhost:8080/",
          "height": 297
        },
        "id": "48b277c7-7315-4737-9f88-7f300eb12921",
        "outputId": "6368858a-b78d-47d9-eb2d-ec1aef68db6c"
      },
      "outputs": [
        {
          "output_type": "execute_result",
          "data": {
            "text/plain": [
              "<matplotlib.legend.Legend at 0x7f655a5cc6d0>"
            ]
          },
          "metadata": {},
          "execution_count": 18
        },
        {
          "output_type": "display_data",
          "data": {
            "text/plain": [
              "<Figure size 432x288 with 1 Axes>"
            ],
            "image/png": "[encoded data removed]"
          },
          "metadata": {
            "needs_background": "light"
          }
        }
      ],
      "source": [
        "plt.plot(history.history['mean_absolute_error'], label='train')\n",
        "plt.plot(history.history['val_mean_absolute_error'], label='test')\n",
        "plt.xlabel('epoch')\n",
        "plt.ylabel('mae')\n",
        "plt.legend()"
      ]
    },
    {
      "cell_type": "markdown",
      "id": "a75f218f-0feb-4f7a-b419-a87dd3073ece",
      "metadata": {
        "tags": [],
        "id": "a75f218f-0feb-4f7a-b419-a87dd3073ece"
      },
      "source": [
        "# 2. A Multilayer Network on the MNIST Digit Data"
      ]
    },
    {
      "cell_type": "code",
      "execution_count": 19,
      "id": "213ce7ed-a7ea-45ea-a00e-008cd910d2c3",
      "metadata": {
        "colab": {
          "base_uri": "https://localhost:8080/"
        },
        "id": "213ce7ed-a7ea-45ea-a00e-008cd910d2c3",
        "outputId": "a7ccfb82-ef1c-456c-aa86-7bf455f6cbec"
      },
      "outputs": [
        {
          "output_type": "stream",
          "name": "stdout",
          "text": [
            "Downloading data from https://storage.googleapis.com/tensorflow/tf-keras-datasets/mnist.npz\n",
            "11490434/11490434 [==============================] - 0s 0us/step\n"
          ]
        }
      ],
      "source": [
        "mnist = tf.keras.datasets.mnist.load_data()"
      ]
    },
    {
      "cell_type": "code",
      "execution_count": 20,
      "id": "6e909796-535d-4e75-b3a5-c50bdbfc0124",
      "metadata": {
        "id": "6e909796-535d-4e75-b3a5-c50bdbfc0124"
      },
      "outputs": [],
      "source": [
        "(X_train, y_train), (X_test, y_test) = mnist"
      ]
    },
    {
      "cell_type": "code",
      "execution_count": 21,
      "id": "a103c100-6657-4928-a7c1-83c4732b6e4d",
      "metadata": {
        "colab": {
          "base_uri": "https://localhost:8080/"
        },
        "id": "a103c100-6657-4928-a7c1-83c4732b6e4d",
        "outputId": "e804eafc-76d5-4ae5-dc51-777f7774ebf5"
      },
      "outputs": [
        {
          "output_type": "execute_result",
          "data": {
            "text/plain": [
              "(60000, 28, 28)"
            ]
          },
          "metadata": {},
          "execution_count": 21
        }
      ],
      "source": [
        "X_train.shape"
      ]
    },
    {
      "cell_type": "code",
      "execution_count": 22,
      "id": "e2d14baf-0818-4b6c-80f8-42970753b954",
      "metadata": {
        "colab": {
          "base_uri": "https://localhost:8080/"
        },
        "id": "e2d14baf-0818-4b6c-80f8-42970753b954",
        "outputId": "ab1ab407-3945-4da1-dd07-14b6dc3380bc"
      },
      "outputs": [
        {
          "output_type": "execute_result",
          "data": {
            "text/plain": [
              "(10000, 28, 28)"
            ]
          },
          "metadata": {},
          "execution_count": 22
        }
      ],
      "source": [
        "X_test.shape"
      ]
    },
    {
      "cell_type": "code",
      "execution_count": 23,
      "id": "5732f643-7a43-4586-97ce-499ce6973c3c",
      "metadata": {
        "colab": {
          "base_uri": "https://localhost:8080/"
        },
        "id": "5732f643-7a43-4586-97ce-499ce6973c3c",
        "outputId": "1e2b6562-e971-4ba9-8b1a-0477d13fd653"
      },
      "outputs": [
        {
          "output_type": "execute_result",
          "data": {
            "text/plain": [
              "(60000,)"
            ]
          },
          "metadata": {},
          "execution_count": 23
        }
      ],
      "source": [
        "y_train.shape"
      ]
    },
    {
      "cell_type": "code",
      "execution_count": 24,
      "id": "d99b18bb-a5f8-43b8-ad4c-04d095c9616a",
      "metadata": {
        "colab": {
          "base_uri": "https://localhost:8080/"
        },
        "id": "d99b18bb-a5f8-43b8-ad4c-04d095c9616a",
        "outputId": "c3f8ca7c-c8d1-4ad3-d040-d639d1f9bc16"
      },
      "outputs": [
        {
          "output_type": "execute_result",
          "data": {
            "text/plain": [
              "(10000,)"
            ]
          },
          "metadata": {},
          "execution_count": 24
        }
      ],
      "source": [
        "y_test.shape"
      ]
    },
    {
      "cell_type": "code",
      "execution_count": 25,
      "id": "b3ef7866-cc45-45a9-8302-7eeccfeeef9c",
      "metadata": {
        "id": "b3ef7866-cc45-45a9-8302-7eeccfeeef9c"
      },
      "outputs": [],
      "source": [
        "X_train = X_train.reshape((60000, 28*28))\n",
        "X_test = X_test.reshape((10000, 28*28))"
      ]
    },
    {
      "cell_type": "code",
      "execution_count": 26,
      "id": "91427213-92d0-4ff2-a53c-654cd2afb20b",
      "metadata": {
        "id": "91427213-92d0-4ff2-a53c-654cd2afb20b"
      },
      "outputs": [],
      "source": [
        "y_train = pd.get_dummies(y_train).values\n",
        "y_test = pd.get_dummies(y_test).values"
      ]
    },
    {
      "cell_type": "code",
      "execution_count": 27,
      "id": "73b9145c-25a6-4180-966c-4f49aa1674c9",
      "metadata": {
        "id": "73b9145c-25a6-4180-966c-4f49aa1674c9"
      },
      "outputs": [],
      "source": [
        "X_train = X_train / 255\n",
        "X_test = X_test / 255"
      ]
    },
    {
      "cell_type": "code",
      "execution_count": 28,
      "id": "4622c147-2d68-4648-a8b4-8019797461ad",
      "metadata": {
        "id": "4622c147-2d68-4648-a8b4-8019797461ad"
      },
      "outputs": [],
      "source": [
        "model = Sequential([\n",
        "    Dense(units=256, activation='relu', input_shape=(784, )),\n",
        "    Dropout(rate=0.4),\n",
        "    Dense(units=128, activation='relu'),\n",
        "    Dropout(rate=0.3),\n",
        "    Dense(units=10, activation='softmax')\n",
        "])"
      ]
    },
    {
      "cell_type": "code",
      "execution_count": 29,
      "id": "0c46fe37-6c5a-4f48-8d75-a31e7ed7bb75",
      "metadata": {
        "colab": {
          "base_uri": "https://localhost:8080/"
        },
        "id": "0c46fe37-6c5a-4f48-8d75-a31e7ed7bb75",
        "outputId": "ca36518a-6aa4-4a1e-e7d6-25e3c0201ed3"
      },
      "outputs": [
        {
          "output_type": "stream",
          "name": "stdout",
          "text": [
            "Model: \"sequential_1\"\n",
            "_________________________________________________________________\n",
            " Layer (type)                Output Shape              Param #   \n",
            "=================================================================\n",
            " dense_2 (Dense)             (None, 256)               200960    \n",
            "                                                                 \n",
            " dropout_1 (Dropout)         (None, 256)               0         \n",
            "                                                                 \n",
            " dense_3 (Dense)             (None, 128)               32896     \n",
            "                                                                 \n",
            " dropout_2 (Dropout)         (None, 128)               0         \n",
            "                                                                 \n",
            " dense_4 (Dense)             (None, 10)                1290      \n",
            "                                                                 \n",
            "=================================================================\n",
            "Total params: 235,146\n",
            "Trainable params: 235,146\n",
            "Non-trainable params: 0\n",
            "_________________________________________________________________\n"
          ]
        }
      ],
      "source": [
        "model.summary()"
      ]
    },
    {
      "cell_type": "code",
      "execution_count": 30,
      "id": "c5cf9a3d-6a2d-4772-bfbd-5713d7151926",
      "metadata": {
        "id": "c5cf9a3d-6a2d-4772-bfbd-5713d7151926"
      },
      "outputs": [],
      "source": [
        "model.compile(\n",
        "    optimizer=tf.keras.optimizers.RMSprop(),\n",
        "    loss=tf.keras.losses.CategoricalCrossentropy(),\n",
        "    metrics=[tf.keras.metrics.Accuracy()]\n",
        ")"
      ]
    },
    {
      "cell_type": "code",
      "execution_count": 31,
      "id": "fb7a8859-56ad-4764-b38a-085e43d94464",
      "metadata": {
        "id": "fb7a8859-56ad-4764-b38a-085e43d94464"
      },
      "outputs": [],
      "source": [
        "history = model.fit(X_train, y_train, epochs=30, batch_size=128,\n",
        "                    validation_split=0.2, verbose=0)"
      ]
    },
    {
      "cell_type": "code",
      "execution_count": 32,
      "id": "5ca08680-0360-4e75-93e7-98fc37b7585d",
      "metadata": {
        "colab": {
          "base_uri": "https://localhost:8080/"
        },
        "id": "5ca08680-0360-4e75-93e7-98fc37b7585d",
        "outputId": "4f764c2e-3566-4178-bdb7-2ee804eb5591"
      },
      "outputs": [
        {
          "output_type": "execute_result",
          "data": {
            "text/plain": [
              "dict_keys(['loss', 'accuracy', 'val_loss', 'val_accuracy'])"
            ]
          },
          "metadata": {},
          "execution_count": 32
        }
      ],
      "source": [
        "history.history.keys()"
      ]
    },
    {
      "cell_type": "code",
      "execution_count": 33,
      "id": "7bec50f8-cf3a-4ab9-a0e3-03d28df803d1",
      "metadata": {
        "colab": {
          "base_uri": "https://localhost:8080/",
          "height": 406
        },
        "id": "7bec50f8-cf3a-4ab9-a0e3-03d28df803d1",
        "outputId": "1063e854-a1d1-4dd9-b0c3-3787d2d0e584"
      },
      "outputs": [
        {
          "output_type": "execute_result",
          "data": {
            "text/plain": [
              "[Text(0, 0.5, 'Accuracy'), Text(0.5, 0, 'Epochs')]"
            ]
          },
          "metadata": {},
          "execution_count": 33
        },
        {
          "output_type": "display_data",
          "data": {
            "text/plain": [
              "<Figure size 864x432 with 2 Axes>"
            ],
            "image/png": "[encoded data removed]"
          },
          "metadata": {
            "needs_background": "light"
          }
        }
      ],
      "source": [
        "fig, ax = plt.subplots(1, 2, sharex=True, figsize=(12, 6))\n",
        "\n",
        "ax[0].plot(history.history['loss'], label='Training Set')\n",
        "ax[0].plot(history.history['val_loss'], label='Validation Set')\n",
        "ax[0].legend()\n",
        "ax[0].set(xlabel='Epochs', ylabel='Value of Objective Function')\n",
        "\n",
        "ax[1].plot(np.array(history.history['accuracy']))\n",
        "ax[1].plot(np.array(history.history['val_accuracy']))\n",
        "ax[1].set(xlabel='Epochs', ylabel='Accuracy')"
      ]
    },
    {
      "cell_type": "code",
      "execution_count": 34,
      "id": "e31530d3-a7d4-44f8-8274-0f1d43dafae3",
      "metadata": {
        "colab": {
          "base_uri": "https://localhost:8080/"
        },
        "id": "e31530d3-a7d4-44f8-8274-0f1d43dafae3",
        "outputId": "d5a2d739-e893-4e48-d7d2-70203fef0887"
      },
      "outputs": [
        {
          "output_type": "stream",
          "name": "stdout",
          "text": [
            "313/313 [==============================] - 1s 1ms/step\n"
          ]
        },
        {
          "output_type": "execute_result",
          "data": {
            "text/plain": [
              "0.981"
            ]
          },
          "metadata": {},
          "execution_count": 34
        }
      ],
      "source": [
        "(model.predict(X_test).argmax(axis=1) == y_test.argmax(axis=1)).mean()"
      ]
    },
    {
      "cell_type": "code",
      "execution_count": 35,
      "id": "8ed8d0f9-c4bb-4752-9b54-48c090d11872",
      "metadata": {
        "colab": {
          "base_uri": "https://localhost:8080/"
        },
        "id": "8ed8d0f9-c4bb-4752-9b54-48c090d11872",
        "outputId": "4698879f-5ea9-49ab-a0a3-af0de20e6ce5"
      },
      "outputs": [
        {
          "output_type": "stream",
          "name": "stdout",
          "text": [
            "Model: \"sequential_2\"\n",
            "_________________________________________________________________\n",
            " Layer (type)                Output Shape              Param #   \n",
            "=================================================================\n",
            " dense_5 (Dense)             (None, 10)                7850      \n",
            "                                                                 \n",
            "=================================================================\n",
            "Total params: 7,850\n",
            "Trainable params: 7,850\n",
            "Non-trainable params: 0\n",
            "_________________________________________________________________\n"
          ]
        }
      ],
      "source": [
        "model_logit = Sequential([\n",
        "    Dense(units=10, activation='softmax', input_shape=(784, ))\n",
        "])\n",
        "\n",
        "model_logit.summary()"
      ]
    },
    {
      "cell_type": "code",
      "execution_count": 36,
      "id": "d89662b1-760c-44f5-af09-45bec8149807",
      "metadata": {
        "colab": {
          "base_uri": "https://localhost:8080/"
        },
        "id": "d89662b1-760c-44f5-af09-45bec8149807",
        "outputId": "b6c159f9-a278-4249-8a5b-d385d934ebc0"
      },
      "outputs": [
        {
          "output_type": "stream",
          "name": "stdout",
          "text": [
            "313/313 [==============================] - 0s 1ms/step\n"
          ]
        },
        {
          "output_type": "execute_result",
          "data": {
            "text/plain": [
              "0.927"
            ]
          },
          "metadata": {},
          "execution_count": 36
        }
      ],
      "source": [
        "model_logit.compile(\n",
        "    optimizer=tf.keras.optimizers.RMSprop(),\n",
        "    loss=tf.keras.losses.CategoricalCrossentropy(),\n",
        "    metrics=[tf.keras.metrics.Accuracy(),]\n",
        ")\n",
        "\n",
        "model_logit.fit(X_train, y_train, \n",
        "                batch_size=128, epochs=30, \n",
        "                validation_split=0.2, verbose=0)\n",
        "\n",
        "(model_logit.predict(X_test).argmax(axis=1) == y_test.argmax(axis=1)).mean()"
      ]
    },
    {
      "cell_type": "markdown",
      "id": "2f61a2c5-f9ba-4313-add6-9e8bcd423163",
      "metadata": {
        "tags": [],
        "id": "2f61a2c5-f9ba-4313-add6-9e8bcd423163"
      },
      "source": [
        "# 3. Convolutional Neural Networks"
      ]
    },
    {
      "cell_type": "code",
      "execution_count": 37,
      "id": "af438f40-1b55-434a-b038-a2fa5ebf0a2a",
      "metadata": {
        "id": "af438f40-1b55-434a-b038-a2fa5ebf0a2a"
      },
      "outputs": [],
      "source": [
        "from tensorflow.keras.layers import Conv2D, MaxPooling2D, Flatten"
      ]
    },
    {
      "cell_type": "code",
      "execution_count": 38,
      "id": "fa1bc8f9-2c3f-4f2f-a012-6f39114cbf1c",
      "metadata": {
        "colab": {
          "base_uri": "https://localhost:8080/"
        },
        "id": "fa1bc8f9-2c3f-4f2f-a012-6f39114cbf1c",
        "outputId": "a540c05b-5d3a-4496-a0a7-a710bd997cc8"
      },
      "outputs": [
        {
          "output_type": "stream",
          "name": "stdout",
          "text": [
            "Downloading data from https://www.cs.toronto.edu/~kriz/cifar-100-python.tar.gz\n",
            "169001437/169001437 [==============================] - 13s 0us/step\n"
          ]
        }
      ],
      "source": [
        "cifair100 = tf.keras.datasets.cifar100.load_data()"
      ]
    },
    {
      "cell_type": "code",
      "execution_count": 39,
      "id": "a8cb9d8c-d556-4c78-8b75-b01839efbfcb",
      "metadata": {
        "id": "a8cb9d8c-d556-4c78-8b75-b01839efbfcb"
      },
      "outputs": [],
      "source": [
        "(X_train, y_train), (X_test, y_test) = cifair100"
      ]
    },
    {
      "cell_type": "code",
      "execution_count": 40,
      "id": "6c8b5f97-ab37-4695-a1c6-e11ac9486383",
      "metadata": {
        "colab": {
          "base_uri": "https://localhost:8080/"
        },
        "id": "6c8b5f97-ab37-4695-a1c6-e11ac9486383",
        "outputId": "20af7590-368a-4062-d7b2-5803b9632133"
      },
      "outputs": [
        {
          "output_type": "execute_result",
          "data": {
            "text/plain": [
              "(50000, 32, 32, 3)"
            ]
          },
          "metadata": {},
          "execution_count": 40
        }
      ],
      "source": [
        "X_train.shape"
      ]
    },
    {
      "cell_type": "code",
      "execution_count": 41,
      "id": "75cda9a4-558b-4422-ad52-9953a69ebeaf",
      "metadata": {
        "colab": {
          "base_uri": "https://localhost:8080/"
        },
        "id": "75cda9a4-558b-4422-ad52-9953a69ebeaf",
        "outputId": "15938488-9945-4dee-f286-c3092444607d"
      },
      "outputs": [
        {
          "output_type": "execute_result",
          "data": {
            "text/plain": [
              "(10000, 32, 32, 3)"
            ]
          },
          "metadata": {},
          "execution_count": 41
        }
      ],
      "source": [
        "X_test.shape"
      ]
    },
    {
      "cell_type": "code",
      "execution_count": 42,
      "id": "b7773d55-a92e-40f5-9a38-fe5c36e87ba2",
      "metadata": {
        "colab": {
          "base_uri": "https://localhost:8080/"
        },
        "id": "b7773d55-a92e-40f5-9a38-fe5c36e87ba2",
        "outputId": "4c650038-2aaf-40a5-917c-6807c38c59eb"
      },
      "outputs": [
        {
          "output_type": "execute_result",
          "data": {
            "text/plain": [
              "(50000, 1)"
            ]
          },
          "metadata": {},
          "execution_count": 42
        }
      ],
      "source": [
        "y_train.shape"
      ]
    },
    {
      "cell_type": "code",
      "execution_count": 43,
      "id": "3a4e7f61-5e84-4509-86e9-62d737c334ac",
      "metadata": {
        "colab": {
          "base_uri": "https://localhost:8080/"
        },
        "id": "3a4e7f61-5e84-4509-86e9-62d737c334ac",
        "outputId": "337ecc91-8d13-401c-aa24-d3044164b20e"
      },
      "outputs": [
        {
          "output_type": "execute_result",
          "data": {
            "text/plain": [
              "(10000, 1)"
            ]
          },
          "metadata": {},
          "execution_count": 43
        }
      ],
      "source": [
        "y_test.shape"
      ]
    },
    {
      "cell_type": "code",
      "execution_count": 44,
      "id": "5d38768e-3d1f-4a4f-864e-1789a658ca1b",
      "metadata": {
        "colab": {
          "base_uri": "https://localhost:8080/"
        },
        "id": "5d38768e-3d1f-4a4f-864e-1789a658ca1b",
        "outputId": "59a70e47-9563-4abb-9b58-711899b6ad5a"
      },
      "outputs": [
        {
          "output_type": "execute_result",
          "data": {
            "text/plain": [
              "(0, 255)"
            ]
          },
          "metadata": {},
          "execution_count": 44
        }
      ],
      "source": [
        "X_train.min(), X_train.max()"
      ]
    },
    {
      "cell_type": "code",
      "execution_count": 45,
      "id": "3e90d272-1a19-44f2-b45c-a5e4701543ce",
      "metadata": {
        "id": "3e90d272-1a19-44f2-b45c-a5e4701543ce"
      },
      "outputs": [],
      "source": [
        "X_train = X_train / 255\n",
        "X_test = X_test / 255"
      ]
    },
    {
      "cell_type": "code",
      "execution_count": 46,
      "id": "3eefc32f-ba85-4ba7-8f65-1b50e79cfcfd",
      "metadata": {
        "id": "3eefc32f-ba85-4ba7-8f65-1b50e79cfcfd"
      },
      "outputs": [],
      "source": [
        "y_train = pd.get_dummies(y_train.squeeze()).values\n",
        "y_test = pd.get_dummies(y_test.squeeze()).values"
      ]
    },
    {
      "cell_type": "code",
      "execution_count": 47,
      "id": "bf8974ae-2cd7-4b0c-9efd-d0ed3bd36d72",
      "metadata": {
        "colab": {
          "base_uri": "https://localhost:8080/"
        },
        "id": "bf8974ae-2cd7-4b0c-9efd-d0ed3bd36d72",
        "outputId": "39c10fb9-f099-4707-c446-f9491ec40444"
      },
      "outputs": [
        {
          "output_type": "execute_result",
          "data": {
            "text/plain": [
              "(50000, 100)"
            ]
          },
          "metadata": {},
          "execution_count": 47
        }
      ],
      "source": [
        "y_train.shape"
      ]
    },
    {
      "cell_type": "code",
      "execution_count": 48,
      "id": "d4fd5d94-248b-4082-917d-a8f6e89625c1",
      "metadata": {
        "colab": {
          "base_uri": "https://localhost:8080/",
          "height": 846
        },
        "id": "d4fd5d94-248b-4082-917d-a8f6e89625c1",
        "outputId": "ac514a41-f937-4182-cd13-38b2451fe0cf"
      },
      "outputs": [
        {
          "output_type": "display_data",
          "data": {
            "text/plain": [
              "<Figure size 1080x1080 with 25 Axes>"
            ],
            "image/png": "[encoded data removed]"
          },
          "metadata": {
            "needs_background": "light"
          }
        }
      ],
      "source": [
        "fig, axes = plt.subplots(5, 5, figsize=(15, 15))\n",
        "\n",
        "for i, ax in enumerate(axes.flatten()):\n",
        "    ax.axis('off')\n",
        "    ax.imshow(X_train[i])"
      ]
    },
    {
      "cell_type": "code",
      "execution_count": 49,
      "id": "e3daa583-ede5-4877-9e2c-e4c6fe95e74e",
      "metadata": {
        "id": "e3daa583-ede5-4877-9e2c-e4c6fe95e74e"
      },
      "outputs": [],
      "source": [
        "model = Sequential([\n",
        "    Conv2D(filters=32, kernel_size=(3, 3), input_shape=(32, 32, 3), \n",
        "           activation='relu', padding='same'),\n",
        "    MaxPooling2D(pool_size=(2, 2)),\n",
        "    Conv2D(filters=64, kernel_size=(3, 3),\n",
        "           padding='same', activation='relu'),\n",
        "    MaxPooling2D(pool_size=(2, 2)),\n",
        "    Conv2D(filters=128, kernel_size=(3, 3),\n",
        "           padding='same', activation='relu'),\n",
        "    MaxPooling2D(pool_size=(2, 2)), \n",
        "    Conv2D(filters=256, kernel_size=(3, 3),\n",
        "           padding='same', activation='relu'),\n",
        "    MaxPooling2D(pool_size=(2, 2)),\n",
        "    Flatten(),\n",
        "    Dropout(rate=0.5),\n",
        "    Dense(units=512, activation='relu'),\n",
        "    Dense(units=100, activation='softmax')\n",
        "])"
      ]
    },
    {
      "cell_type": "code",
      "execution_count": 50,
      "id": "914e0599-ea70-4697-bb8b-e5dd9bc3fcc4",
      "metadata": {
        "colab": {
          "base_uri": "https://localhost:8080/"
        },
        "id": "914e0599-ea70-4697-bb8b-e5dd9bc3fcc4",
        "outputId": "c45ef7ea-b99e-41f5-8c4c-accd060cf8c2"
      },
      "outputs": [
        {
          "output_type": "stream",
          "name": "stdout",
          "text": [
            "Model: \"sequential_3\"\n",
            "_________________________________________________________________\n",
            " Layer (type)                Output Shape              Param #   \n",
            "=================================================================\n",
            " conv2d (Conv2D)             (None, 32, 32, 32)        896       \n",
            "                                                                 \n",
            " max_pooling2d (MaxPooling2D  (None, 16, 16, 32)       0         \n",
            " )                                                               \n",
            "                                                                 \n",
            " conv2d_1 (Conv2D)           (None, 16, 16, 64)        18496     \n",
            "                                                                 \n",
            " max_pooling2d_1 (MaxPooling  (None, 8, 8, 64)         0         \n",
            " 2D)                                                             \n",
            "                                                                 \n",
            " conv2d_2 (Conv2D)           (None, 8, 8, 128)         73856     \n",
            "                                                                 \n",
            " max_pooling2d_2 (MaxPooling  (None, 4, 4, 128)        0         \n",
            " 2D)                                                             \n",
            "                                                                 \n",
            " conv2d_3 (Conv2D)           (None, 4, 4, 256)         295168    \n",
            "                                                                 \n",
            " max_pooling2d_3 (MaxPooling  (None, 2, 2, 256)        0         \n",
            " 2D)                                                             \n",
            "                                                                 \n",
            " flatten (Flatten)           (None, 1024)              0         \n",
            "                                                                 \n",
            " dropout_3 (Dropout)         (None, 1024)              0         \n",
            "                                                                 \n",
            " dense_6 (Dense)             (None, 512)               524800    \n",
            "                                                                 \n",
            " dense_7 (Dense)             (None, 100)               51300     \n",
            "                                                                 \n",
            "=================================================================\n",
            "Total params: 964,516\n",
            "Trainable params: 964,516\n",
            "Non-trainable params: 0\n",
            "_________________________________________________________________\n"
          ]
        }
      ],
      "source": [
        "model.summary()"
      ]
    },
    {
      "cell_type": "code",
      "execution_count": 51,
      "id": "f2a09ebb-b144-4ffe-b399-63c47fde52ac",
      "metadata": {
        "id": "f2a09ebb-b144-4ffe-b399-63c47fde52ac"
      },
      "outputs": [],
      "source": [
        "model.compile(loss='categorical_crossentropy',\n",
        "              metrics=['accuracy', ])"
      ]
    },
    {
      "cell_type": "code",
      "execution_count": 52,
      "id": "c3561818-97ee-4ad4-aa2d-d52567dce338",
      "metadata": {
        "id": "c3561818-97ee-4ad4-aa2d-d52567dce338"
      },
      "outputs": [],
      "source": [
        "history_model = model.fit(X_train, y_train, verbose=0,\n",
        "                         epochs=30, batch_size=128, validation_split=0.2)"
      ]
    },
    {
      "cell_type": "code",
      "execution_count": 53,
      "id": "b983bdde-5858-4119-9240-87009ffa5a8f",
      "metadata": {
        "colab": {
          "base_uri": "https://localhost:8080/"
        },
        "id": "b983bdde-5858-4119-9240-87009ffa5a8f",
        "outputId": "068810ce-9ecc-4484-b89e-d61e47b5ddd6"
      },
      "outputs": [
        {
          "output_type": "stream",
          "name": "stdout",
          "text": [
            "313/313 [==============================] - 1s 2ms/step\n"
          ]
        },
        {
          "output_type": "execute_result",
          "data": {
            "text/plain": [
              "0.4405"
            ]
          },
          "metadata": {},
          "execution_count": 53
        }
      ],
      "source": [
        "(model.predict(X_test).argmax(axis=1) == y_test.argmax(axis=1)).mean()"
      ]
    },
    {
      "cell_type": "markdown",
      "id": "de99d479-8a8b-47e6-a97f-d19a48c64298",
      "metadata": {
        "tags": [],
        "id": "de99d479-8a8b-47e6-a97f-d19a48c64298"
      },
      "source": [
        "# 4. Using Pretrained CNN Models"
      ]
    },
    {
      "cell_type": "code",
      "execution_count": 54,
      "id": "e7cb8b06-e312-40fd-9ad8-de657162c304",
      "metadata": {
        "id": "e7cb8b06-e312-40fd-9ad8-de657162c304"
      },
      "outputs": [],
      "source": [
        "import os\n",
        "from tensorflow.keras.preprocessing.image import load_img, img_to_array\n",
        "from tensorflow.keras.applications.resnet50 import preprocess_input, decode_predictions, ResNet50"
      ]
    },
    {
      "cell_type": "code",
      "execution_count": 55,
      "id": "9d93051d-12cd-4782-bba2-1b2f82bf1a49",
      "metadata": {
        "id": "9d93051d-12cd-4782-bba2-1b2f82bf1a49"
      },
      "outputs": [],
      "source": [
        "image_dir = 'data/book_images/'\n",
        "image_names = os.listdir(image_dir)"
      ]
    },
    {
      "cell_type": "code",
      "execution_count": 56,
      "id": "0cd3cc01-b41f-46ef-af7c-a183d629deb6",
      "metadata": {
        "colab": {
          "base_uri": "https://localhost:8080/",
          "height": 287
        },
        "id": "0cd3cc01-b41f-46ef-af7c-a183d629deb6",
        "outputId": "5fdc9929-96f6-4045-eeeb-b7db79212a1a"
      },
      "outputs": [
        {
          "output_type": "execute_result",
          "data": {
            "text/plain": [
              "<matplotlib.image.AxesImage at 0x7f6540f51350>"
            ]
          },
          "metadata": {},
          "execution_count": 56
        },
        {
          "output_type": "display_data",
          "data": {
            "text/plain": [
              "<Figure size 432x288 with 1 Axes>"
            ],
            "image/png": "[encoded data removed]"
          },
          "metadata": {
            "needs_background": "light"
          }
        }
      ],
      "source": [
        "img = plt.imread('data/book_images/flamingo.jpg')\n",
        "plt.imshow(img)"
      ]
    },
    {
      "cell_type": "code",
      "execution_count": 57,
      "id": "5a685c78-3a9e-4e33-872e-b45e04acd175",
      "metadata": {
        "id": "5a685c78-3a9e-4e33-872e-b45e04acd175"
      },
      "outputs": [],
      "source": [
        "num_images = len(image_names)\n",
        "x = np.zeros((num_images, 224, 224, 3))\n",
        "\n",
        "for i in range(num_images):\n",
        "    img_path = image_dir + image_names[i]\n",
        "    img = load_img(img_path, target_size=(224, 224))\n",
        "    x[i] = img_to_array(img)"
      ]
    },
    {
      "cell_type": "code",
      "execution_count": 58,
      "id": "0419b925-8372-48f0-bf0f-e78f95d8bf74",
      "metadata": {
        "colab": {
          "base_uri": "https://localhost:8080/",
          "height": 287
        },
        "id": "0419b925-8372-48f0-bf0f-e78f95d8bf74",
        "outputId": "2dd33029-b552-4521-98fb-635c2316e5fa"
      },
      "outputs": [
        {
          "output_type": "execute_result",
          "data": {
            "text/plain": [
              "<matplotlib.image.AxesImage at 0x7f6540f35ed0>"
            ]
          },
          "metadata": {},
          "execution_count": 58
        },
        {
          "output_type": "display_data",
          "data": {
            "text/plain": [
              "<Figure size 432x288 with 1 Axes>"
            ],
            "image/png": "[encoded data removed]"
          },
          "metadata": {
            "needs_background": "light"
          }
        }
      ],
      "source": [
        "plt.imshow(x[0] / 255)"
      ]
    },
    {
      "cell_type": "code",
      "execution_count": 59,
      "id": "ec7d87e6-0e38-4bf3-af93-d0da5450ed6e",
      "metadata": {
        "id": "ec7d87e6-0e38-4bf3-af93-d0da5450ed6e"
      },
      "outputs": [],
      "source": [
        "x = preprocess_input(x)"
      ]
    },
    {
      "cell_type": "code",
      "execution_count": 60,
      "id": "894ed7a1-9aed-453f-a8c5-f5cd21ef60f5",
      "metadata": {
        "colab": {
          "base_uri": "https://localhost:8080/"
        },
        "id": "894ed7a1-9aed-453f-a8c5-f5cd21ef60f5",
        "outputId": "74c79ff6-6be2-4832-b24d-dd9810af93c7"
      },
      "outputs": [
        {
          "output_type": "stream",
          "name": "stdout",
          "text": [
            "Downloading data from https://storage.googleapis.com/tensorflow/keras-applications/resnet/resnet50_weights_tf_dim_ordering_tf_kernels.h5\n",
            "102967424/102967424 [==============================] - 1s 0us/step\n"
          ]
        }
      ],
      "source": [
        "model = ResNet50()"
      ]
    },
    {
      "cell_type": "code",
      "execution_count": 61,
      "id": "2a92d026-4baa-4bfb-afb7-7d0302330db6",
      "metadata": {
        "colab": {
          "base_uri": "https://localhost:8080/"
        },
        "id": "2a92d026-4baa-4bfb-afb7-7d0302330db6",
        "outputId": "04eb4264-0bd0-4e8f-8ca4-a8f8ef85403b"
      },
      "outputs": [
        {
          "output_type": "stream",
          "name": "stdout",
          "text": [
            "Model: \"resnet50\"\n",
            "__________________________________________________________________________________________________\n",
            " Layer (type)                   Output Shape         Param #     Connected to                     \n",
            "==================================================================================================\n",
            " input_1 (InputLayer)           [(None, 224, 224, 3  0           []                               \n",
            "                                )]                                                                \n",
            "                                                                                                  \n",
            " conv1_pad (ZeroPadding2D)      (None, 230, 230, 3)  0           ['input_1[0][0]']                \n",
            "                                                                                                  \n",
            " conv1_conv (Conv2D)            (None, 112, 112, 64  9472        ['conv1_pad[0][0]']              \n",
            "                                )                                                                 \n",
            "                                                                                                  \n",
            " conv1_bn (BatchNormalization)  (None, 112, 112, 64  256         ['conv1_conv[0][0]']             \n",
            "                                )                                                                 \n",
            "                                                                                                  \n",
            " conv1_relu (Activation)        (None, 112, 112, 64  0           ['conv1_bn[0][0]']               \n",
            "                                )                                                                 \n",
            "                                                                                                  \n",
            " pool1_pad (ZeroPadding2D)      (None, 114, 114, 64  0           ['conv1_relu[0][0]']             \n",
            "                                )                                                                 \n",
            "                                                                                                  \n",
            " pool1_pool (MaxPooling2D)      (None, 56, 56, 64)   0           ['pool1_pad[0][0]']              \n",
            "                                                                                                  \n",
            " conv2_block1_1_conv (Conv2D)   (None, 56, 56, 64)   4160        ['pool1_pool[0][0]']             \n",
            "                                                                                                  \n",
            " conv2_block1_1_bn (BatchNormal  (None, 56, 56, 64)  256         ['conv2_block1_1_conv[0][0]']    \n",
            " ization)                                                                                         \n",
            "                                                                                                  \n",
            " conv2_block1_1_relu (Activatio  (None, 56, 56, 64)  0           ['conv2_block1_1_bn[0][0]']      \n",
            " n)                                                                                               \n",
            "                                                                                                  \n",
            " conv2_block1_2_conv (Conv2D)   (None, 56, 56, 64)   36928       ['conv2_block1_1_relu[0][0]']    \n",
            "                                                                                                  \n",
            " conv2_block1_2_bn (BatchNormal  (None, 56, 56, 64)  256         ['conv2_block1_2_conv[0][0]']    \n",
            " ization)                                                                                         \n",
            "                                                                                                  \n",
            " conv2_block1_2_relu (Activatio  (None, 56, 56, 64)  0           ['conv2_block1_2_bn[0][0]']      \n",
            " n)                                                                                               \n",
            "                                                                                                  \n",
            " conv2_block1_0_conv (Conv2D)   (None, 56, 56, 256)  16640       ['pool1_pool[0][0]']             \n",
            "                                                                                                  \n",
            " conv2_block1_3_conv (Conv2D)   (None, 56, 56, 256)  16640       ['conv2_block1_2_relu[0][0]']    \n",
            "                                                                                                  \n",
            " conv2_block1_0_bn (BatchNormal  (None, 56, 56, 256)  1024       ['conv2_block1_0_conv[0][0]']    \n",
            " ization)                                                                                         \n",
            "                                                                                                  \n",
            " conv2_block1_3_bn (BatchNormal  (None, 56, 56, 256)  1024       ['conv2_block1_3_conv[0][0]']    \n",
            " ization)                                                                                         \n",
            "                                                                                                  \n",
            " conv2_block1_add (Add)         (None, 56, 56, 256)  0           ['conv2_block1_0_bn[0][0]',      \n",
            "                                                                  'conv2_block1_3_bn[0][0]']      \n",
            "                                                                                                  \n",
            " conv2_block1_out (Activation)  (None, 56, 56, 256)  0           ['conv2_block1_add[0][0]']       \n",
            "                                                                                                  \n",
            " conv2_block2_1_conv (Conv2D)   (None, 56, 56, 64)   16448       ['conv2_block1_out[0][0]']       \n",
            "                                                                                                  \n",
            " conv2_block2_1_bn (BatchNormal  (None, 56, 56, 64)  256         ['conv2_block2_1_conv[0][0]']    \n",
            " ization)                                                                                         \n",
            "                                                                                                  \n",
            " conv2_block2_1_relu (Activatio  (None, 56, 56, 64)  0           ['conv2_block2_1_bn[0][0]']      \n",
            " n)                                                                                               \n",
            "                                                                                                  \n",
            " conv2_block2_2_conv (Conv2D)   (None, 56, 56, 64)   36928       ['conv2_block2_1_relu[0][0]']    \n",
            "                                                                                                  \n",
            " conv2_block2_2_bn (BatchNormal  (None, 56, 56, 64)  256         ['conv2_block2_2_conv[0][0]']    \n",
            " ization)                                                                                         \n",
            "                                                                                                  \n",
            " conv2_block2_2_relu (Activatio  (None, 56, 56, 64)  0           ['conv2_block2_2_bn[0][0]']      \n",
            " n)                                                                                               \n",
            "                                                                                                  \n",
            " conv2_block2_3_conv (Conv2D)   (None, 56, 56, 256)  16640       ['conv2_block2_2_relu[0][0]']    \n",
            "                                                                                                  \n",
            " conv2_block2_3_bn (BatchNormal  (None, 56, 56, 256)  1024       ['conv2_block2_3_conv[0][0]']    \n",
            " ization)                                                                                         \n",
            "                                                                                                  \n",
            " conv2_block2_add (Add)         (None, 56, 56, 256)  0           ['conv2_block1_out[0][0]',       \n",
            "                                                                  'conv2_block2_3_bn[0][0]']      \n",
            "                                                                                                  \n",
            " conv2_block2_out (Activation)  (None, 56, 56, 256)  0           ['conv2_block2_add[0][0]']       \n",
            "                                                                                                  \n",
            " conv2_block3_1_conv (Conv2D)   (None, 56, 56, 64)   16448       ['conv2_block2_out[0][0]']       \n",
            "                                                                                                  \n",
            " conv2_block3_1_bn (BatchNormal  (None, 56, 56, 64)  256         ['conv2_block3_1_conv[0][0]']    \n",
            " ization)                                                                                         \n",
            "                                                                                                  \n",
            " conv2_block3_1_relu (Activatio  (None, 56, 56, 64)  0           ['conv2_block3_1_bn[0][0]']      \n",
            " n)                                                                                               \n",
            "                                                                                                  \n",
            " conv2_block3_2_conv (Conv2D)   (None, 56, 56, 64)   36928       ['conv2_block3_1_relu[0][0]']    \n",
            "                                                                                                  \n",
            " conv2_block3_2_bn (BatchNormal  (None, 56, 56, 64)  256         ['conv2_block3_2_conv[0][0]']    \n",
            " ization)                                                                                         \n",
            "                                                                                                  \n",
            " conv2_block3_2_relu (Activatio  (None, 56, 56, 64)  0           ['conv2_block3_2_bn[0][0]']      \n",
            " n)                                                                                               \n",
            "                                                                                                  \n",
            " conv2_block3_3_conv (Conv2D)   (None, 56, 56, 256)  16640       ['conv2_block3_2_relu[0][0]']    \n",
            "                                                                                                  \n",
            " conv2_block3_3_bn (BatchNormal  (None, 56, 56, 256)  1024       ['conv2_block3_3_conv[0][0]']    \n",
            " ization)                                                                                         \n",
            "                                                                                                  \n",
            " conv2_block3_add (Add)         (None, 56, 56, 256)  0           ['conv2_block2_out[0][0]',       \n",
            "                                                                  'conv2_block3_3_bn[0][0]']      \n",
            "                                                                                                  \n",
            " conv2_block3_out (Activation)  (None, 56, 56, 256)  0           ['conv2_block3_add[0][0]']       \n",
            "                                                                                                  \n",
            " conv3_block1_1_conv (Conv2D)   (None, 28, 28, 128)  32896       ['conv2_block3_out[0][0]']       \n",
            "                                                                                                  \n",
            " conv3_block1_1_bn (BatchNormal  (None, 28, 28, 128)  512        ['conv3_block1_1_conv[0][0]']    \n",
            " ization)                                                                                         \n",
            "                                                                                                  \n",
            " conv3_block1_1_relu (Activatio  (None, 28, 28, 128)  0          ['conv3_block1_1_bn[0][0]']      \n",
            " n)                                                                                               \n",
            "                                                                                                  \n",
            " conv3_block1_2_conv (Conv2D)   (None, 28, 28, 128)  147584      ['conv3_block1_1_relu[0][0]']    \n",
            "                                                                                                  \n",
            " conv3_block1_2_bn (BatchNormal  (None, 28, 28, 128)  512        ['conv3_block1_2_conv[0][0]']    \n",
            " ization)                                                                                         \n",
            "                                                                                                  \n",
            " conv3_block1_2_relu (Activatio  (None, 28, 28, 128)  0          ['conv3_block1_2_bn[0][0]']      \n",
            " n)                                                                                               \n",
            "                                                                                                  \n",
            " conv3_block1_0_conv (Conv2D)   (None, 28, 28, 512)  131584      ['conv2_block3_out[0][0]']       \n",
            "                                                                                                  \n",
            " conv3_block1_3_conv (Conv2D)   (None, 28, 28, 512)  66048       ['conv3_block1_2_relu[0][0]']    \n",
            "                                                                                                  \n",
            " conv3_block1_0_bn (BatchNormal  (None, 28, 28, 512)  2048       ['conv3_block1_0_conv[0][0]']    \n",
            " ization)                                                                                         \n",
            "                                                                                                  \n",
            " conv3_block1_3_bn (BatchNormal  (None, 28, 28, 512)  2048       ['conv3_block1_3_conv[0][0]']    \n",
            " ization)                                                                                         \n",
            "                                                                                                  \n",
            " conv3_block1_add (Add)         (None, 28, 28, 512)  0           ['conv3_block1_0_bn[0][0]',      \n",
            "                                                                  'conv3_block1_3_bn[0][0]']      \n",
            "                                                                                                  \n",
            " conv3_block1_out (Activation)  (None, 28, 28, 512)  0           ['conv3_block1_add[0][0]']       \n",
            "                                                                                                  \n",
            " conv3_block2_1_conv (Conv2D)   (None, 28, 28, 128)  65664       ['conv3_block1_out[0][0]']       \n",
            "                                                                                                  \n",
            " conv3_block2_1_bn (BatchNormal  (None, 28, 28, 128)  512        ['conv3_block2_1_conv[0][0]']    \n",
            " ization)                                                                                         \n",
            "                                                                                                  \n",
            " conv3_block2_1_relu (Activatio  (None, 28, 28, 128)  0          ['conv3_block2_1_bn[0][0]']      \n",
            " n)                                                                                               \n",
            "                                                                                                  \n",
            " conv3_block2_2_conv (Conv2D)   (None, 28, 28, 128)  147584      ['conv3_block2_1_relu[0][0]']    \n",
            "                                                                                                  \n",
            " conv3_block2_2_bn (BatchNormal  (None, 28, 28, 128)  512        ['conv3_block2_2_conv[0][0]']    \n",
            " ization)                                                                                         \n",
            "                                                                                                  \n",
            " conv3_block2_2_relu (Activatio  (None, 28, 28, 128)  0          ['conv3_block2_2_bn[0][0]']      \n",
            " n)                                                                                               \n",
            "                                                                                                  \n",
            " conv3_block2_3_conv (Conv2D)   (None, 28, 28, 512)  66048       ['conv3_block2_2_relu[0][0]']    \n",
            "                                                                                                  \n",
            " conv3_block2_3_bn (BatchNormal  (None, 28, 28, 512)  2048       ['conv3_block2_3_conv[0][0]']    \n",
            " ization)                                                                                         \n",
            "                                                                                                  \n",
            " conv3_block2_add (Add)         (None, 28, 28, 512)  0           ['conv3_block1_out[0][0]',       \n",
            "                                                                  'conv3_block2_3_bn[0][0]']      \n",
            "                                                                                                  \n",
            " conv3_block2_out (Activation)  (None, 28, 28, 512)  0           ['conv3_block2_add[0][0]']       \n",
            "                                                                                                  \n",
            " conv3_block3_1_conv (Conv2D)   (None, 28, 28, 128)  65664       ['conv3_block2_out[0][0]']       \n",
            "                                                                                                  \n",
            " conv3_block3_1_bn (BatchNormal  (None, 28, 28, 128)  512        ['conv3_block3_1_conv[0][0]']    \n",
            " ization)                                                                                         \n",
            "                                                                                                  \n",
            " conv3_block3_1_relu (Activatio  (None, 28, 28, 128)  0          ['conv3_block3_1_bn[0][0]']      \n",
            " n)                                                                                               \n",
            "                                                                                                  \n",
            " conv3_block3_2_conv (Conv2D)   (None, 28, 28, 128)  147584      ['conv3_block3_1_relu[0][0]']    \n",
            "                                                                                                  \n",
            " conv3_block3_2_bn (BatchNormal  (None, 28, 28, 128)  512        ['conv3_block3_2_conv[0][0]']    \n",
            " ization)                                                                                         \n",
            "                                                                                                  \n",
            " conv3_block3_2_relu (Activatio  (None, 28, 28, 128)  0          ['conv3_block3_2_bn[0][0]']      \n",
            " n)                                                                                               \n",
            "                                                                                                  \n",
            " conv3_block3_3_conv (Conv2D)   (None, 28, 28, 512)  66048       ['conv3_block3_2_relu[0][0]']    \n",
            "                                                                                                  \n",
            " conv3_block3_3_bn (BatchNormal  (None, 28, 28, 512)  2048       ['conv3_block3_3_conv[0][0]']    \n",
            " ization)                                                                                         \n",
            "                                                                                                  \n",
            " conv3_block3_add (Add)         (None, 28, 28, 512)  0           ['conv3_block2_out[0][0]',       \n",
            "                                                                  'conv3_block3_3_bn[0][0]']      \n",
            "                                                                                                  \n",
            " conv3_block3_out (Activation)  (None, 28, 28, 512)  0           ['conv3_block3_add[0][0]']       \n",
            "                                                                                                  \n",
            " conv3_block4_1_conv (Conv2D)   (None, 28, 28, 128)  65664       ['conv3_block3_out[0][0]']       \n",
            "                                                                                                  \n",
            " conv3_block4_1_bn (BatchNormal  (None, 28, 28, 128)  512        ['conv3_block4_1_conv[0][0]']    \n",
            " ization)                                                                                         \n",
            "                                                                                                  \n",
            " conv3_block4_1_relu (Activatio  (None, 28, 28, 128)  0          ['conv3_block4_1_bn[0][0]']      \n",
            " n)                                                                                               \n",
            "                                                                                                  \n",
            " conv3_block4_2_conv (Conv2D)   (None, 28, 28, 128)  147584      ['conv3_block4_1_relu[0][0]']    \n",
            "                                                                                                  \n",
            " conv3_block4_2_bn (BatchNormal  (None, 28, 28, 128)  512        ['conv3_block4_2_conv[0][0]']    \n",
            " ization)                                                                                         \n",
            "                                                                                                  \n",
            " conv3_block4_2_relu (Activatio  (None, 28, 28, 128)  0          ['conv3_block4_2_bn[0][0]']      \n",
            " n)                                                                                               \n",
            "                                                                                                  \n",
            " conv3_block4_3_conv (Conv2D)   (None, 28, 28, 512)  66048       ['conv3_block4_2_relu[0][0]']    \n",
            "                                                                                                  \n",
            " conv3_block4_3_bn (BatchNormal  (None, 28, 28, 512)  2048       ['conv3_block4_3_conv[0][0]']    \n",
            " ization)                                                                                         \n",
            "                                                                                                  \n",
            " conv3_block4_add (Add)         (None, 28, 28, 512)  0           ['conv3_block3_out[0][0]',       \n",
            "                                                                  'conv3_block4_3_bn[0][0]']      \n",
            "                                                                                                  \n",
            " conv3_block4_out (Activation)  (None, 28, 28, 512)  0           ['conv3_block4_add[0][0]']       \n",
            "                                                                                                  \n",
            " conv4_block1_1_conv (Conv2D)   (None, 14, 14, 256)  131328      ['conv3_block4_out[0][0]']       \n",
            "                                                                                                  \n",
            " conv4_block1_1_bn (BatchNormal  (None, 14, 14, 256)  1024       ['conv4_block1_1_conv[0][0]']    \n",
            " ization)                                                                                         \n",
            "                                                                                                  \n",
            " conv4_block1_1_relu (Activatio  (None, 14, 14, 256)  0          ['conv4_block1_1_bn[0][0]']      \n",
            " n)                                                                                               \n",
            "                                                                                                  \n",
            " conv4_block1_2_conv (Conv2D)   (None, 14, 14, 256)  590080      ['conv4_block1_1_relu[0][0]']    \n",
            "                                                                                                  \n",
            " conv4_block1_2_bn (BatchNormal  (None, 14, 14, 256)  1024       ['conv4_block1_2_conv[0][0]']    \n",
            " ization)                                                                                         \n",
            "                                                                                                  \n",
            " conv4_block1_2_relu (Activatio  (None, 14, 14, 256)  0          ['conv4_block1_2_bn[0][0]']      \n",
            " n)                                                                                               \n",
            "                                                                                                  \n",
            " conv4_block1_0_conv (Conv2D)   (None, 14, 14, 1024  525312      ['conv3_block4_out[0][0]']       \n",
            "                                )                                                                 \n",
            "                                                                                                  \n",
            " conv4_block1_3_conv (Conv2D)   (None, 14, 14, 1024  263168      ['conv4_block1_2_relu[0][0]']    \n",
            "                                )                                                                 \n",
            "                                                                                                  \n",
            " conv4_block1_0_bn (BatchNormal  (None, 14, 14, 1024  4096       ['conv4_block1_0_conv[0][0]']    \n",
            " ization)                       )                                                                 \n",
            "                                                                                                  \n",
            " conv4_block1_3_bn (BatchNormal  (None, 14, 14, 1024  4096       ['conv4_block1_3_conv[0][0]']    \n",
            " ization)                       )                                                                 \n",
            "                                                                                                  \n",
            " conv4_block1_add (Add)         (None, 14, 14, 1024  0           ['conv4_block1_0_bn[0][0]',      \n",
            "                                )                                 'conv4_block1_3_bn[0][0]']      \n",
            "                                                                                                  \n",
            " conv4_block1_out (Activation)  (None, 14, 14, 1024  0           ['conv4_block1_add[0][0]']       \n",
            "                                )                                                                 \n",
            "                                                                                                  \n",
            " conv4_block2_1_conv (Conv2D)   (None, 14, 14, 256)  262400      ['conv4_block1_out[0][0]']       \n",
            "                                                                                                  \n",
            " conv4_block2_1_bn (BatchNormal  (None, 14, 14, 256)  1024       ['conv4_block2_1_conv[0][0]']    \n",
            " ization)                                                                                         \n",
            "                                                                                                  \n",
            " conv4_block2_1_relu (Activatio  (None, 14, 14, 256)  0          ['conv4_block2_1_bn[0][0]']      \n",
            " n)                                                                                               \n",
            "                                                                                                  \n",
            " conv4_block2_2_conv (Conv2D)   (None, 14, 14, 256)  590080      ['conv4_block2_1_relu[0][0]']    \n",
            "                                                                                                  \n",
            " conv4_block2_2_bn (BatchNormal  (None, 14, 14, 256)  1024       ['conv4_block2_2_conv[0][0]']    \n",
            " ization)                                                                                         \n",
            "                                                                                                  \n",
            " conv4_block2_2_relu (Activatio  (None, 14, 14, 256)  0          ['conv4_block2_2_bn[0][0]']      \n",
            " n)                                                                                               \n",
            "                                                                                                  \n",
            " conv4_block2_3_conv (Conv2D)   (None, 14, 14, 1024  263168      ['conv4_block2_2_relu[0][0]']    \n",
            "                                )                                                                 \n",
            "                                                                                                  \n",
            " conv4_block2_3_bn (BatchNormal  (None, 14, 14, 1024  4096       ['conv4_block2_3_conv[0][0]']    \n",
            " ization)                       )                                                                 \n",
            "                                                                                                  \n",
            " conv4_block2_add (Add)         (None, 14, 14, 1024  0           ['conv4_block1_out[0][0]',       \n",
            "                                )                                 'conv4_block2_3_bn[0][0]']      \n",
            "                                                                                                  \n",
            " conv4_block2_out (Activation)  (None, 14, 14, 1024  0           ['conv4_block2_add[0][0]']       \n",
            "                                )                                                                 \n",
            "                                                                                                  \n",
            " conv4_block3_1_conv (Conv2D)   (None, 14, 14, 256)  262400      ['conv4_block2_out[0][0]']       \n",
            "                                                                                                  \n",
            " conv4_block3_1_bn (BatchNormal  (None, 14, 14, 256)  1024       ['conv4_block3_1_conv[0][0]']    \n",
            " ization)                                                                                         \n",
            "                                                                                                  \n",
            " conv4_block3_1_relu (Activatio  (None, 14, 14, 256)  0          ['conv4_block3_1_bn[0][0]']      \n",
            " n)                                                                                               \n",
            "                                                                                                  \n",
            " conv4_block3_2_conv (Conv2D)   (None, 14, 14, 256)  590080      ['conv4_block3_1_relu[0][0]']    \n",
            "                                                                                                  \n",
            " conv4_block3_2_bn (BatchNormal  (None, 14, 14, 256)  1024       ['conv4_block3_2_conv[0][0]']    \n",
            " ization)                                                                                         \n",
            "                                                                                                  \n",
            " conv4_block3_2_relu (Activatio  (None, 14, 14, 256)  0          ['conv4_block3_2_bn[0][0]']      \n",
            " n)                                                                                               \n",
            "                                                                                                  \n",
            " conv4_block3_3_conv (Conv2D)   (None, 14, 14, 1024  263168      ['conv4_block3_2_relu[0][0]']    \n",
            "                                )                                                                 \n",
            "                                                                                                  \n",
            " conv4_block3_3_bn (BatchNormal  (None, 14, 14, 1024  4096       ['conv4_block3_3_conv[0][0]']    \n",
            " ization)                       )                                                                 \n",
            "                                                                                                  \n",
            " conv4_block3_add (Add)         (None, 14, 14, 1024  0           ['conv4_block2_out[0][0]',       \n",
            "                                )                                 'conv4_block3_3_bn[0][0]']      \n",
            "                                                                                                  \n",
            " conv4_block3_out (Activation)  (None, 14, 14, 1024  0           ['conv4_block3_add[0][0]']       \n",
            "                                )                                                                 \n",
            "                                                                                                  \n",
            " conv4_block4_1_conv (Conv2D)   (None, 14, 14, 256)  262400      ['conv4_block3_out[0][0]']       \n",
            "                                                                                                  \n",
            " conv4_block4_1_bn (BatchNormal  (None, 14, 14, 256)  1024       ['conv4_block4_1_conv[0][0]']    \n",
            " ization)                                                                                         \n",
            "                                                                                                  \n",
            " conv4_block4_1_relu (Activatio  (None, 14, 14, 256)  0          ['conv4_block4_1_bn[0][0]']      \n",
            " n)                                                                                               \n",
            "                                                                                                  \n",
            " conv4_block4_2_conv (Conv2D)   (None, 14, 14, 256)  590080      ['conv4_block4_1_relu[0][0]']    \n",
            "                                                                                                  \n",
            " conv4_block4_2_bn (BatchNormal  (None, 14, 14, 256)  1024       ['conv4_block4_2_conv[0][0]']    \n",
            " ization)                                                                                         \n",
            "                                                                                                  \n",
            " conv4_block4_2_relu (Activatio  (None, 14, 14, 256)  0          ['conv4_block4_2_bn[0][0]']      \n",
            " n)                                                                                               \n",
            "                                                                                                  \n",
            " conv4_block4_3_conv (Conv2D)   (None, 14, 14, 1024  263168      ['conv4_block4_2_relu[0][0]']    \n",
            "                                )                                                                 \n",
            "                                                                                                  \n",
            " conv4_block4_3_bn (BatchNormal  (None, 14, 14, 1024  4096       ['conv4_block4_3_conv[0][0]']    \n",
            " ization)                       )                                                                 \n",
            "                                                                                                  \n",
            " conv4_block4_add (Add)         (None, 14, 14, 1024  0           ['conv4_block3_out[0][0]',       \n",
            "                                )                                 'conv4_block4_3_bn[0][0]']      \n",
            "                                                                                                  \n",
            " conv4_block4_out (Activation)  (None, 14, 14, 1024  0           ['conv4_block4_add[0][0]']       \n",
            "                                )                                                                 \n",
            "                                                                                                  \n",
            " conv4_block5_1_conv (Conv2D)   (None, 14, 14, 256)  262400      ['conv4_block4_out[0][0]']       \n",
            "                                                                                                  \n",
            " conv4_block5_1_bn (BatchNormal  (None, 14, 14, 256)  1024       ['conv4_block5_1_conv[0][0]']    \n",
            " ization)                                                                                         \n",
            "                                                                                                  \n",
            " conv4_block5_1_relu (Activatio  (None, 14, 14, 256)  0          ['conv4_block5_1_bn[0][0]']      \n",
            " n)                                                                                               \n",
            "                                                                                                  \n",
            " conv4_block5_2_conv (Conv2D)   (None, 14, 14, 256)  590080      ['conv4_block5_1_relu[0][0]']    \n",
            "                                                                                                  \n",
            " conv4_block5_2_bn (BatchNormal  (None, 14, 14, 256)  1024       ['conv4_block5_2_conv[0][0]']    \n",
            " ization)                                                                                         \n",
            "                                                                                                  \n",
            " conv4_block5_2_relu (Activatio  (None, 14, 14, 256)  0          ['conv4_block5_2_bn[0][0]']      \n",
            " n)                                                                                               \n",
            "                                                                                                  \n",
            " conv4_block5_3_conv (Conv2D)   (None, 14, 14, 1024  263168      ['conv4_block5_2_relu[0][0]']    \n",
            "                                )                                                                 \n",
            "                                                                                                  \n",
            " conv4_block5_3_bn (BatchNormal  (None, 14, 14, 1024  4096       ['conv4_block5_3_conv[0][0]']    \n",
            " ization)                       )                                                                 \n",
            "                                                                                                  \n",
            " conv4_block5_add (Add)         (None, 14, 14, 1024  0           ['conv4_block4_out[0][0]',       \n",
            "                                )                                 'conv4_block5_3_bn[0][0]']      \n",
            "                                                                                                  \n",
            " conv4_block5_out (Activation)  (None, 14, 14, 1024  0           ['conv4_block5_add[0][0]']       \n",
            "                                )                                                                 \n",
            "                                                                                                  \n",
            " conv4_block6_1_conv (Conv2D)   (None, 14, 14, 256)  262400      ['conv4_block5_out[0][0]']       \n",
            "                                                                                                  \n",
            " conv4_block6_1_bn (BatchNormal  (None, 14, 14, 256)  1024       ['conv4_block6_1_conv[0][0]']    \n",
            " ization)                                                                                         \n",
            "                                                                                                  \n",
            " conv4_block6_1_relu (Activatio  (None, 14, 14, 256)  0          ['conv4_block6_1_bn[0][0]']      \n",
            " n)                                                                                               \n",
            "                                                                                                  \n",
            " conv4_block6_2_conv (Conv2D)   (None, 14, 14, 256)  590080      ['conv4_block6_1_relu[0][0]']    \n",
            "                                                                                                  \n",
            " conv4_block6_2_bn (BatchNormal  (None, 14, 14, 256)  1024       ['conv4_block6_2_conv[0][0]']    \n",
            " ization)                                                                                         \n",
            "                                                                                                  \n",
            " conv4_block6_2_relu (Activatio  (None, 14, 14, 256)  0          ['conv4_block6_2_bn[0][0]']      \n",
            " n)                                                                                               \n",
            "                                                                                                  \n",
            " conv4_block6_3_conv (Conv2D)   (None, 14, 14, 1024  263168      ['conv4_block6_2_relu[0][0]']    \n",
            "                                )                                                                 \n",
            "                                                                                                  \n",
            " conv4_block6_3_bn (BatchNormal  (None, 14, 14, 1024  4096       ['conv4_block6_3_conv[0][0]']    \n",
            " ization)                       )                                                                 \n",
            "                                                                                                  \n",
            " conv4_block6_add (Add)         (None, 14, 14, 1024  0           ['conv4_block5_out[0][0]',       \n",
            "                                )                                 'conv4_block6_3_bn[0][0]']      \n",
            "                                                                                                  \n",
            " conv4_block6_out (Activation)  (None, 14, 14, 1024  0           ['conv4_block6_add[0][0]']       \n",
            "                                )                                                                 \n",
            "                                                                                                  \n",
            " conv5_block1_1_conv (Conv2D)   (None, 7, 7, 512)    524800      ['conv4_block6_out[0][0]']       \n",
            "                                                                                                  \n",
            " conv5_block1_1_bn (BatchNormal  (None, 7, 7, 512)   2048        ['conv5_block1_1_conv[0][0]']    \n",
            " ization)                                                                                         \n",
            "                                                                                                  \n",
            " conv5_block1_1_relu (Activatio  (None, 7, 7, 512)   0           ['conv5_block1_1_bn[0][0]']      \n",
            " n)                                                                                               \n",
            "                                                                                                  \n",
            " conv5_block1_2_conv (Conv2D)   (None, 7, 7, 512)    2359808     ['conv5_block1_1_relu[0][0]']    \n",
            "                                                                                                  \n",
            " conv5_block1_2_bn (BatchNormal  (None, 7, 7, 512)   2048        ['conv5_block1_2_conv[0][0]']    \n",
            " ization)                                                                                         \n",
            "                                                                                                  \n",
            " conv5_block1_2_relu (Activatio  (None, 7, 7, 512)   0           ['conv5_block1_2_bn[0][0]']      \n",
            " n)                                                                                               \n",
            "                                                                                                  \n",
            " conv5_block1_0_conv (Conv2D)   (None, 7, 7, 2048)   2099200     ['conv4_block6_out[0][0]']       \n",
            "                                                                                                  \n",
            " conv5_block1_3_conv (Conv2D)   (None, 7, 7, 2048)   1050624     ['conv5_block1_2_relu[0][0]']    \n",
            "                                                                                                  \n",
            " conv5_block1_0_bn (BatchNormal  (None, 7, 7, 2048)  8192        ['conv5_block1_0_conv[0][0]']    \n",
            " ization)                                                                                         \n",
            "                                                                                                  \n",
            " conv5_block1_3_bn (BatchNormal  (None, 7, 7, 2048)  8192        ['conv5_block1_3_conv[0][0]']    \n",
            " ization)                                                                                         \n",
            "                                                                                                  \n",
            " conv5_block1_add (Add)         (None, 7, 7, 2048)   0           ['conv5_block1_0_bn[0][0]',      \n",
            "                                                                  'conv5_block1_3_bn[0][0]']      \n",
            "                                                                                                  \n",
            " conv5_block1_out (Activation)  (None, 7, 7, 2048)   0           ['conv5_block1_add[0][0]']       \n",
            "                                                                                                  \n",
            " conv5_block2_1_conv (Conv2D)   (None, 7, 7, 512)    1049088     ['conv5_block1_out[0][0]']       \n",
            "                                                                                                  \n",
            " conv5_block2_1_bn (BatchNormal  (None, 7, 7, 512)   2048        ['conv5_block2_1_conv[0][0]']    \n",
            " ization)                                                                                         \n",
            "                                                                                                  \n",
            " conv5_block2_1_relu (Activatio  (None, 7, 7, 512)   0           ['conv5_block2_1_bn[0][0]']      \n",
            " n)                                                                                               \n",
            "                                                                                                  \n",
            " conv5_block2_2_conv (Conv2D)   (None, 7, 7, 512)    2359808     ['conv5_block2_1_relu[0][0]']    \n",
            "                                                                                                  \n",
            " conv5_block2_2_bn (BatchNormal  (None, 7, 7, 512)   2048        ['conv5_block2_2_conv[0][0]']    \n",
            " ization)                                                                                         \n",
            "                                                                                                  \n",
            " conv5_block2_2_relu (Activatio  (None, 7, 7, 512)   0           ['conv5_block2_2_bn[0][0]']      \n",
            " n)                                                                                               \n",
            "                                                                                                  \n",
            " conv5_block2_3_conv (Conv2D)   (None, 7, 7, 2048)   1050624     ['conv5_block2_2_relu[0][0]']    \n",
            "                                                                                                  \n",
            " conv5_block2_3_bn (BatchNormal  (None, 7, 7, 2048)  8192        ['conv5_block2_3_conv[0][0]']    \n",
            " ization)                                                                                         \n",
            "                                                                                                  \n",
            " conv5_block2_add (Add)         (None, 7, 7, 2048)   0           ['conv5_block1_out[0][0]',       \n",
            "                                                                  'conv5_block2_3_bn[0][0]']      \n",
            "                                                                                                  \n",
            " conv5_block2_out (Activation)  (None, 7, 7, 2048)   0           ['conv5_block2_add[0][0]']       \n",
            "                                                                                                  \n",
            " conv5_block3_1_conv (Conv2D)   (None, 7, 7, 512)    1049088     ['conv5_block2_out[0][0]']       \n",
            "                                                                                                  \n",
            " conv5_block3_1_bn (BatchNormal  (None, 7, 7, 512)   2048        ['conv5_block3_1_conv[0][0]']    \n",
            " ization)                                                                                         \n",
            "                                                                                                  \n",
            " conv5_block3_1_relu (Activatio  (None, 7, 7, 512)   0           ['conv5_block3_1_bn[0][0]']      \n",
            " n)                                                                                               \n",
            "                                                                                                  \n",
            " conv5_block3_2_conv (Conv2D)   (None, 7, 7, 512)    2359808     ['conv5_block3_1_relu[0][0]']    \n",
            "                                                                                                  \n",
            " conv5_block3_2_bn (BatchNormal  (None, 7, 7, 512)   2048        ['conv5_block3_2_conv[0][0]']    \n",
            " ization)                                                                                         \n",
            "                                                                                                  \n",
            " conv5_block3_2_relu (Activatio  (None, 7, 7, 512)   0           ['conv5_block3_2_bn[0][0]']      \n",
            " n)                                                                                               \n",
            "                                                                                                  \n",
            " conv5_block3_3_conv (Conv2D)   (None, 7, 7, 2048)   1050624     ['conv5_block3_2_relu[0][0]']    \n",
            "                                                                                                  \n",
            " conv5_block3_3_bn (BatchNormal  (None, 7, 7, 2048)  8192        ['conv5_block3_3_conv[0][0]']    \n",
            " ization)                                                                                         \n",
            "                                                                                                  \n",
            " conv5_block3_add (Add)         (None, 7, 7, 2048)   0           ['conv5_block2_out[0][0]',       \n",
            "                                                                  'conv5_block3_3_bn[0][0]']      \n",
            "                                                                                                  \n",
            " conv5_block3_out (Activation)  (None, 7, 7, 2048)   0           ['conv5_block3_add[0][0]']       \n",
            "                                                                                                  \n",
            " avg_pool (GlobalAveragePooling  (None, 2048)        0           ['conv5_block3_out[0][0]']       \n",
            " 2D)                                                                                              \n",
            "                                                                                                  \n",
            " predictions (Dense)            (None, 1000)         2049000     ['avg_pool[0][0]']               \n",
            "                                                                                                  \n",
            "==================================================================================================\n",
            "Total params: 25,636,712\n",
            "Trainable params: 25,583,592\n",
            "Non-trainable params: 53,120\n",
            "__________________________________________________________________________________________________\n"
          ]
        }
      ],
      "source": [
        "model.summary()"
      ]
    },
    {
      "cell_type": "code",
      "execution_count": 62,
      "id": "d79fc2e9-54c6-47e2-93d3-f5cc65a682ba",
      "metadata": {
        "colab": {
          "base_uri": "https://localhost:8080/"
        },
        "id": "d79fc2e9-54c6-47e2-93d3-f5cc65a682ba",
        "outputId": "95af302c-409c-42cc-c851-a349a100c916"
      },
      "outputs": [
        {
          "output_type": "stream",
          "name": "stdout",
          "text": [
            "1/1 [==============================] - 2s 2s/step\n"
          ]
        }
      ],
      "source": [
        "pred = model.predict(x)"
      ]
    },
    {
      "cell_type": "code",
      "execution_count": 63,
      "id": "6c227f32-bcff-4e7b-8964-15b87814466d",
      "metadata": {
        "colab": {
          "base_uri": "https://localhost:8080/"
        },
        "id": "6c227f32-bcff-4e7b-8964-15b87814466d",
        "outputId": "2d04d6b1-eb90-4aef-fdca-a003bc96406d"
      },
      "outputs": [
        {
          "output_type": "stream",
          "name": "stdout",
          "text": [
            "Downloading data from https://storage.googleapis.com/download.tensorflow.org/data/imagenet_class_index.json\n",
            "35363/35363 [==============================] - 0s 0us/step\n"
          ]
        },
        {
          "output_type": "execute_result",
          "data": {
            "text/plain": [
              "[[('n02007558', 'flamingo', 0.9301091),\n",
              "  ('n02006656', 'spoonbill', 0.06801472),\n",
              "  ('n02002556', 'white_stork', 0.0011723759)],\n",
              " [('n01843065', 'jacamar', 0.4865981),\n",
              "  ('n01818515', 'macaw', 0.23028953),\n",
              "  ('n02494079', 'squirrel_monkey', 0.044571042)],\n",
              " [('n02105641', 'Old_English_sheepdog', 0.839002),\n",
              "  ('n02086240', 'Shih-Tzu', 0.042358223),\n",
              "  ('n03223299', 'doormat', 0.03226598)],\n",
              " [('n03388043', 'fountain', 0.27721673),\n",
              "  ('n03532672', 'hook', 0.17947067),\n",
              "  ('n03804744', 'nail', 0.110358305)],\n",
              " [('n02097474', 'Tibetan_terrier', 0.5246218),\n",
              "  ('n02098413', 'Lhasa', 0.40590072),\n",
              "  ('n02094114', 'Norfolk_terrier', 0.016995346)],\n",
              " [('n01608432', 'kite', 0.72434276),\n",
              "  ('n01622779', 'great_grey_owl', 0.08683509),\n",
              "  ('n01532829', 'house_finch', 0.039976243)]]"
            ]
          },
          "metadata": {},
          "execution_count": 63
        }
      ],
      "source": [
        "decode_predictions(pred, top=3)"
      ]
    },
    {
      "cell_type": "markdown",
      "id": "68c31aaa-8861-4eeb-ba65-adb19b059059",
      "metadata": {
        "tags": [],
        "id": "68c31aaa-8861-4eeb-ba65-adb19b059059"
      },
      "source": [
        "# 5. IMDb Document Classification"
      ]
    },
    {
      "cell_type": "code",
      "execution_count": 64,
      "id": "6d9ba8ff-c77f-48bd-9cb2-b43b84ff489d",
      "metadata": {
        "id": "6d9ba8ff-c77f-48bd-9cb2-b43b84ff489d"
      },
      "outputs": [],
      "source": [
        "from tensorflow.keras.datasets.imdb import load_data, get_word_index"
      ]
    },
    {
      "cell_type": "code",
      "execution_count": 65,
      "id": "e132ae81-d653-4944-bfe8-f948461aed70",
      "metadata": {
        "colab": {
          "base_uri": "https://localhost:8080/"
        },
        "id": "e132ae81-d653-4944-bfe8-f948461aed70",
        "outputId": "af23cd60-b7c6-44c3-e37b-8aa403709b5a"
      },
      "outputs": [
        {
          "output_type": "stream",
          "name": "stdout",
          "text": [
            "Downloading data from https://storage.googleapis.com/tensorflow/tf-keras-datasets/imdb.npz\n",
            "17464789/17464789 [==============================] - 0s 0us/step\n"
          ]
        }
      ],
      "source": [
        "max_features = 10000\n",
        "(X_train, y_train), (X_test, y_test) = load_data(num_words=max_features)"
      ]
    },
    {
      "cell_type": "code",
      "execution_count": 66,
      "id": "b9070660-39a2-4cd4-80f9-c1b8bd27f4ac",
      "metadata": {
        "colab": {
          "base_uri": "https://localhost:8080/"
        },
        "id": "b9070660-39a2-4cd4-80f9-c1b8bd27f4ac",
        "outputId": "77b3c87e-1e6c-4661-dbda-2c312ba8266a"
      },
      "outputs": [
        {
          "output_type": "execute_result",
          "data": {
            "text/plain": [
              "(25000,)"
            ]
          },
          "metadata": {},
          "execution_count": 66
        }
      ],
      "source": [
        "X_train.shape"
      ]
    },
    {
      "cell_type": "code",
      "execution_count": 67,
      "id": "9348c7be-115c-49ac-85bf-9f645c16b571",
      "metadata": {
        "colab": {
          "base_uri": "https://localhost:8080/"
        },
        "id": "9348c7be-115c-49ac-85bf-9f645c16b571",
        "outputId": "10236008-dcca-41f6-a9d0-e28a5b100480"
      },
      "outputs": [
        {
          "output_type": "execute_result",
          "data": {
            "text/plain": [
              "(25000,)"
            ]
          },
          "metadata": {},
          "execution_count": 67
        }
      ],
      "source": [
        "y_train.shape"
      ]
    },
    {
      "cell_type": "code",
      "execution_count": 68,
      "id": "7064428a-0376-481a-a1e1-53fee094d9b8",
      "metadata": {
        "colab": {
          "base_uri": "https://localhost:8080/"
        },
        "id": "7064428a-0376-481a-a1e1-53fee094d9b8",
        "outputId": "a1507ed5-8d0f-4f7a-948c-f937d1fb93e9"
      },
      "outputs": [
        {
          "output_type": "execute_result",
          "data": {
            "text/plain": [
              "(25000,)"
            ]
          },
          "metadata": {},
          "execution_count": 68
        }
      ],
      "source": [
        "X_test.shape"
      ]
    },
    {
      "cell_type": "code",
      "execution_count": 69,
      "id": "0ffc3f0c-a951-4890-940c-2eb6fcb75983",
      "metadata": {
        "colab": {
          "base_uri": "https://localhost:8080/"
        },
        "id": "0ffc3f0c-a951-4890-940c-2eb6fcb75983",
        "outputId": "3d85b94f-8f45-47d8-8ab7-65a8a19b60f6"
      },
      "outputs": [
        {
          "output_type": "execute_result",
          "data": {
            "text/plain": [
              "array([0, 1])"
            ]
          },
          "metadata": {},
          "execution_count": 69
        }
      ],
      "source": [
        "np.unique(y_train)"
      ]
    },
    {
      "cell_type": "code",
      "execution_count": 70,
      "id": "6383aa39-1545-492c-a279-c426e0ce1af6",
      "metadata": {
        "colab": {
          "base_uri": "https://localhost:8080/"
        },
        "id": "6383aa39-1545-492c-a279-c426e0ce1af6",
        "outputId": "cab06210-1278-421b-b493-6863684dbaf7"
      },
      "outputs": [
        {
          "output_type": "execute_result",
          "data": {
            "text/plain": [
              "[1, 14, 22, 16, 43, 530, 973, 1622, 1385, 65, 458, 4468]"
            ]
          },
          "metadata": {},
          "execution_count": 70
        }
      ],
      "source": [
        "X_train[0][:12]"
      ]
    },
    {
      "cell_type": "code",
      "execution_count": 71,
      "id": "8281907b-6bde-4285-bd4b-d04aaec0c30e",
      "metadata": {
        "colab": {
          "base_uri": "https://localhost:8080/"
        },
        "id": "8281907b-6bde-4285-bd4b-d04aaec0c30e",
        "outputId": "7fb13c89-e9d4-470d-9a7c-dc8b0613aa88"
      },
      "outputs": [
        {
          "output_type": "stream",
          "name": "stdout",
          "text": [
            "Downloading data from https://storage.googleapis.com/tensorflow/tf-keras-datasets/imdb_word_index.json\n",
            "1641221/1641221 [==============================] - 0s 0us/step\n"
          ]
        }
      ],
      "source": [
        "word_index = get_word_index()"
      ]
    },
    {
      "cell_type": "code",
      "execution_count": 72,
      "id": "605cf08e-aa39-4c04-84b2-1f650929321c",
      "metadata": {
        "id": "605cf08e-aa39-4c04-84b2-1f650929321c"
      },
      "outputs": [],
      "source": [
        "def decode_review(text, word_index):\n",
        "    word = list(word_index.keys())\n",
        "    idx = np.array(list(word_index.values()))\n",
        "    word = np.r_[['<PAD>', '<START>', '<UNK>', '<UNUSED>'], word].tolist()\n",
        "    idx = np.r_[[0, 1, 2, 3], idx + 3].tolist()\n",
        "    word_dict = dict(zip(idx, word))\n",
        "    words = [word_dict[i] if i in idx else word_dict[1] for i in text]\n",
        "    return ' '.join(words)"
      ]
    },
    {
      "cell_type": "code",
      "execution_count": 73,
      "id": "834318bb-3283-4564-aad5-57185f508e2c",
      "metadata": {
        "colab": {
          "base_uri": "https://localhost:8080/",
          "height": 36
        },
        "id": "834318bb-3283-4564-aad5-57185f508e2c",
        "outputId": "58547dd1-9102-4846-ed42-b0f4c7b9e432"
      },
      "outputs": [
        {
          "output_type": "execute_result",
          "data": {
            "text/plain": [
              "\"<START> this film was just brilliant casting location scenery story direction everyone's\""
            ],
            "application/vnd.google.colaboratory.intrinsic+json": {
              "type": "string"
            }
          },
          "metadata": {},
          "execution_count": 73
        }
      ],
      "source": [
        "decode_review(X_train[0][:12], word_index)"
      ]
    },
    {
      "cell_type": "code",
      "execution_count": 74,
      "id": "864a4255-898b-4f4d-a0dd-fc96fd63b79e",
      "metadata": {
        "id": "864a4255-898b-4f4d-a0dd-fc96fd63b79e"
      },
      "outputs": [],
      "source": [
        "from scipy.sparse import coo_matrix\n",
        "from itertools import chain"
      ]
    },
    {
      "cell_type": "code",
      "execution_count": 75,
      "id": "882859d7-a45a-4246-920c-29eecc9b78d0",
      "metadata": {
        "id": "882859d7-a45a-4246-920c-29eecc9b78d0"
      },
      "outputs": [],
      "source": [
        "def one_hot(sequences, dimension):\n",
        "    seqlen = [len(seq) for seq in sequences]\n",
        "    n = len(seqlen)\n",
        "    row_index = np.repeat(range(n), seqlen)\n",
        "    col_index = list(chain.from_iterable(sequences))\n",
        "    values = np.ones(len(row_index))\n",
        "    return coo_matrix((values, (row_index, col_index)), shape=[n, dimension])"
      ]
    },
    {
      "cell_type": "code",
      "execution_count": 76,
      "id": "98f4bc92-48a7-407f-94ad-43cbdc7adeb0",
      "metadata": {
        "id": "98f4bc92-48a7-407f-94ad-43cbdc7adeb0"
      },
      "outputs": [],
      "source": [
        "X_train_1h = one_hot(X_train, 10000)\n",
        "X_test_1h = one_hot(X_test, 10000)"
      ]
    },
    {
      "cell_type": "code",
      "execution_count": 77,
      "id": "0ee25828-1669-4dce-9234-4dffaec9bff9",
      "metadata": {
        "colab": {
          "base_uri": "https://localhost:8080/"
        },
        "id": "0ee25828-1669-4dce-9234-4dffaec9bff9",
        "outputId": "b56589b4-e2cc-4b2d-f6cb-c40aedf3652b"
      },
      "outputs": [
        {
          "output_type": "execute_result",
          "data": {
            "text/plain": [
              "(25000, 10000)"
            ]
          },
          "metadata": {},
          "execution_count": 77
        }
      ],
      "source": [
        "X_train_1h.shape"
      ]
    },
    {
      "cell_type": "code",
      "execution_count": 78,
      "id": "d138beea-5c55-4eb8-a0c3-3acab3d11edc",
      "metadata": {
        "colab": {
          "base_uri": "https://localhost:8080/"
        },
        "id": "d138beea-5c55-4eb8-a0c3-3acab3d11edc",
        "outputId": "945c4ce4-ccc7-47e4-f0ee-60a1357cd8d8"
      },
      "outputs": [
        {
          "output_type": "execute_result",
          "data": {
            "text/plain": [
              "0.023871364"
            ]
          },
          "metadata": {},
          "execution_count": 78
        }
      ],
      "source": [
        "X_train_1h.nnz / (25000 * 10000)"
      ]
    },
    {
      "cell_type": "code",
      "execution_count": 79,
      "id": "1e8128ac-f18f-4131-ba51-4472cdeb6b03",
      "metadata": {
        "id": "1e8128ac-f18f-4131-ba51-4472cdeb6b03"
      },
      "outputs": [],
      "source": [
        "from sklearn.linear_model import LogisticRegressionCV\n",
        "from sklearn.model_selection import ShuffleSplit"
      ]
    },
    {
      "cell_type": "code",
      "execution_count": 80,
      "id": "4844f87d-606b-4367-b02c-ffe49094d307",
      "metadata": {
        "id": "4844f87d-606b-4367-b02c-ffe49094d307"
      },
      "outputs": [],
      "source": [
        "model = LogisticRegressionCV(\n",
        "    cv=ShuffleSplit(n_splits=1, random_state=3, test_size=2000),\n",
        "    penalty='l1', solver='liblinear'\n",
        ").fit(X_train_1h, y_train)"
      ]
    },
    {
      "cell_type": "code",
      "execution_count": 81,
      "id": "e6d1aa95-acfc-4ec3-8675-47ae5a0d5b54",
      "metadata": {
        "colab": {
          "base_uri": "https://localhost:8080/"
        },
        "id": "e6d1aa95-acfc-4ec3-8675-47ae5a0d5b54",
        "outputId": "8443eae8-54b1-4327-8df7-314a89fc2c9d"
      },
      "outputs": [
        {
          "output_type": "execute_result",
          "data": {
            "text/plain": [
              "0.87876"
            ]
          },
          "metadata": {},
          "execution_count": 81
        }
      ],
      "source": [
        "(model.predict(X_test_1h) == y_test).mean()"
      ]
    },
    {
      "cell_type": "code",
      "execution_count": 82,
      "id": "8a7e3b17-06db-4621-b94a-40aac66f933e",
      "metadata": {
        "id": "8a7e3b17-06db-4621-b94a-40aac66f933e"
      },
      "outputs": [],
      "source": [
        "model = Sequential([\n",
        "    Dense(units=16, activation='relu', input_shape=(10000,)),\n",
        "    Dense(units=16, activation='relu'),\n",
        "    Dense(units=1, activation='sigmoid')\n",
        "])\n",
        "\n",
        "model.compile(loss='binary_crossentropy', metrics=['accuracy', ])\n",
        "\n",
        "history_model = model.fit(\n",
        "    X_train_1h.toarray(), y_train, epochs=20, batch_size=512,\n",
        "    validation_data=(X_test_1h.toarray(), y_test), verbose=0\n",
        ")"
      ]
    },
    {
      "cell_type": "code",
      "execution_count": 83,
      "id": "8d17b08b-83d9-4495-b8b8-e51c57fee048",
      "metadata": {
        "colab": {
          "base_uri": "https://localhost:8080/"
        },
        "id": "8d17b08b-83d9-4495-b8b8-e51c57fee048",
        "outputId": "ddf08cbe-0f37-4a43-b595-0e633c0ce994"
      },
      "outputs": [
        {
          "output_type": "stream",
          "name": "stdout",
          "text": [
            "782/782 [==============================] - 2s 3ms/step - loss: 0.6844 - accuracy: 0.8499\n"
          ]
        },
        {
          "output_type": "execute_result",
          "data": {
            "text/plain": [
              "0.8499199748039246"
            ]
          },
          "metadata": {},
          "execution_count": 83
        }
      ],
      "source": [
        "_, acc = model.evaluate(X_test_1h.toarray(), y_test)\n",
        "acc"
      ]
    },
    {
      "cell_type": "code",
      "execution_count": 84,
      "id": "45729b0e-6981-4f30-bd4d-5ae09807f66b",
      "metadata": {
        "colab": {
          "base_uri": "https://localhost:8080/",
          "height": 281
        },
        "id": "45729b0e-6981-4f30-bd4d-5ae09807f66b",
        "outputId": "543740c4-d600-46a5-e522-8234dfca5bea"
      },
      "outputs": [
        {
          "output_type": "display_data",
          "data": {
            "text/plain": [
              "<Figure size 432x288 with 1 Axes>"
            ],
            "image/png": "[encoded data removed]"
          },
          "metadata": {
            "needs_background": "light"
          }
        }
      ],
      "source": [
        "history_dict = history_model.history\n",
        "plt.title('Classification Accuracy')\n",
        "plt.plot(history_dict['accuracy'], color='black', label='train')\n",
        "plt.plot(history_dict['val_accuracy'], color='orange', label='test')\n",
        "plt.legend(loc='best')\n",
        "plt.ylim(0.58, 1.02)\n",
        "plt.xlim(-0.5, 20)\n",
        "plt.show()"
      ]
    },
    {
      "cell_type": "markdown",
      "id": "81fb28a5-71b2-4f0c-85ba-eb6600e9a9ea",
      "metadata": {
        "id": "81fb28a5-71b2-4f0c-85ba-eb6600e9a9ea"
      },
      "source": [
        "# 6. Recurrent Neural Networks"
      ]
    },
    {
      "cell_type": "markdown",
      "id": "9ddac827-8e31-4208-ab7c-6d40d0a49bc8",
      "metadata": {
        "id": "9ddac827-8e31-4208-ab7c-6d40d0a49bc8"
      },
      "source": [
        "## Sequential Models for Document Classification"
      ]
    },
    {
      "cell_type": "code",
      "execution_count": 85,
      "id": "79c07ed8-376a-4306-8ac8-a599a741b416",
      "metadata": {
        "id": "79c07ed8-376a-4306-8ac8-a599a741b416"
      },
      "outputs": [],
      "source": [
        "from tensorflow.keras.preprocessing import sequence\n",
        "from tensorflow.keras.layers import Embedding, LSTM, Bidirectional, Input"
      ]
    },
    {
      "cell_type": "code",
      "execution_count": 86,
      "id": "2bef4bc7-d65b-4c3c-8a1d-cf8a15883e9d",
      "metadata": {
        "id": "2bef4bc7-d65b-4c3c-8a1d-cf8a15883e9d"
      },
      "outputs": [],
      "source": [
        "wc = np.array([len(doc) for doc in X_train])"
      ]
    },
    {
      "cell_type": "code",
      "execution_count": 87,
      "id": "13078a2b-b1cd-4d84-b86e-9d84beabefaa",
      "metadata": {
        "colab": {
          "base_uri": "https://localhost:8080/"
        },
        "id": "13078a2b-b1cd-4d84-b86e-9d84beabefaa",
        "outputId": "8ac631e9-e1eb-4d42-e49b-8c6cfad8a5b7"
      },
      "outputs": [
        {
          "output_type": "execute_result",
          "data": {
            "text/plain": [
              "178.0"
            ]
          },
          "metadata": {},
          "execution_count": 87
        }
      ],
      "source": [
        "np.median(wc)"
      ]
    },
    {
      "cell_type": "code",
      "execution_count": 88,
      "id": "fa6be920-2f17-4f81-a2ea-2bfd48edf36a",
      "metadata": {
        "colab": {
          "base_uri": "https://localhost:8080/"
        },
        "id": "fa6be920-2f17-4f81-a2ea-2bfd48edf36a",
        "outputId": "eb089667-1ec4-4cfc-a03b-12c61cbfda9b"
      },
      "outputs": [
        {
          "output_type": "execute_result",
          "data": {
            "text/plain": [
              "0.91568"
            ]
          },
          "metadata": {},
          "execution_count": 88
        }
      ],
      "source": [
        "(wc <= 500).mean()"
      ]
    },
    {
      "cell_type": "code",
      "execution_count": 89,
      "id": "3a691322-18aa-4a2c-92ff-1c682c297a00",
      "metadata": {
        "id": "3a691322-18aa-4a2c-92ff-1c682c297a00"
      },
      "outputs": [],
      "source": [
        "max_len = 500\n",
        "X_train = sequence.pad_sequences(X_train, maxlen=max_len)\n",
        "X_test = sequence.pad_sequences(X_test, maxlen=max_len)"
      ]
    },
    {
      "cell_type": "code",
      "execution_count": 90,
      "id": "3f5ea3a4-6f42-4eca-a4e2-f91b4195d6af",
      "metadata": {
        "colab": {
          "base_uri": "https://localhost:8080/"
        },
        "id": "3f5ea3a4-6f42-4eca-a4e2-f91b4195d6af",
        "outputId": "f94d5257-5328-40e0-f955-017e0b12d6a1"
      },
      "outputs": [
        {
          "output_type": "execute_result",
          "data": {
            "text/plain": [
              "(25000, 500)"
            ]
          },
          "metadata": {},
          "execution_count": 90
        }
      ],
      "source": [
        "X_train.shape"
      ]
    },
    {
      "cell_type": "code",
      "execution_count": 91,
      "id": "5bdefa98-8882-4bd1-ab7e-e51be922a507",
      "metadata": {
        "colab": {
          "base_uri": "https://localhost:8080/"
        },
        "id": "5bdefa98-8882-4bd1-ab7e-e51be922a507",
        "outputId": "4fb3e83e-a94a-49d9-c46f-9c391f371454"
      },
      "outputs": [
        {
          "output_type": "execute_result",
          "data": {
            "text/plain": [
              "(25000, 500)"
            ]
          },
          "metadata": {},
          "execution_count": 91
        }
      ],
      "source": [
        "X_test.shape"
      ]
    },
    {
      "cell_type": "code",
      "execution_count": 92,
      "id": "66992154-e426-4d03-b92b-8160dc3a64a5",
      "metadata": {
        "colab": {
          "base_uri": "https://localhost:8080/"
        },
        "id": "66992154-e426-4d03-b92b-8160dc3a64a5",
        "outputId": "f7ff2d2b-0b69-4ec7-dcc4-caf91c4fb5e1"
      },
      "outputs": [
        {
          "output_type": "execute_result",
          "data": {
            "text/plain": [
              "array([  16, 4472,  113,  103,   32,   15,   16, 5345,   19,  178,   32],\n",
              "      dtype=int32)"
            ]
          },
          "metadata": {},
          "execution_count": 92
        }
      ],
      "source": [
        "X_train[0, 489:500]"
      ]
    },
    {
      "cell_type": "code",
      "execution_count": 94,
      "id": "a0131ddf-74f0-4121-940e-488fd0fdaf13",
      "metadata": {
        "id": "a0131ddf-74f0-4121-940e-488fd0fdaf13"
      },
      "outputs": [],
      "source": [
        "model = Sequential([\n",
        "    Embedding(input_dim=10000, output_dim=32),\n",
        "    LSTM(units=32),\n",
        "    Dense(units=1, activation='sigmoid')\n",
        "])"
      ]
    },
    {
      "cell_type": "code",
      "execution_count": 95,
      "id": "74067ada-417e-43d2-bee9-ed99cf34b08f",
      "metadata": {
        "id": "74067ada-417e-43d2-bee9-ed99cf34b08f"
      },
      "outputs": [],
      "source": [
        "model.compile(loss='binary_crossentropy', metrics=['acc', ])"
      ]
    },
    {
      "cell_type": "code",
      "source": [
        "history_model = model.fit(X_train, y_train, batch_size=128, epochs=10,\n",
        "                          validation_data=(X_test, y_test), verbose=0)"
      ],
      "metadata": {
        "id": "GiOrwJy2BC-u"
      },
      "id": "GiOrwJy2BC-u",
      "execution_count": 96,
      "outputs": []
    },
    {
      "cell_type": "code",
      "source": [
        "preds = model.predict(X_test) > 0.5"
      ],
      "metadata": {
        "colab": {
          "base_uri": "https://localhost:8080/"
        },
        "id": "xDViKuO2Bqya",
        "outputId": "a9deffdd-925c-410e-86e0-ea170e7e3677"
      },
      "id": "xDViKuO2Bqya",
      "execution_count": 99,
      "outputs": [
        {
          "output_type": "stream",
          "name": "stdout",
          "text": [
            "782/782 [==============================] - 7s 9ms/step\n"
          ]
        }
      ]
    },
    {
      "cell_type": "code",
      "source": [
        "(y_test == preds.squeeze()).mean()"
      ],
      "metadata": {
        "colab": {
          "base_uri": "https://localhost:8080/"
        },
        "id": "I8anIMkuB8l2",
        "outputId": "3a531d87-c13b-4dad-b4ab-c263c4eaf136"
      },
      "id": "I8anIMkuB8l2",
      "execution_count": 104,
      "outputs": [
        {
          "output_type": "execute_result",
          "data": {
            "text/plain": [
              "0.8572"
            ]
          },
          "metadata": {},
          "execution_count": 104
        }
      ]
    },
    {
      "cell_type": "code",
      "source": [
        "history_dict = history.history"
      ],
      "metadata": {
        "id": "xFR6X1t8COxN"
      },
      "id": "xFR6X1t8COxN",
      "execution_count": 105,
      "outputs": []
    },
    {
      "cell_type": "code",
      "source": [
        "history_dict.keys()"
      ],
      "metadata": {
        "colab": {
          "base_uri": "https://localhost:8080/"
        },
        "id": "V-1G3ThGCsfC",
        "outputId": "5833d7ca-12a3-4bbd-e4a7-fd25a14c838a"
      },
      "id": "V-1G3ThGCsfC",
      "execution_count": 108,
      "outputs": [
        {
          "output_type": "execute_result",
          "data": {
            "text/plain": [
              "dict_keys(['loss', 'accuracy', 'val_loss', 'val_accuracy'])"
            ]
          },
          "metadata": {},
          "execution_count": 108
        }
      ]
    },
    {
      "cell_type": "code",
      "source": [
        "plt.title('Classification Accuracy')\n",
        "plt.plot(history_dict['accuracy'], color='black', label='train')\n",
        "plt.plot(history_dict['val_accuracy'], color='orange', label='test')\n",
        "plt.legend(loc='best')\n",
        "plt.show()"
      ],
      "metadata": {
        "colab": {
          "base_uri": "https://localhost:8080/",
          "height": 281
        },
        "id": "QxCiJcZ1ChhN",
        "outputId": "6651493e-dd1c-476f-a62c-50946eed61e2"
      },
      "id": "QxCiJcZ1ChhN",
      "execution_count": 109,
      "outputs": [
        {
          "output_type": "display_data",
          "data": {
            "text/plain": [
              "<Figure size 432x288 with 1 Axes>"
            ],
            "image/png": "[encoded data removed]"
          },
          "metadata": {
            "needs_background": "light"
          }
        }
      ]
    },
    {
      "cell_type": "markdown",
      "source": [
        "## Time Series Prediction"
      ],
      "metadata": {
        "id": "TTyVFSWpDDOf"
      },
      "id": "TTyVFSWpDDOf"
    },
    {
      "cell_type": "markdown",
      "source": [
        "__Sorry but I can't get the data__"
      ],
      "metadata": {
        "id": "UPU1ZeQdGoOg"
      },
      "id": "UPU1ZeQdGoOg"
    }
  ],
  "metadata": {
    "kernelspec": {
      "display_name": "Python 3 (ipykernel)",
      "language": "python",
      "name": "python3"
    },
    "language_info": {
      "codemirror_mode": {
        "name": "ipython",
        "version": 3
      },
      "file_extension": ".py",
      "mimetype": "text/x-python",
      "name": "python",
      "nbconvert_exporter": "python",
      "pygments_lexer": "ipython3",
      "version": "3.8.8"
    },
    "colab": {
      "provenance": [],
      "collapsed_sections": []
    },
    "accelerator": "GPU"
  },
  "nbformat": 4,
  "nbformat_minor": 5
}