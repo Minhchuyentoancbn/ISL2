{
 "cells": [
  {
   "cell_type": "code",
   "execution_count": 1,
   "id": "bca4c215-0485-427a-b5c4-0ae1ddc80fa5",
   "metadata": {},
   "outputs": [],
   "source": [
    "import numpy as np\n",
    "import pandas as pd\n",
    "import matplotlib.pyplot as plt\n",
    "import seaborn as sns\n",
    "\n",
    "import statsmodels.api as sm\n",
    "import statsmodels.formula.api as smf\n",
    "import statsmodels.graphics.api as smg\n",
    "\n",
    "\n",
    "plt.style.use('seaborn')\n",
    "%matplotlib inline"
   ]
  },
  {
   "cell_type": "markdown",
   "id": "712c262f-9ead-4975-87ee-1d9153e84114",
   "metadata": {
    "tags": []
   },
   "source": [
    "# 1. The Validation Set Approach"
   ]
  },
  {
   "cell_type": "code",
   "execution_count": 2,
   "id": "16795d8d-70ea-4cdd-ad67-2220f2bcb2f9",
   "metadata": {},
   "outputs": [],
   "source": [
    "auto = sm.datasets.get_rdataset('Auto', 'ISLR').data.dropna()\\\n",
    "        .reset_index(drop=True)"
   ]
  },
  {
   "cell_type": "code",
   "execution_count": 3,
   "id": "4ede7913-efae-4f75-9419-72bc9b33483b",
   "metadata": {},
   "outputs": [
    {
     "data": {
      "text/html": [
       "<div>\n",
       "<style scoped>\n",
       "    .dataframe tbody tr th:only-of-type {\n",
       "        vertical-align: middle;\n",
       "    }\n",
       "\n",
       "    .dataframe tbody tr th {\n",
       "        vertical-align: top;\n",
       "    }\n",
       "\n",
       "    .dataframe thead th {\n",
       "        text-align: right;\n",
       "    }\n",
       "</style>\n",
       "<table border=\"1\" class=\"dataframe\">\n",
       "  <thead>\n",
       "    <tr style=\"text-align: right;\">\n",
       "      <th></th>\n",
       "      <th>mpg</th>\n",
       "      <th>cylinders</th>\n",
       "      <th>displacement</th>\n",
       "      <th>horsepower</th>\n",
       "      <th>weight</th>\n",
       "      <th>acceleration</th>\n",
       "      <th>year</th>\n",
       "      <th>origin</th>\n",
       "      <th>name</th>\n",
       "    </tr>\n",
       "  </thead>\n",
       "  <tbody>\n",
       "    <tr>\n",
       "      <th>0</th>\n",
       "      <td>18.0</td>\n",
       "      <td>8</td>\n",
       "      <td>307.0</td>\n",
       "      <td>130</td>\n",
       "      <td>3504</td>\n",
       "      <td>12.0</td>\n",
       "      <td>70</td>\n",
       "      <td>1</td>\n",
       "      <td>chevrolet chevelle malibu</td>\n",
       "    </tr>\n",
       "    <tr>\n",
       "      <th>1</th>\n",
       "      <td>15.0</td>\n",
       "      <td>8</td>\n",
       "      <td>350.0</td>\n",
       "      <td>165</td>\n",
       "      <td>3693</td>\n",
       "      <td>11.5</td>\n",
       "      <td>70</td>\n",
       "      <td>1</td>\n",
       "      <td>buick skylark 320</td>\n",
       "    </tr>\n",
       "    <tr>\n",
       "      <th>2</th>\n",
       "      <td>18.0</td>\n",
       "      <td>8</td>\n",
       "      <td>318.0</td>\n",
       "      <td>150</td>\n",
       "      <td>3436</td>\n",
       "      <td>11.0</td>\n",
       "      <td>70</td>\n",
       "      <td>1</td>\n",
       "      <td>plymouth satellite</td>\n",
       "    </tr>\n",
       "    <tr>\n",
       "      <th>3</th>\n",
       "      <td>16.0</td>\n",
       "      <td>8</td>\n",
       "      <td>304.0</td>\n",
       "      <td>150</td>\n",
       "      <td>3433</td>\n",
       "      <td>12.0</td>\n",
       "      <td>70</td>\n",
       "      <td>1</td>\n",
       "      <td>amc rebel sst</td>\n",
       "    </tr>\n",
       "    <tr>\n",
       "      <th>4</th>\n",
       "      <td>17.0</td>\n",
       "      <td>8</td>\n",
       "      <td>302.0</td>\n",
       "      <td>140</td>\n",
       "      <td>3449</td>\n",
       "      <td>10.5</td>\n",
       "      <td>70</td>\n",
       "      <td>1</td>\n",
       "      <td>ford torino</td>\n",
       "    </tr>\n",
       "  </tbody>\n",
       "</table>\n",
       "</div>"
      ],
      "text/plain": [
       "    mpg  cylinders  displacement  horsepower  weight  acceleration  year  \\\n",
       "0  18.0          8         307.0         130    3504          12.0    70   \n",
       "1  15.0          8         350.0         165    3693          11.5    70   \n",
       "2  18.0          8         318.0         150    3436          11.0    70   \n",
       "3  16.0          8         304.0         150    3433          12.0    70   \n",
       "4  17.0          8         302.0         140    3449          10.5    70   \n",
       "\n",
       "   origin                       name  \n",
       "0       1  chevrolet chevelle malibu  \n",
       "1       1          buick skylark 320  \n",
       "2       1         plymouth satellite  \n",
       "3       1              amc rebel sst  \n",
       "4       1                ford torino  "
      ]
     },
     "execution_count": 3,
     "metadata": {},
     "output_type": "execute_result"
    }
   ],
   "source": [
    "auto.head()"
   ]
  },
  {
   "cell_type": "code",
   "execution_count": 4,
   "id": "78ee851a-4747-4d95-9c4e-be97c38f42b6",
   "metadata": {},
   "outputs": [],
   "source": [
    "np.random.seed(1)\n",
    "train = np.random.choice(392, 196, replace=False)"
   ]
  },
  {
   "cell_type": "code",
   "execution_count": 5,
   "id": "1c95ec47-b918-4b1f-a5dc-a97529e34502",
   "metadata": {},
   "outputs": [],
   "source": [
    "lm = smf.ols('mpg ~ horsepower', data=auto, subset=train).fit()"
   ]
  },
  {
   "cell_type": "code",
   "execution_count": 6,
   "id": "a414debd-5f65-4b4e-ab41-0b9fc9c6b5eb",
   "metadata": {},
   "outputs": [
    {
     "data": {
      "text/plain": [
       "23.36190289258723"
      ]
     },
     "execution_count": 6,
     "metadata": {},
     "output_type": "execute_result"
    }
   ],
   "source": [
    "not_train = auto.index.difference(train)\n",
    "(\n",
    "    (\n",
    "    auto.loc[not_train, 'mpg'] - \n",
    "    lm.predict(auto.loc[not_train, 'horsepower'])\n",
    "    ) ** 2\n",
    ").mean()"
   ]
  },
  {
   "cell_type": "code",
   "execution_count": 7,
   "id": "bbc0302e-da37-462a-a618-ba7c563f06ae",
   "metadata": {},
   "outputs": [
    {
     "data": {
      "text/plain": [
       "20.25269085834794"
      ]
     },
     "execution_count": 7,
     "metadata": {},
     "output_type": "execute_result"
    }
   ],
   "source": [
    "lm2 = smf.ols('mpg ~ np.vander(horsepower, 3) - 1', \n",
    "             data=auto, subset=train).fit()\n",
    "\n",
    "(\n",
    "    (\n",
    "    auto.loc[not_train, 'mpg'] - \n",
    "    lm2.predict(auto.loc[not_train, 'horsepower'])\n",
    "    ) ** 2\n",
    ").mean()"
   ]
  },
  {
   "cell_type": "code",
   "execution_count": 8,
   "id": "4c098b3d-51bf-47e0-91b0-7fe468478f4b",
   "metadata": {},
   "outputs": [
    {
     "data": {
      "text/plain": [
       "20.32560936621836"
      ]
     },
     "execution_count": 8,
     "metadata": {},
     "output_type": "execute_result"
    }
   ],
   "source": [
    "lm3 = smf.ols('mpg ~ np.vander(horsepower, 4) - 1', \n",
    "             data=auto, subset=train).fit()\n",
    "\n",
    "(\n",
    "    (\n",
    "    auto.loc[not_train, 'mpg'] - \n",
    "    lm3.predict(auto.loc[not_train, 'horsepower'])\n",
    "    ) ** 2\n",
    ").mean()"
   ]
  },
  {
   "cell_type": "code",
   "execution_count": 9,
   "id": "b4da972e-df22-4d10-bf6d-1984e1503d7e",
   "metadata": {},
   "outputs": [],
   "source": [
    "np.random.seed(2)\n",
    "train = np.random.choice(392, 196, replace=False)\n",
    "not_train = auto.index.difference(train)"
   ]
  },
  {
   "cell_type": "code",
   "execution_count": 10,
   "id": "27512e6f-95ce-4621-8acf-aac683db0033",
   "metadata": {},
   "outputs": [
    {
     "data": {
      "text/plain": [
       "25.10853905288968"
      ]
     },
     "execution_count": 10,
     "metadata": {},
     "output_type": "execute_result"
    }
   ],
   "source": [
    "lm = smf.ols('mpg ~ horsepower', data=auto, subset=train).fit()\n",
    "\n",
    "(\n",
    "    (\n",
    "    auto.loc[not_train, 'mpg'] - \n",
    "    lm.predict(auto.loc[not_train, 'horsepower'])\n",
    "    ) ** 2\n",
    ").mean()"
   ]
  },
  {
   "cell_type": "code",
   "execution_count": 11,
   "id": "bb5b80c0-5636-4158-b81c-dcd45c5d4d04",
   "metadata": {},
   "outputs": [
    {
     "data": {
      "text/plain": [
       "19.722533470492515"
      ]
     },
     "execution_count": 11,
     "metadata": {},
     "output_type": "execute_result"
    }
   ],
   "source": [
    "lm2 = smf.ols('mpg ~ np.vander(horsepower, 3) - 1', \n",
    "             data=auto, subset=train).fit()\n",
    "\n",
    "(\n",
    "    (\n",
    "    auto.loc[not_train, 'mpg'] - \n",
    "    lm2.predict(auto.loc[not_train, 'horsepower'])\n",
    "    ) ** 2\n",
    ").mean()"
   ]
  },
  {
   "cell_type": "code",
   "execution_count": 12,
   "id": "a3a9b641-51cb-416d-8e8d-2392f4e5289c",
   "metadata": {},
   "outputs": [
    {
     "data": {
      "text/plain": [
       "19.921367860047578"
      ]
     },
     "execution_count": 12,
     "metadata": {},
     "output_type": "execute_result"
    }
   ],
   "source": [
    "lm3 = smf.ols('mpg ~ np.vander(horsepower, 4) - 1', \n",
    "             data=auto, subset=train).fit()\n",
    "\n",
    "(\n",
    "    (\n",
    "    auto.loc[not_train, 'mpg'] - \n",
    "    lm3.predict(auto.loc[not_train, 'horsepower'])\n",
    "    ) ** 2\n",
    ").mean()"
   ]
  },
  {
   "cell_type": "markdown",
   "id": "a730839e-be94-4b2b-b479-81bc106d3b63",
   "metadata": {
    "tags": []
   },
   "source": [
    "# 2. Leave-One-Out Cross-Validation"
   ]
  },
  {
   "cell_type": "code",
   "execution_count": 13,
   "id": "5244799a-5f23-4242-94ad-8014bbaec4f1",
   "metadata": {},
   "outputs": [
    {
     "data": {
      "text/plain": [
       "Intercept     39.935861\n",
       "horsepower    -0.157845\n",
       "dtype: float64"
      ]
     },
     "execution_count": 13,
     "metadata": {},
     "output_type": "execute_result"
    }
   ],
   "source": [
    "lm = smf.ols('mpg ~ horsepower', data=auto).fit()\n",
    "lm.params"
   ]
  },
  {
   "cell_type": "code",
   "execution_count": 14,
   "id": "1ab83144-af83-43be-a948-b1ae91fb3772",
   "metadata": {},
   "outputs": [
    {
     "data": {
      "text/plain": [
       "Intercept     39.935861\n",
       "horsepower    -0.157845\n",
       "dtype: float64"
      ]
     },
     "execution_count": 14,
     "metadata": {},
     "output_type": "execute_result"
    }
   ],
   "source": [
    "glm = smf.glm('mpg ~ horsepower', data=auto).fit()\n",
    "glm.params"
   ]
  },
  {
   "cell_type": "code",
   "execution_count": 15,
   "id": "a06b1f2c-3631-4d4e-b811-80d962056367",
   "metadata": {},
   "outputs": [],
   "source": [
    "from sklearn.model_selection import LeaveOneOut\n",
    "from sklearn.model_selection import cross_val_score\n",
    "from sklearn.linear_model import LinearRegression\n",
    "from sklearn.preprocessing import PolynomialFeatures\n",
    "from sklearn.model_selection import KFold"
   ]
  },
  {
   "cell_type": "code",
   "execution_count": 16,
   "id": "f7601b7a-e79e-448a-b6b3-245e8be1249d",
   "metadata": {},
   "outputs": [],
   "source": [
    "X = auto[['horsepower']]\n",
    "y = auto['mpg']\n",
    "\n",
    "model = LinearRegression()\n",
    "\n",
    "cv = LeaveOneOut()\n",
    "\n",
    "scores = cross_val_score(model, X, y, cv=cv,\n",
    "                         scoring='neg_mean_squared_error')"
   ]
  },
  {
   "cell_type": "code",
   "execution_count": 17,
   "id": "90af0128-2ac9-4ef0-95d3-5fbd486bedf9",
   "metadata": {},
   "outputs": [
    {
     "data": {
      "text/plain": [
       "-24.231513517929226"
      ]
     },
     "execution_count": 17,
     "metadata": {},
     "output_type": "execute_result"
    }
   ],
   "source": [
    "scores.mean()"
   ]
  },
  {
   "cell_type": "code",
   "execution_count": 18,
   "id": "872a8ef4-60cd-4f41-a624-781cb2887130",
   "metadata": {},
   "outputs": [],
   "source": [
    "error1 = np.zeros(10)\n",
    "\n",
    "for i in range(10):\n",
    "    poly = PolynomialFeatures(degree=i+1, include_bias=False)\n",
    "    poly_features = poly.fit_transform(X)\n",
    "    poly_reg_model = LinearRegression()\n",
    "    cv = LeaveOneOut()\n",
    "    scores = cross_val_score(poly_reg_model, poly_features, y, cv=cv,\n",
    "                             scoring='neg_mean_squared_error')\n",
    "    error1[i] = -scores.mean()"
   ]
  },
  {
   "cell_type": "code",
   "execution_count": 19,
   "id": "bd781088-7f1b-4be0-99ba-03f9bdcb4204",
   "metadata": {},
   "outputs": [
    {
     "data": {
      "image/png": "[encoded data removed]",
      "text/plain": [
       "<Figure size 800x550 with 1 Axes>"
      ]
     },
     "metadata": {},
     "output_type": "display_data"
    }
   ],
   "source": [
    "fig, ax = plt.subplots()\n",
    "ax.plot(np.arange(1, 11), error1, '-o')\n",
    "ax.set_ylim(14, 30)\n",
    "ax.set(title='LOOCV', xlabel='Degree of Polynomial', ylabel='MSE')\n",
    "plt.tight_layout()"
   ]
  },
  {
   "cell_type": "markdown",
   "id": "f35a53c0-f7cc-4beb-945d-5619f624c52d",
   "metadata": {
    "tags": []
   },
   "source": [
    "# 3. k-Fold Cross-Validation"
   ]
  },
  {
   "cell_type": "code",
   "execution_count": 20,
   "id": "fd7464cf-4903-4eb6-9eb1-6c9c91f84131",
   "metadata": {},
   "outputs": [],
   "source": [
    "error2 = np.zeros(10)\n",
    "\n",
    "for i in range(10):\n",
    "    poly = PolynomialFeatures(degree=i+1, include_bias=False)\n",
    "    poly_features = poly.fit_transform(X)\n",
    "    poly_reg_model = LinearRegression()\n",
    "    cv = KFold(10, random_state=17, shuffle=True)\n",
    "    scores = cross_val_score(poly_reg_model, poly_features, y, cv=cv,\n",
    "                             scoring='neg_mean_squared_error')\n",
    "    error2[i] = -scores.mean()"
   ]
  },
  {
   "cell_type": "code",
   "execution_count": 21,
   "id": "6811bbfd-c35d-4fef-bf0d-84c780c05b20",
   "metadata": {},
   "outputs": [
    {
     "data": {
      "image/png": "[encoded data removed]",
      "text/plain": [
       "<Figure size 1400x600 with 2 Axes>"
      ]
     },
     "metadata": {},
     "output_type": "display_data"
    }
   ],
   "source": [
    "fig, ax = plt.subplots(1, 2, sharex=True, sharey=True, figsize=(14, 6))\n",
    "\n",
    "ax[0].plot(np.arange(1, 11), error1, '-o')\n",
    "ax[0].set_ylim(14, 30)\n",
    "ax[0].set(title='LOOCV', xlabel='Degree of Polynomial', ylabel='MSE')\n",
    "\n",
    "ax[1].plot(np.arange(1, 11), error2, '-o')\n",
    "ax[1].set(title='10-FOLD CV', xlabel='Degree of Polynomial', ylabel='MSE')\n",
    "\n",
    "plt.tight_layout()"
   ]
  },
  {
   "cell_type": "code",
   "execution_count": 22,
   "id": "9ed2743c-9479-49c7-9acf-cfb3ced20c11",
   "metadata": {},
   "outputs": [
    {
     "data": {
      "image/png": "[encoded data removed]",
      "text/plain": [
       "<Figure size 800x550 with 1 Axes>"
      ]
     },
     "metadata": {},
     "output_type": "display_data"
    }
   ],
   "source": [
    "fig, ax = plt.subplots()\n",
    "\n",
    "ax.plot(np.arange(1, 11), error1, '-o', label='LOOCV', alpha=0.6)\n",
    "ax.plot(np.arange(1, 11), error2, '-o', label='10-FOLD CV', alpha=0.6)\n",
    "\n",
    "ax.set_ylim(14, 30)\n",
    "ax.set(title='Error Rates', xlabel='Degree of Polynomial', ylabel='MSE')\n",
    "ax.legend()\n",
    "\n",
    "plt.tight_layout()"
   ]
  },
  {
   "cell_type": "markdown",
   "id": "657eae63-db82-4d1a-8006-027bd6a7f6c2",
   "metadata": {},
   "source": [
    "# 4. The Bootstrap"
   ]
  },
  {
   "cell_type": "markdown",
   "id": "24535fd5-29f9-4e73-87c8-57f157d1853c",
   "metadata": {},
   "source": [
    "## Estimating the Accuracy of a Statistic of Interest"
   ]
  },
  {
   "cell_type": "code",
   "execution_count": 23,
   "id": "b505dd61-831c-4fe7-a389-efb937d8c1f3",
   "metadata": {},
   "outputs": [],
   "source": [
    "portfolio = sm.datasets.get_rdataset('Portfolio', 'ISLR').data"
   ]
  },
  {
   "cell_type": "code",
   "execution_count": 24,
   "id": "3a954d95-eeb7-4728-bff0-a30748877fd7",
   "metadata": {},
   "outputs": [
    {
     "data": {
      "text/html": [
       "<div>\n",
       "<style scoped>\n",
       "    .dataframe tbody tr th:only-of-type {\n",
       "        vertical-align: middle;\n",
       "    }\n",
       "\n",
       "    .dataframe tbody tr th {\n",
       "        vertical-align: top;\n",
       "    }\n",
       "\n",
       "    .dataframe thead th {\n",
       "        text-align: right;\n",
       "    }\n",
       "</style>\n",
       "<table border=\"1\" class=\"dataframe\">\n",
       "  <thead>\n",
       "    <tr style=\"text-align: right;\">\n",
       "      <th></th>\n",
       "      <th>X</th>\n",
       "      <th>Y</th>\n",
       "    </tr>\n",
       "  </thead>\n",
       "  <tbody>\n",
       "    <tr>\n",
       "      <th>0</th>\n",
       "      <td>-0.895251</td>\n",
       "      <td>-0.234924</td>\n",
       "    </tr>\n",
       "    <tr>\n",
       "      <th>1</th>\n",
       "      <td>-1.562454</td>\n",
       "      <td>-0.885176</td>\n",
       "    </tr>\n",
       "    <tr>\n",
       "      <th>2</th>\n",
       "      <td>-0.417090</td>\n",
       "      <td>0.271888</td>\n",
       "    </tr>\n",
       "    <tr>\n",
       "      <th>3</th>\n",
       "      <td>1.044356</td>\n",
       "      <td>-0.734198</td>\n",
       "    </tr>\n",
       "    <tr>\n",
       "      <th>4</th>\n",
       "      <td>-0.315568</td>\n",
       "      <td>0.841983</td>\n",
       "    </tr>\n",
       "  </tbody>\n",
       "</table>\n",
       "</div>"
      ],
      "text/plain": [
       "          X         Y\n",
       "0 -0.895251 -0.234924\n",
       "1 -1.562454 -0.885176\n",
       "2 -0.417090  0.271888\n",
       "3  1.044356 -0.734198\n",
       "4 -0.315568  0.841983"
      ]
     },
     "execution_count": 24,
     "metadata": {},
     "output_type": "execute_result"
    }
   ],
   "source": [
    "portfolio.head()"
   ]
  },
  {
   "cell_type": "code",
   "execution_count": 25,
   "id": "13f568fc-860b-48c7-95ad-06ea7cc1e229",
   "metadata": {},
   "outputs": [],
   "source": [
    "from sklearn.utils import resample"
   ]
  },
  {
   "cell_type": "code",
   "execution_count": 26,
   "id": "12d5e442-4c18-47ca-ad5a-d6cac217793e",
   "metadata": {},
   "outputs": [],
   "source": [
    "def alpha(data, index):\n",
    "    data = data.loc[index]\n",
    "    cov_mat = data.cov()\n",
    "    return np.array((cov_mat.loc['Y', 'Y'] - cov_mat.loc['X', 'Y']) / (\n",
    "        cov_mat.loc['X', 'X'] + cov_mat.loc['Y', 'Y'] - 2*cov_mat.loc['X', 'Y']\n",
    "    ))"
   ]
  },
  {
   "cell_type": "code",
   "execution_count": 27,
   "id": "0cecefa4-e47b-4fc6-9075-3602648ddd87",
   "metadata": {},
   "outputs": [
    {
     "data": {
      "text/plain": [
       "array(0.57583207)"
      ]
     },
     "execution_count": 27,
     "metadata": {},
     "output_type": "execute_result"
    }
   ],
   "source": [
    "alpha(portfolio, portfolio.index)"
   ]
  },
  {
   "cell_type": "code",
   "execution_count": 28,
   "id": "910a1382-1bb8-4634-af8c-c1b3f291e03b",
   "metadata": {},
   "outputs": [],
   "source": [
    "def boot(data, func, R=1000):\n",
    "    \n",
    "    original = func(data, data.index)\n",
    "    stats = np.zeros((R, *original.shape))\n",
    "    \n",
    "    for i in range(R):\n",
    "        resample_index = resample(data.index, replace=True)\n",
    "        stats[i] = func(data, resample_index)\n",
    "        \n",
    "    bias = stats.mean(axis=0) - original\n",
    "    se = stats.std(axis=0, ddof=1)\n",
    "    \n",
    "    return original, bias, se"
   ]
  },
  {
   "cell_type": "code",
   "execution_count": 29,
   "id": "436de5bf-051e-4b20-b6e0-48f3448a41f1",
   "metadata": {},
   "outputs": [],
   "source": [
    "original, bias, se = boot(portfolio, alpha)"
   ]
  },
  {
   "cell_type": "code",
   "execution_count": 30,
   "id": "0d904744-761e-4a7b-90c5-3b5189fff221",
   "metadata": {},
   "outputs": [
    {
     "name": "stdout",
     "output_type": "stream",
     "text": [
      "\n",
      "Original: 0.57583207459283\n",
      "Bias: 0.00419144491423884\n",
      "Std Error: 0.09319601588604272\n",
      "\n"
     ]
    }
   ],
   "source": [
    "print(f\"\"\"\n",
    "Original: {original}\n",
    "Bias: {bias}\n",
    "Std Error: {se}\n",
    "\"\"\")"
   ]
  },
  {
   "cell_type": "markdown",
   "id": "9b1d5da3-b4dc-4d66-a8ca-dec0abbc5233",
   "metadata": {},
   "source": [
    "## Estimating the Accuracy of a Linear Regression Model"
   ]
  },
  {
   "cell_type": "code",
   "execution_count": 31,
   "id": "46c7bd81-467e-4474-b366-5df2a30095cb",
   "metadata": {},
   "outputs": [],
   "source": [
    "def lin_coefs(data, index):  \n",
    "    lm = smf.ols('mpg ~ horsepower', data=data, subset=index).fit()\n",
    "    return lm.params"
   ]
  },
  {
   "cell_type": "code",
   "execution_count": 32,
   "id": "872c0cdb-ba66-4e94-acad-ad077da56c8e",
   "metadata": {},
   "outputs": [
    {
     "data": {
      "text/plain": [
       "Intercept     39.935861\n",
       "horsepower    -0.157845\n",
       "dtype: float64"
      ]
     },
     "execution_count": 32,
     "metadata": {},
     "output_type": "execute_result"
    }
   ],
   "source": [
    "lin_coefs(auto, auto.index)"
   ]
  },
  {
   "cell_type": "code",
   "execution_count": 33,
   "id": "90e210a0-8850-4a6d-bdb1-fb9b0a3b5bb4",
   "metadata": {},
   "outputs": [
    {
     "data": {
      "text/plain": [
       "Intercept     38.258226\n",
       "horsepower    -0.147286\n",
       "dtype: float64"
      ]
     },
     "execution_count": 33,
     "metadata": {},
     "output_type": "execute_result"
    }
   ],
   "source": [
    "lin_coefs(auto, resample(auto.index))"
   ]
  },
  {
   "cell_type": "code",
   "execution_count": 34,
   "id": "6e426370-484a-40b5-ba4d-6aaa3bd487af",
   "metadata": {},
   "outputs": [
    {
     "data": {
      "text/plain": [
       "Intercept     39.166792\n",
       "horsepower    -0.149524\n",
       "dtype: float64"
      ]
     },
     "execution_count": 34,
     "metadata": {},
     "output_type": "execute_result"
    }
   ],
   "source": [
    "lin_coefs(auto, resample(auto.index))"
   ]
  },
  {
   "cell_type": "code",
   "execution_count": 35,
   "id": "d8448e8f-931d-4dc4-a12b-01847ba42114",
   "metadata": {},
   "outputs": [
    {
     "data": {
      "text/html": [
       "<table class=\"simpletable\">\n",
       "<caption>OLS Regression Results</caption>\n",
       "<tr>\n",
       "  <th>Dep. Variable:</th>           <td>mpg</td>       <th>  R-squared:         </th> <td>   0.606</td>\n",
       "</tr>\n",
       "<tr>\n",
       "  <th>Model:</th>                   <td>OLS</td>       <th>  Adj. R-squared:    </th> <td>   0.605</td>\n",
       "</tr>\n",
       "<tr>\n",
       "  <th>Method:</th>             <td>Least Squares</td>  <th>  F-statistic:       </th> <td>   599.7</td>\n",
       "</tr>\n",
       "<tr>\n",
       "  <th>Date:</th>             <td>Fri, 07 Oct 2022</td> <th>  Prob (F-statistic):</th> <td>7.03e-81</td>\n",
       "</tr>\n",
       "<tr>\n",
       "  <th>Time:</th>                 <td>11:29:56</td>     <th>  Log-Likelihood:    </th> <td> -1178.7</td>\n",
       "</tr>\n",
       "<tr>\n",
       "  <th>No. Observations:</th>      <td>   392</td>      <th>  AIC:               </th> <td>   2361.</td>\n",
       "</tr>\n",
       "<tr>\n",
       "  <th>Df Residuals:</th>          <td>   390</td>      <th>  BIC:               </th> <td>   2369.</td>\n",
       "</tr>\n",
       "<tr>\n",
       "  <th>Df Model:</th>              <td>     1</td>      <th>                     </th>     <td> </td>   \n",
       "</tr>\n",
       "<tr>\n",
       "  <th>Covariance Type:</th>      <td>nonrobust</td>    <th>                     </th>     <td> </td>   \n",
       "</tr>\n",
       "</table>\n",
       "<table class=\"simpletable\">\n",
       "<tr>\n",
       "       <td></td>         <th>coef</th>     <th>std err</th>      <th>t</th>      <th>P>|t|</th>  <th>[0.025</th>    <th>0.975]</th>  \n",
       "</tr>\n",
       "<tr>\n",
       "  <th>Intercept</th>  <td>   39.9359</td> <td>    0.717</td> <td>   55.660</td> <td> 0.000</td> <td>   38.525</td> <td>   41.347</td>\n",
       "</tr>\n",
       "<tr>\n",
       "  <th>horsepower</th> <td>   -0.1578</td> <td>    0.006</td> <td>  -24.489</td> <td> 0.000</td> <td>   -0.171</td> <td>   -0.145</td>\n",
       "</tr>\n",
       "</table>\n",
       "<table class=\"simpletable\">\n",
       "<tr>\n",
       "  <th>Omnibus:</th>       <td>16.432</td> <th>  Durbin-Watson:     </th> <td>   0.920</td>\n",
       "</tr>\n",
       "<tr>\n",
       "  <th>Prob(Omnibus):</th> <td> 0.000</td> <th>  Jarque-Bera (JB):  </th> <td>  17.305</td>\n",
       "</tr>\n",
       "<tr>\n",
       "  <th>Skew:</th>          <td> 0.492</td> <th>  Prob(JB):          </th> <td>0.000175</td>\n",
       "</tr>\n",
       "<tr>\n",
       "  <th>Kurtosis:</th>      <td> 3.299</td> <th>  Cond. No.          </th> <td>    322.</td>\n",
       "</tr>\n",
       "</table><br/><br/>Notes:<br/>[1] Standard Errors assume that the covariance matrix of the errors is correctly specified."
      ],
      "text/plain": [
       "<class 'statsmodels.iolib.summary.Summary'>\n",
       "\"\"\"\n",
       "                            OLS Regression Results                            \n",
       "==============================================================================\n",
       "Dep. Variable:                    mpg   R-squared:                       0.606\n",
       "Model:                            OLS   Adj. R-squared:                  0.605\n",
       "Method:                 Least Squares   F-statistic:                     599.7\n",
       "Date:                Fri, 07 Oct 2022   Prob (F-statistic):           7.03e-81\n",
       "Time:                        11:29:56   Log-Likelihood:                -1178.7\n",
       "No. Observations:                 392   AIC:                             2361.\n",
       "Df Residuals:                     390   BIC:                             2369.\n",
       "Df Model:                           1                                         \n",
       "Covariance Type:            nonrobust                                         \n",
       "==============================================================================\n",
       "                 coef    std err          t      P>|t|      [0.025      0.975]\n",
       "------------------------------------------------------------------------------\n",
       "Intercept     39.9359      0.717     55.660      0.000      38.525      41.347\n",
       "horsepower    -0.1578      0.006    -24.489      0.000      -0.171      -0.145\n",
       "==============================================================================\n",
       "Omnibus:                       16.432   Durbin-Watson:                   0.920\n",
       "Prob(Omnibus):                  0.000   Jarque-Bera (JB):               17.305\n",
       "Skew:                           0.492   Prob(JB):                     0.000175\n",
       "Kurtosis:                       3.299   Cond. No.                         322.\n",
       "==============================================================================\n",
       "\n",
       "Notes:\n",
       "[1] Standard Errors assume that the covariance matrix of the errors is correctly specified.\n",
       "\"\"\""
      ]
     },
     "execution_count": 35,
     "metadata": {},
     "output_type": "execute_result"
    }
   ],
   "source": [
    "lm = smf.ols('mpg ~ horsepower', data=auto).fit()\n",
    "lm.summary()"
   ]
  },
  {
   "cell_type": "code",
   "execution_count": 36,
   "id": "ab561af8-094d-41de-8a1b-6d192e707705",
   "metadata": {},
   "outputs": [],
   "source": [
    "original, bias, se = boot(auto, lin_coefs)"
   ]
  },
  {
   "cell_type": "code",
   "execution_count": 37,
   "id": "adb91e4c-646c-49cb-b5c1-2fcc8f3bfd5b",
   "metadata": {},
   "outputs": [
    {
     "data": {
      "text/plain": [
       "Intercept     39.935861\n",
       "horsepower    -0.157845\n",
       "dtype: float64"
      ]
     },
     "execution_count": 37,
     "metadata": {},
     "output_type": "execute_result"
    }
   ],
   "source": [
    "original"
   ]
  },
  {
   "cell_type": "code",
   "execution_count": 38,
   "id": "e8afabd0-97db-4247-9bfd-315386f54ef0",
   "metadata": {},
   "outputs": [
    {
     "data": {
      "text/plain": [
       "Intercept     0.010450\n",
       "horsepower   -0.000248\n",
       "dtype: float64"
      ]
     },
     "execution_count": 38,
     "metadata": {},
     "output_type": "execute_result"
    }
   ],
   "source": [
    "bias"
   ]
  },
  {
   "cell_type": "code",
   "execution_count": 39,
   "id": "72d0ade7-558c-4490-994b-a5f1e30f3af9",
   "metadata": {},
   "outputs": [
    {
     "data": {
      "text/plain": [
       "array([0.8455551 , 0.00730478])"
      ]
     },
     "execution_count": 39,
     "metadata": {},
     "output_type": "execute_result"
    }
   ],
   "source": [
    "se"
   ]
  },
  {
   "cell_type": "code",
   "execution_count": 40,
   "id": "c12c202e-1bb8-4bbe-8201-6cf886434c11",
   "metadata": {},
   "outputs": [],
   "source": [
    "def quad_coefs(data, index):  \n",
    "    lm = smf.ols('mpg ~ horsepower + I(horsepower**2)', data=data, subset=index).fit()\n",
    "    return lm.params"
   ]
  },
  {
   "cell_type": "code",
   "execution_count": 41,
   "id": "955e0c09-c294-482f-b197-8a7307465bda",
   "metadata": {},
   "outputs": [],
   "source": [
    "original, bias, se = boot(auto, quad_coefs)"
   ]
  },
  {
   "cell_type": "code",
   "execution_count": 42,
   "id": "835e1389-41d1-401f-8fae-d8792fc4509a",
   "metadata": {},
   "outputs": [
    {
     "data": {
      "text/plain": [
       "Intercept             56.900100\n",
       "horsepower            -0.466190\n",
       "I(horsepower ** 2)     0.001231\n",
       "dtype: float64"
      ]
     },
     "execution_count": 42,
     "metadata": {},
     "output_type": "execute_result"
    }
   ],
   "source": [
    "original"
   ]
  },
  {
   "cell_type": "code",
   "execution_count": 43,
   "id": "d9a4a07d-ce69-48af-b58f-ed5e3e6ba6be",
   "metadata": {},
   "outputs": [
    {
     "data": {
      "text/plain": [
       "Intercept             0.023260\n",
       "horsepower           -0.000493\n",
       "I(horsepower ** 2)    0.000002\n",
       "dtype: float64"
      ]
     },
     "execution_count": 43,
     "metadata": {},
     "output_type": "execute_result"
    }
   ],
   "source": [
    "bias"
   ]
  },
  {
   "cell_type": "code",
   "execution_count": 44,
   "id": "d4639a17-dab3-4146-bc43-aa2d5d530616",
   "metadata": {},
   "outputs": [
    {
     "data": {
      "text/plain": [
       "array([2.02004232e+00, 3.22056093e-02, 1.16196977e-04])"
      ]
     },
     "execution_count": 44,
     "metadata": {},
     "output_type": "execute_result"
    }
   ],
   "source": [
    "se"
   ]
  },
  {
   "cell_type": "code",
   "execution_count": 45,
   "id": "5bc4bf7b-c489-4933-9cc1-02b6240715cf",
   "metadata": {},
   "outputs": [
    {
     "data": {
      "text/html": [
       "<table class=\"simpletable\">\n",
       "<caption>OLS Regression Results</caption>\n",
       "<tr>\n",
       "  <th>Dep. Variable:</th>           <td>mpg</td>       <th>  R-squared:         </th> <td>   0.688</td>\n",
       "</tr>\n",
       "<tr>\n",
       "  <th>Model:</th>                   <td>OLS</td>       <th>  Adj. R-squared:    </th> <td>   0.686</td>\n",
       "</tr>\n",
       "<tr>\n",
       "  <th>Method:</th>             <td>Least Squares</td>  <th>  F-statistic:       </th> <td>   428.0</td>\n",
       "</tr>\n",
       "<tr>\n",
       "  <th>Date:</th>             <td>Fri, 07 Oct 2022</td> <th>  Prob (F-statistic):</th> <td>5.40e-99</td>\n",
       "</tr>\n",
       "<tr>\n",
       "  <th>Time:</th>                 <td>11:30:26</td>     <th>  Log-Likelihood:    </th> <td> -1133.2</td>\n",
       "</tr>\n",
       "<tr>\n",
       "  <th>No. Observations:</th>      <td>   392</td>      <th>  AIC:               </th> <td>   2272.</td>\n",
       "</tr>\n",
       "<tr>\n",
       "  <th>Df Residuals:</th>          <td>   389</td>      <th>  BIC:               </th> <td>   2284.</td>\n",
       "</tr>\n",
       "<tr>\n",
       "  <th>Df Model:</th>              <td>     2</td>      <th>                     </th>     <td> </td>   \n",
       "</tr>\n",
       "<tr>\n",
       "  <th>Covariance Type:</th>      <td>nonrobust</td>    <th>                     </th>     <td> </td>   \n",
       "</tr>\n",
       "</table>\n",
       "<table class=\"simpletable\">\n",
       "<tr>\n",
       "           <td></td>             <th>coef</th>     <th>std err</th>      <th>t</th>      <th>P>|t|</th>  <th>[0.025</th>    <th>0.975]</th>  \n",
       "</tr>\n",
       "<tr>\n",
       "  <th>Intercept</th>          <td>   56.9001</td> <td>    1.800</td> <td>   31.604</td> <td> 0.000</td> <td>   53.360</td> <td>   60.440</td>\n",
       "</tr>\n",
       "<tr>\n",
       "  <th>horsepower</th>         <td>   -0.4662</td> <td>    0.031</td> <td>  -14.978</td> <td> 0.000</td> <td>   -0.527</td> <td>   -0.405</td>\n",
       "</tr>\n",
       "<tr>\n",
       "  <th>I(horsepower ** 2)</th> <td>    0.0012</td> <td>    0.000</td> <td>   10.080</td> <td> 0.000</td> <td>    0.001</td> <td>    0.001</td>\n",
       "</tr>\n",
       "</table>\n",
       "<table class=\"simpletable\">\n",
       "<tr>\n",
       "  <th>Omnibus:</th>       <td>16.158</td> <th>  Durbin-Watson:     </th> <td>   1.078</td>\n",
       "</tr>\n",
       "<tr>\n",
       "  <th>Prob(Omnibus):</th> <td> 0.000</td> <th>  Jarque-Bera (JB):  </th> <td>  30.662</td>\n",
       "</tr>\n",
       "<tr>\n",
       "  <th>Skew:</th>          <td> 0.218</td> <th>  Prob(JB):          </th> <td>2.20e-07</td>\n",
       "</tr>\n",
       "<tr>\n",
       "  <th>Kurtosis:</th>      <td> 4.299</td> <th>  Cond. No.          </th> <td>1.29e+05</td>\n",
       "</tr>\n",
       "</table><br/><br/>Notes:<br/>[1] Standard Errors assume that the covariance matrix of the errors is correctly specified.<br/>[2] The condition number is large, 1.29e+05. This might indicate that there are<br/>strong multicollinearity or other numerical problems."
      ],
      "text/plain": [
       "<class 'statsmodels.iolib.summary.Summary'>\n",
       "\"\"\"\n",
       "                            OLS Regression Results                            \n",
       "==============================================================================\n",
       "Dep. Variable:                    mpg   R-squared:                       0.688\n",
       "Model:                            OLS   Adj. R-squared:                  0.686\n",
       "Method:                 Least Squares   F-statistic:                     428.0\n",
       "Date:                Fri, 07 Oct 2022   Prob (F-statistic):           5.40e-99\n",
       "Time:                        11:30:26   Log-Likelihood:                -1133.2\n",
       "No. Observations:                 392   AIC:                             2272.\n",
       "Df Residuals:                     389   BIC:                             2284.\n",
       "Df Model:                           2                                         \n",
       "Covariance Type:            nonrobust                                         \n",
       "======================================================================================\n",
       "                         coef    std err          t      P>|t|      [0.025      0.975]\n",
       "--------------------------------------------------------------------------------------\n",
       "Intercept             56.9001      1.800     31.604      0.000      53.360      60.440\n",
       "horsepower            -0.4662      0.031    -14.978      0.000      -0.527      -0.405\n",
       "I(horsepower ** 2)     0.0012      0.000     10.080      0.000       0.001       0.001\n",
       "==============================================================================\n",
       "Omnibus:                       16.158   Durbin-Watson:                   1.078\n",
       "Prob(Omnibus):                  0.000   Jarque-Bera (JB):               30.662\n",
       "Skew:                           0.218   Prob(JB):                     2.20e-07\n",
       "Kurtosis:                       4.299   Cond. No.                     1.29e+05\n",
       "==============================================================================\n",
       "\n",
       "Notes:\n",
       "[1] Standard Errors assume that the covariance matrix of the errors is correctly specified.\n",
       "[2] The condition number is large, 1.29e+05. This might indicate that there are\n",
       "strong multicollinearity or other numerical problems.\n",
       "\"\"\""
      ]
     },
     "execution_count": 45,
     "metadata": {},
     "output_type": "execute_result"
    }
   ],
   "source": [
    "lm = smf.ols('mpg ~ horsepower + I(horsepower**2)', data=auto).fit()\n",
    "lm.summary()"
   ]
  },
  {
   "cell_type": "code",
   "execution_count": null,
   "id": "0ac52471-ce3a-413c-8984-5c9c88d0ab7b",
   "metadata": {},
   "outputs": [],
   "source": []
  }
 ],
 "metadata": {
  "kernelspec": {
   "display_name": "Python 3 (ipykernel)",
   "language": "python",
   "name": "python3"
  },
  "language_info": {
   "codemirror_mode": {
    "name": "ipython",
    "version": 3
   },
   "file_extension": ".py",
   "mimetype": "text/x-python",
   "name": "python",
   "nbconvert_exporter": "python",
   "pygments_lexer": "ipython3",
   "version": "3.8.8"
  }
 },
 "nbformat": 4,
 "nbformat_minor": 5
}
