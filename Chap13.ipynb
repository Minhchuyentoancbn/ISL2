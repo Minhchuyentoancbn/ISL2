{
 "cells": [
  {
   "cell_type": "code",
   "execution_count": 1,
   "id": "a22149c5-d2c4-4d2a-b791-2597d9f0ee48",
   "metadata": {},
   "outputs": [],
   "source": [
    "import numpy as np\n",
    "import pandas as pd\n",
    "import scipy.stats as stats\n",
    "import matplotlib.pyplot as plt\n",
    "import json\n",
    "\n",
    "from statsmodels.sandbox.stats.multicomp import multipletests\n",
    "from statsmodels.stats.multicomp import pairwise_tukeyhsd\n",
    "from statsmodels.sandbox.stats.multicomp import TukeyHSDResults\n",
    "\n",
    "%matplotlib inline"
   ]
  },
  {
   "cell_type": "markdown",
   "id": "c59aae14-67a6-4303-ba8f-e9d29040e2be",
   "metadata": {},
   "source": [
    "# 1. Review of Hypothesis Tests"
   ]
  },
  {
   "cell_type": "code",
   "execution_count": 2,
   "id": "b2c000c6-82ca-4f2b-8ecb-f996e984a0bd",
   "metadata": {},
   "outputs": [],
   "source": [
    "np.random.seed(6)"
   ]
  },
  {
   "cell_type": "code",
   "execution_count": 3,
   "id": "b5e97f1b-f628-4653-91e8-ccb1161b5d49",
   "metadata": {},
   "outputs": [],
   "source": [
    "x = np.random.randn(10, 100)\n",
    "x[:, :50] = x[:, :50] + 0.5"
   ]
  },
  {
   "cell_type": "code",
   "execution_count": 4,
   "id": "3a5c5215-6839-48f1-8627-244d6e532e7f",
   "metadata": {},
   "outputs": [],
   "source": [
    "t, p_value = stats.ttest_1samp(x[:, 0], 0)"
   ]
  },
  {
   "cell_type": "code",
   "execution_count": 5,
   "id": "2b17e883-ff48-4b11-b930-ad60f6bb7907",
   "metadata": {},
   "outputs": [
    {
     "data": {
      "text/plain": [
       "0.4791635379320639"
      ]
     },
     "execution_count": 5,
     "metadata": {},
     "output_type": "execute_result"
    }
   ],
   "source": [
    "p_value"
   ]
  },
  {
   "cell_type": "code",
   "execution_count": 6,
   "id": "c7ff325d-33af-4362-9895-beaacd88ecee",
   "metadata": {},
   "outputs": [],
   "source": [
    "p_values = np.zeros(100)\n",
    "for i in range(100):\n",
    "    p_values[i] = stats.ttest_1samp(x[:, i], 0).pvalue"
   ]
  },
  {
   "cell_type": "code",
   "execution_count": 7,
   "id": "d9c9fd4f-2ece-41b5-a9dd-a87915786861",
   "metadata": {},
   "outputs": [],
   "source": [
    "decisions = np.where(p_values <= 0.05, 'Reject H0', 'Do not reject H0')"
   ]
  },
  {
   "cell_type": "code",
   "execution_count": 8,
   "id": "c59de4c6-ed8a-4be4-94c1-dc218cf4bfc1",
   "metadata": {},
   "outputs": [
    {
     "data": {
      "text/html": [
       "<div>\n",
       "<style scoped>\n",
       "    .dataframe tbody tr th:only-of-type {\n",
       "        vertical-align: middle;\n",
       "    }\n",
       "\n",
       "    .dataframe tbody tr th {\n",
       "        vertical-align: top;\n",
       "    }\n",
       "\n",
       "    .dataframe thead th {\n",
       "        text-align: right;\n",
       "    }\n",
       "</style>\n",
       "<table border=\"1\" class=\"dataframe\">\n",
       "  <thead>\n",
       "    <tr style=\"text-align: right;\">\n",
       "      <th></th>\n",
       "      <th>H0 is False</th>\n",
       "      <th>H0 is True</th>\n",
       "    </tr>\n",
       "    <tr>\n",
       "      <th></th>\n",
       "      <th></th>\n",
       "      <th></th>\n",
       "    </tr>\n",
       "  </thead>\n",
       "  <tbody>\n",
       "    <tr>\n",
       "      <th>Do not reject H0</th>\n",
       "      <td>34</td>\n",
       "      <td>50</td>\n",
       "    </tr>\n",
       "    <tr>\n",
       "      <th>Reject H0</th>\n",
       "      <td>16</td>\n",
       "      <td>0</td>\n",
       "    </tr>\n",
       "  </tbody>\n",
       "</table>\n",
       "</div>"
      ],
      "text/plain": [
       "                  H0 is False  H0 is True\n",
       "                                         \n",
       "Do not reject H0           34          50\n",
       "Reject H0                  16           0"
      ]
     },
     "execution_count": 8,
     "metadata": {},
     "output_type": "execute_result"
    }
   ],
   "source": [
    "pd.crosstab(decisions, np.array(['H0 is False'] * 50 + ['H0 is True'] * 50)).rename_axis(index='', columns='')"
   ]
  },
  {
   "cell_type": "code",
   "execution_count": 9,
   "id": "8dca4f69-540a-4e91-a0c8-00ecab553a85",
   "metadata": {},
   "outputs": [
    {
     "data": {
      "text/html": [
       "<div>\n",
       "<style scoped>\n",
       "    .dataframe tbody tr th:only-of-type {\n",
       "        vertical-align: middle;\n",
       "    }\n",
       "\n",
       "    .dataframe tbody tr th {\n",
       "        vertical-align: top;\n",
       "    }\n",
       "\n",
       "    .dataframe thead th {\n",
       "        text-align: right;\n",
       "    }\n",
       "</style>\n",
       "<table border=\"1\" class=\"dataframe\">\n",
       "  <thead>\n",
       "    <tr style=\"text-align: right;\">\n",
       "      <th></th>\n",
       "      <th>H0 is False</th>\n",
       "      <th>H0 is True</th>\n",
       "    </tr>\n",
       "    <tr>\n",
       "      <th></th>\n",
       "      <th></th>\n",
       "      <th></th>\n",
       "    </tr>\n",
       "  </thead>\n",
       "  <tbody>\n",
       "    <tr>\n",
       "      <th>Do not reject H0</th>\n",
       "      <td>7</td>\n",
       "      <td>49</td>\n",
       "    </tr>\n",
       "    <tr>\n",
       "      <th>Reject H0</th>\n",
       "      <td>43</td>\n",
       "      <td>1</td>\n",
       "    </tr>\n",
       "  </tbody>\n",
       "</table>\n",
       "</div>"
      ],
      "text/plain": [
       "                  H0 is False  H0 is True\n",
       "                                         \n",
       "Do not reject H0            7          49\n",
       "Reject H0                  43           1"
      ]
     },
     "execution_count": 9,
     "metadata": {},
     "output_type": "execute_result"
    }
   ],
   "source": [
    "x = np.random.randn(10, 100)\n",
    "x[:, :50] = x[:, :50] + 1\n",
    "\n",
    "for i in range(100):\n",
    "    p_values[i] = stats.ttest_1samp(x[:, i], 0).pvalue\n",
    "    \n",
    "decisions = np.where(p_values <= 0.05, 'Reject H0', 'Do not reject H0')\n",
    "pd.crosstab(decisions, np.array(['H0 is False'] * 50 + ['H0 is True'] * 50))\\\n",
    "    .rename_axis(index='', columns='')"
   ]
  },
  {
   "cell_type": "markdown",
   "id": "d3a76d5d-1236-4e78-a51b-8b66176d4e86",
   "metadata": {},
   "source": [
    "# 2. The Family-Wise Error Rate"
   ]
  },
  {
   "cell_type": "code",
   "execution_count": 10,
   "id": "33064d62-a752-4e9c-99ec-c0b048508705",
   "metadata": {},
   "outputs": [],
   "source": [
    "m = np.arange(1, 501)\n",
    "fwe1 = 1 - (1 - 0.05) ** m\n",
    "fwe2 = 1 - (1 - 0.01) ** m\n",
    "fwe3 = 1 - (1 - 0.001) ** m"
   ]
  },
  {
   "cell_type": "code",
   "execution_count": 11,
   "id": "acd4c65e-958b-4b1c-ae8b-e48768d70a9e",
   "metadata": {},
   "outputs": [
    {
     "data": {
      "text/plain": [
       "<matplotlib.legend.Legend at 0x189a0f26e80>"
      ]
     },
     "execution_count": 11,
     "metadata": {},
     "output_type": "execute_result"
    },
    {
     "data": {
      "image/png": "[encoded data removed]",
      "text/plain": [
       "<Figure size 640x480 with 1 Axes>"
      ]
     },
     "metadata": {},
     "output_type": "display_data"
    }
   ],
   "source": [
    "fig, ax = plt.subplots()\n",
    "ax.set_ylim(-0.05, 1.05)\n",
    "ax.set_xlabel('Number of Hypotheses')\n",
    "ax.set_ylabel('Family - Wise Error Rate')\n",
    "ax.plot(m, fwe1, label='alpha=0.05')\n",
    "ax.plot(m, fwe2, label='alpha=0.01')\n",
    "ax.plot(m, fwe3, label='alpha=0.001')\n",
    "ax.set_xscale('log')\n",
    "ax.legend()"
   ]
  },
  {
   "cell_type": "code",
   "execution_count": 12,
   "id": "76a40c61-ea6a-48a5-b31e-9b669a175f92",
   "metadata": {},
   "outputs": [],
   "source": [
    "fund = pd.read_csv('data/Fund.csv', index_col=0)\n",
    "fund_mini = fund.iloc[:, :5]"
   ]
  },
  {
   "cell_type": "code",
   "execution_count": 13,
   "id": "fab54e24-c8be-4dd4-ab16-14c8816f49c1",
   "metadata": {},
   "outputs": [
    {
     "data": {
      "text/plain": [
       "0.0062023554855382655"
      ]
     },
     "execution_count": 13,
     "metadata": {},
     "output_type": "execute_result"
    }
   ],
   "source": [
    "t, p_value = stats.ttest_1samp(fund_mini.iloc[:, 0], 0)\n",
    "p_value"
   ]
  },
  {
   "cell_type": "code",
   "execution_count": 14,
   "id": "3b994684-1acc-4972-9af9-e57a3fc1c419",
   "metadata": {},
   "outputs": [
    {
     "data": {
      "text/plain": [
       "2.860387767736774"
      ]
     },
     "execution_count": 14,
     "metadata": {},
     "output_type": "execute_result"
    }
   ],
   "source": [
    "t"
   ]
  },
  {
   "cell_type": "code",
   "execution_count": 15,
   "id": "e9b2551c-548d-4362-a8eb-128d971bfd9a",
   "metadata": {},
   "outputs": [
    {
     "data": {
      "text/plain": [
       "array([0.00620236, 0.91827115, 0.01160098, 0.6005396 , 0.75578151])"
      ]
     },
     "execution_count": 15,
     "metadata": {},
     "output_type": "execute_result"
    }
   ],
   "source": [
    "fund_pvalue = np.zeros(5)\n",
    "for i in range(5):\n",
    "    fund_pvalue[i] = stats.ttest_1samp(fund_mini.iloc[:, i], 0).pvalue\n",
    "fund_pvalue"
   ]
  },
  {
   "cell_type": "code",
   "execution_count": 16,
   "id": "cc048d6d-445d-4d35-bdc0-30319280c7c3",
   "metadata": {},
   "outputs": [
    {
     "data": {
      "text/plain": [
       "array([0.03101178, 1.        , 0.05800491, 1.        , 1.        ])"
      ]
     },
     "execution_count": 16,
     "metadata": {},
     "output_type": "execute_result"
    }
   ],
   "source": [
    "multipletests(fund_pvalue, method='bonferroni')[1]"
   ]
  },
  {
   "cell_type": "code",
   "execution_count": 17,
   "id": "83fc85bf-bd10-4832-9c8d-5e8f4debaa27",
   "metadata": {},
   "outputs": [
    {
     "data": {
      "text/plain": [
       "Manager1    3.0\n",
       "Manager2   -0.1\n",
       "Manager3    2.8\n",
       "Manager4    0.5\n",
       "Manager5    0.3\n",
       "dtype: float64"
      ]
     },
     "execution_count": 17,
     "metadata": {},
     "output_type": "execute_result"
    }
   ],
   "source": [
    "fund_mini.mean()"
   ]
  },
  {
   "cell_type": "code",
   "execution_count": 18,
   "id": "2191a8f8-845c-4731-9dda-25cc9cd641e5",
   "metadata": {},
   "outputs": [
    {
     "data": {
      "text/plain": [
       "(2.1280149481489823, 0.038391072368079586)"
      ]
     },
     "execution_count": 18,
     "metadata": {},
     "output_type": "execute_result"
    }
   ],
   "source": [
    "t, p_value = stats.ttest_rel(fund_mini.iloc[:, 0], fund_mini.iloc[:, 1])\n",
    "t, p_value"
   ]
  },
  {
   "cell_type": "code",
   "execution_count": 19,
   "id": "62b1a8d7-0ee2-4c89-8032-45b0a261802f",
   "metadata": {},
   "outputs": [],
   "source": [
    "returns = fund_mini.values.flatten(order='F')\n",
    "manager = np.repeat(['1', '2', '3', '4', '5'], [50] * 5)"
   ]
  },
  {
   "cell_type": "code",
   "execution_count": 20,
   "id": "dcfd0824-ce11-4c82-95b6-150bf182e9ce",
   "metadata": {},
   "outputs": [],
   "source": [
    "tukey = pairwise_tukeyhsd(endog=returns, groups=manager, alpha=0.05)"
   ]
  },
  {
   "cell_type": "code",
   "execution_count": 21,
   "id": "26801b4d-ff09-42ca-bafc-5ec3c0d545f2",
   "metadata": {},
   "outputs": [
    {
     "name": "stdout",
     "output_type": "stream",
     "text": [
      "Multiple Comparison of Means - Tukey HSD, FWER=0.05\n",
      "===================================================\n",
      "group1 group2 meandiff p-adj   lower  upper  reject\n",
      "---------------------------------------------------\n",
      "     1      2     -3.1 0.1862 -6.9865 0.7865  False\n",
      "     1      3     -0.2 0.9999 -4.0865 3.6865  False\n",
      "     1      4     -2.5 0.3948 -6.3865 1.3865  False\n",
      "     1      5     -2.7 0.3152 -6.5865 1.1865  False\n",
      "     2      3      2.9 0.2453 -0.9865 6.7865  False\n",
      "     2      4      0.6 0.9932 -3.2865 4.4865  False\n",
      "     2      5      0.4 0.9986 -3.4865 4.2865  False\n",
      "     3      4     -2.3  0.482 -6.1865 1.5865  False\n",
      "     3      5     -2.5 0.3948 -6.3865 1.3865  False\n",
      "     4      5     -0.2 0.9999 -4.0865 3.6865  False\n",
      "---------------------------------------------------\n"
     ]
    }
   ],
   "source": [
    "print(tukey)"
   ]
  },
  {
   "cell_type": "code",
   "execution_count": 22,
   "id": "ed0b1591-825b-4b2f-9750-036936622d17",
   "metadata": {},
   "outputs": [
    {
     "data": {
      "image/png": "[encoded data removed]",
      "text/plain": [
       "<Figure size 640x480 with 1 Axes>"
      ]
     },
     "metadata": {},
     "output_type": "display_data"
    }
   ],
   "source": [
    "labels = []\n",
    "for i in range(1, 6):\n",
    "    for j in range(i+1, 6):\n",
    "        labels.append(f'{j}-{i}')\n",
    "        \n",
    "plt.errorbar(tukey.meandiffs, np.arange(10, 0, -1), \n",
    "             xerr=tukey.meandiffs - tukey.confint[:, 0], \n",
    "             fmt='o', capsize=5)\n",
    "plt.axvline(0, alpha=0.2, ls='--')\n",
    "plt.yticks(ticks=np.arange(10, 0, -1), labels=labels)\n",
    "plt.grid(axis='y')"
   ]
  },
  {
   "cell_type": "markdown",
   "id": "1c0d755a-0524-4854-adf7-15465461dee2",
   "metadata": {},
   "source": [
    "# 3. The False Discovery Rate"
   ]
  },
  {
   "cell_type": "code",
   "execution_count": 23,
   "id": "c84fb848-712f-47d6-a566-5a494681d426",
   "metadata": {},
   "outputs": [],
   "source": [
    "fund_pvalues = np.zeros(2000)\n",
    "for i in range(2000):\n",
    "    fund_pvalues[i] = stats.ttest_1samp(fund.iloc[:, i], 0).pvalue"
   ]
  },
  {
   "cell_type": "code",
   "execution_count": 24,
   "id": "0532fcca-1923-4d7b-888d-408d250591d3",
   "metadata": {},
   "outputs": [
    {
     "data": {
      "text/plain": [
       "array([0.08988921, 0.991491  , 0.12211561, 0.92342997, 0.95603587,\n",
       "       0.07513802, 0.0767015 , 0.07513802, 0.07513802, 0.07513802])"
      ]
     },
     "execution_count": 24,
     "metadata": {},
     "output_type": "execute_result"
    }
   ],
   "source": [
    "q_values_bh = multipletests(fund_pvalues, method='fdr_bh')[1]\n",
    "q_values_bh[:10]"
   ]
  },
  {
   "cell_type": "code",
   "execution_count": 25,
   "id": "2a8b8289-6fb6-4042-8fab-860dfca90dd7",
   "metadata": {},
   "outputs": [
    {
     "data": {
      "text/plain": [
       "146"
      ]
     },
     "execution_count": 25,
     "metadata": {},
     "output_type": "execute_result"
    }
   ],
   "source": [
    "(q_values_bh <= 0.1).sum()"
   ]
  },
  {
   "cell_type": "code",
   "execution_count": 26,
   "id": "7b125bc6-ff45-49e6-82e1-e2aaded08e7e",
   "metadata": {},
   "outputs": [
    {
     "data": {
      "text/plain": [
       "0"
      ]
     },
     "execution_count": 26,
     "metadata": {},
     "output_type": "execute_result"
    }
   ],
   "source": [
    "(fund_pvalues <= (0.01 / 200)).sum()"
   ]
  },
  {
   "cell_type": "code",
   "execution_count": 27,
   "id": "3a0d961e-441b-4fc4-ae3c-18ef2f032714",
   "metadata": {},
   "outputs": [],
   "source": [
    "ps = np.sort(fund_pvalues)\n",
    "m = fund_pvalues.shape[0]\n",
    "q = 0.1\n",
    "wh_ps = np.where(ps < (q * np.arange(1, m + 1) / m))[0] + 1\n",
    "if len(wh_ps) > 0:\n",
    "    wh = np.arange(1, wh_ps.max() + 1)\n",
    "else:\n",
    "    wh = 0"
   ]
  },
  {
   "cell_type": "code",
   "execution_count": 28,
   "id": "a0ffd77d-9131-40bf-8431-eeaf3f2b99d9",
   "metadata": {},
   "outputs": [
    {
     "data": {
      "text/plain": [
       "[<matplotlib.lines.Line2D at 0x189a1b7a880>]"
      ]
     },
     "execution_count": 28,
     "metadata": {},
     "output_type": "execute_result"
    },
    {
     "data": {
      "image/png": "[encoded data removed]",
      "text/plain": [
       "<Figure size 640x480 with 1 Axes>"
      ]
     },
     "metadata": {},
     "output_type": "display_data"
    }
   ],
   "source": [
    "fig, ax = plt.subplots()\n",
    "ax.set_xscale('log')\n",
    "ax.set_yscale('log')\n",
    "ax.set_ylim(4e-6, 1)\n",
    "ax.set_ylabel('P-Value')\n",
    "ax.set_xlabel('Index')\n",
    "ax.scatter(wh, ps[wh-1], c='black')\n",
    "ax.plot(ps, 'o', alpha=0.3)\n",
    "ax.axhline(0.1 / 2000, c='green')\n",
    "ax.plot(np.arange(1, m+1), q * np.arange(1, m+1) / m)"
   ]
  },
  {
   "cell_type": "markdown",
   "id": "03a37e28-e280-425a-8aca-44d2c1187a84",
   "metadata": {},
   "source": [
    "# 4. A Re-Sampling Approach"
   ]
  },
  {
   "cell_type": "code",
   "execution_count": 29,
   "id": "f581e220-d371-48ea-96a3-b6fdfb9c3d97",
   "metadata": {},
   "outputs": [],
   "source": [
    "with open('./data/Khan.json') as f:\n",
    "    Khan = json.load(f)\n",
    "\n",
    "X_train = np.array(Khan['xtrain'])\n",
    "y_train = np.array(Khan['ytrain'])\n",
    "X_test = np.array(Khan['xtest'])\n",
    "y_test = np.array(Khan['ytest'])"
   ]
  },
  {
   "cell_type": "code",
   "execution_count": 30,
   "id": "85df3b48-2fba-4d1b-8498-07f1e25d8a0a",
   "metadata": {},
   "outputs": [],
   "source": [
    "X = np.r_[X_train, X_test]\n",
    "y = np.concatenate((y_train, y_test))"
   ]
  },
  {
   "cell_type": "code",
   "execution_count": 31,
   "id": "2191cda6-82e5-44d7-82a4-3a28bd83c9f7",
   "metadata": {},
   "outputs": [
    {
     "data": {
      "text/plain": [
       "(83, 2308)"
      ]
     },
     "execution_count": 31,
     "metadata": {},
     "output_type": "execute_result"
    }
   ],
   "source": [
    "X.shape"
   ]
  },
  {
   "cell_type": "code",
   "execution_count": 32,
   "id": "efb7abd4-4b92-406c-aa0f-7b57495dd22b",
   "metadata": {},
   "outputs": [
    {
     "data": {
      "text/plain": [
       "1    11\n",
       "2    29\n",
       "3    18\n",
       "4    25\n",
       "dtype: int64"
      ]
     },
     "execution_count": 32,
     "metadata": {},
     "output_type": "execute_result"
    }
   ],
   "source": [
    "pd.Series(y).value_counts().sort_index()"
   ]
  },
  {
   "cell_type": "code",
   "execution_count": 33,
   "id": "8c8a32e1-e1a9-4185-967a-27846cd4e24a",
   "metadata": {},
   "outputs": [],
   "source": [
    "X1 = X[y == 2]\n",
    "X2 = X[y == 4]\n",
    "n1 = X1.shape[0]\n",
    "n2 = X2.shape[0]"
   ]
  },
  {
   "cell_type": "code",
   "execution_count": 34,
   "id": "49ec589c-3fc5-4576-8aaa-fd985ab80a5f",
   "metadata": {},
   "outputs": [
    {
     "data": {
      "text/plain": [
       "(-2.093659633980707, 0.04118396795367352)"
      ]
     },
     "execution_count": 34,
     "metadata": {},
     "output_type": "execute_result"
    }
   ],
   "source": [
    "t, p_value = stats.ttest_ind(X1[:, 10], X2[:, 10])\n",
    "t, p_value"
   ]
  },
  {
   "cell_type": "code",
   "execution_count": 35,
   "id": "a09f8f5e-a6a2-4552-9fa0-39ae3ed21be6",
   "metadata": {},
   "outputs": [],
   "source": [
    "np.random.seed(1)\n",
    "B = 10000\n",
    "Tbs = np.array([None] * B)\n",
    "for b in range(B):\n",
    "    dat = np.random.permutation(np.concatenate((X1[:, 10], X2[:, 10])))\n",
    "    Tbs[b] = stats.ttest_ind(dat[:n1], dat[n1:]).statistic"
   ]
  },
  {
   "cell_type": "code",
   "execution_count": 36,
   "id": "6c116a47-209a-4a8b-b8dc-662c24adb81c",
   "metadata": {},
   "outputs": [
    {
     "data": {
      "text/plain": [
       "0.0392"
      ]
     },
     "execution_count": 36,
     "metadata": {},
     "output_type": "execute_result"
    }
   ],
   "source": [
    "(np.abs(Tbs) > np.abs(t)).mean()"
   ]
  },
  {
   "cell_type": "code",
   "execution_count": 37,
   "id": "6dff3829-69cc-4486-9854-98b3844078e6",
   "metadata": {},
   "outputs": [
    {
     "data": {
      "image/png": "[encoded data removed]",
      "text/plain": [
       "<Figure size 640x480 with 1 Axes>"
      ]
     },
     "metadata": {},
     "output_type": "display_data"
    }
   ],
   "source": [
    "df = n1 + n2 - 2\n",
    "rv = stats.t(df)\n",
    "x = np.linspace(-4.2, 4.2, 1000)\n",
    "\n",
    "plt.hist(Tbs, bins=100, density=True)\n",
    "plt.xlim(-4.2, 4.2)\n",
    "plt.xlabel('Null Distribution of Test Statistic')\n",
    "plt.plot(x, rv.pdf(x), lw=3, c='orange')\n",
    "plt.axvline(t, color='red', lw=2)\n",
    "plt.text(t - 1.5, 0.4, f'T = {np.round(t, 4)}', c='red')\n",
    "plt.show()"
   ]
  },
  {
   "cell_type": "code",
   "execution_count": 38,
   "id": "d7545abe-1e53-4da8-9316-8156e589398d",
   "metadata": {},
   "outputs": [],
   "source": [
    "m = 100\n",
    "# B = 500\n",
    "np.random.seed(1)\n",
    "index = np.random.choice(X1.shape[1], m, replace=False)\n",
    "Ts = np.zeros(m)\n",
    "Ts_star = np.zeros((B, m))\n",
    "\n",
    "for j in range(m):\n",
    "    k = index[j]\n",
    "    Ts[j] = stats.ttest_ind(X1[:, k], X2[:, k]).statistic\n",
    "    for b in range(B):\n",
    "        dat = np.random.permutation(np.concatenate((X1[:, k], X2[:, k])))\n",
    "        Ts_star[b, j] = stats.ttest_ind(dat[:n1], dat[n1:]).statistic"
   ]
  },
  {
   "cell_type": "code",
   "execution_count": 39,
   "id": "0998a380-97dc-4e9d-876f-91424a083ee6",
   "metadata": {},
   "outputs": [],
   "source": [
    "cs = np.sort(np.abs(Ts))\n",
    "Rs = np.zeros(m)\n",
    "Vs = np.zeros(m)\n",
    "for j in range(m):\n",
    "    Rs[j] = (np.abs(Ts) >= cs[j]).sum()\n",
    "    Vs[j] = (np.abs(Ts_star) >= cs[j]).sum() / B\n",
    "\n",
    "FDRs = Vs / Rs"
   ]
  },
  {
   "cell_type": "code",
   "execution_count": 40,
   "id": "310118bc-0d43-491d-90cf-2b83933f57c5",
   "metadata": {},
   "outputs": [
    {
     "data": {
      "text/plain": [
       "21.0"
      ]
     },
     "execution_count": 40,
     "metadata": {},
     "output_type": "execute_result"
    }
   ],
   "source": [
    "Rs[FDRs <= 0.1].max()"
   ]
  },
  {
   "cell_type": "code",
   "execution_count": 41,
   "id": "2149cf05-9ece-4ca0-b02f-f45d145ca6e5",
   "metadata": {},
   "outputs": [
    {
     "data": {
      "text/plain": [
       "(array([11, 12, 13, 19, 21, 22, 25, 26, 34, 40, 44, 52, 53, 57, 79, 84, 87,\n",
       "        89, 93, 94, 96], dtype=int64),)"
      ]
     },
     "execution_count": 41,
     "metadata": {},
     "output_type": "execute_result"
    }
   ],
   "source": [
    "np.where(np.abs(Ts) >= cs[FDRs < .1].min())"
   ]
  },
  {
   "cell_type": "code",
   "execution_count": 42,
   "id": "473c0e42-da77-4066-861e-1509acd70dfe",
   "metadata": {},
   "outputs": [
    {
     "data": {
      "text/plain": [
       "22.0"
      ]
     },
     "execution_count": 42,
     "metadata": {},
     "output_type": "execute_result"
    }
   ],
   "source": [
    "Rs[FDRs <= 0.2].max()"
   ]
  },
  {
   "cell_type": "code",
   "execution_count": 43,
   "id": "d114aa56-402c-405d-aaa7-169dc066ca1f",
   "metadata": {},
   "outputs": [
    {
     "data": {
      "text/plain": [
       "(array([11, 12, 13, 17, 19, 21, 22, 25, 26, 34, 40, 44, 52, 53, 57, 79, 84,\n",
       "        87, 89, 93, 94, 96], dtype=int64),)"
      ]
     },
     "execution_count": 43,
     "metadata": {},
     "output_type": "execute_result"
    }
   ],
   "source": [
    "np.where(np.abs(Ts) >= cs[FDRs < .2].min())"
   ]
  },
  {
   "cell_type": "code",
   "execution_count": 44,
   "id": "b45b5902-76e6-4bf9-bcec-54c02c7d72d7",
   "metadata": {},
   "outputs": [
    {
     "data": {
      "text/plain": [
       "Text(0, 0.5, 'False Discovery Rate')"
      ]
     },
     "execution_count": 44,
     "metadata": {},
     "output_type": "execute_result"
    },
    {
     "data": {
      "image/png": "[encoded data removed]",
      "text/plain": [
       "<Figure size 640x480 with 1 Axes>"
      ]
     },
     "metadata": {},
     "output_type": "display_data"
    }
   ],
   "source": [
    "plt.plot(Rs, FDRs, lw=3)\n",
    "plt.xlabel('Number of Rejections')\n",
    "plt.ylabel('False Discovery Rate')"
   ]
  },
  {
   "cell_type": "code",
   "execution_count": null,
   "id": "f67dc235-2375-4805-9362-a23d3945c03f",
   "metadata": {},
   "outputs": [],
   "source": []
  }
 ],
 "metadata": {
  "kernelspec": {
   "display_name": "Python 3 (ipykernel)",
   "language": "python",
   "name": "python3"
  },
  "language_info": {
   "codemirror_mode": {
    "name": "ipython",
    "version": 3
   },
   "file_extension": ".py",
   "mimetype": "text/x-python",
   "name": "python",
   "nbconvert_exporter": "python",
   "pygments_lexer": "ipython3",
   "version": "3.8.8"
  }
 },
 "nbformat": 4,
 "nbformat_minor": 5
}
