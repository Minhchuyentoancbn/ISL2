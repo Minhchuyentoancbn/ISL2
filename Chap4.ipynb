{
 "cells": [
  {
   "cell_type": "code",
   "execution_count": 1,
   "id": "2efe07eb-8bd3-47cc-8135-b79335a51940",
   "metadata": {},
   "outputs": [],
   "source": [
    "import numpy as np\n",
    "import pandas as pd\n",
    "import matplotlib.pyplot as plt\n",
    "import seaborn as sns\n",
    "import scipy.stats as stats\n",
    "\n",
    "import statsmodels.api as sm\n",
    "import statsmodels.formula.api as smf\n",
    "import statsmodels.graphics.api as smg\n",
    "\n",
    "\n",
    "plt.style.use('seaborn')\n",
    "%matplotlib inline"
   ]
  },
  {
   "cell_type": "markdown",
   "id": "e9c90864-01fd-4ef1-9832-e06b6192d32c",
   "metadata": {
    "tags": []
   },
   "source": [
    "# 1. The Stock Market Data"
   ]
  },
  {
   "cell_type": "code",
   "execution_count": 2,
   "id": "591425bf-4792-4df0-8435-b36facecb5bf",
   "metadata": {},
   "outputs": [],
   "source": [
    "smarket = sm.datasets.get_rdataset('Smarket', 'ISLR').data"
   ]
  },
  {
   "cell_type": "code",
   "execution_count": 3,
   "id": "eec039fc-36f9-4c0e-b32d-9ec324613eec",
   "metadata": {},
   "outputs": [
    {
     "data": {
      "text/html": [
       "<div>\n",
       "<style scoped>\n",
       "    .dataframe tbody tr th:only-of-type {\n",
       "        vertical-align: middle;\n",
       "    }\n",
       "\n",
       "    .dataframe tbody tr th {\n",
       "        vertical-align: top;\n",
       "    }\n",
       "\n",
       "    .dataframe thead th {\n",
       "        text-align: right;\n",
       "    }\n",
       "</style>\n",
       "<table border=\"1\" class=\"dataframe\">\n",
       "  <thead>\n",
       "    <tr style=\"text-align: right;\">\n",
       "      <th></th>\n",
       "      <th>Year</th>\n",
       "      <th>Lag1</th>\n",
       "      <th>Lag2</th>\n",
       "      <th>Lag3</th>\n",
       "      <th>Lag4</th>\n",
       "      <th>Lag5</th>\n",
       "      <th>Volume</th>\n",
       "      <th>Today</th>\n",
       "      <th>Direction</th>\n",
       "    </tr>\n",
       "  </thead>\n",
       "  <tbody>\n",
       "    <tr>\n",
       "      <th>0</th>\n",
       "      <td>2001</td>\n",
       "      <td>0.381</td>\n",
       "      <td>-0.192</td>\n",
       "      <td>-2.624</td>\n",
       "      <td>-1.055</td>\n",
       "      <td>5.010</td>\n",
       "      <td>1.1913</td>\n",
       "      <td>0.959</td>\n",
       "      <td>Up</td>\n",
       "    </tr>\n",
       "    <tr>\n",
       "      <th>1</th>\n",
       "      <td>2001</td>\n",
       "      <td>0.959</td>\n",
       "      <td>0.381</td>\n",
       "      <td>-0.192</td>\n",
       "      <td>-2.624</td>\n",
       "      <td>-1.055</td>\n",
       "      <td>1.2965</td>\n",
       "      <td>1.032</td>\n",
       "      <td>Up</td>\n",
       "    </tr>\n",
       "    <tr>\n",
       "      <th>2</th>\n",
       "      <td>2001</td>\n",
       "      <td>1.032</td>\n",
       "      <td>0.959</td>\n",
       "      <td>0.381</td>\n",
       "      <td>-0.192</td>\n",
       "      <td>-2.624</td>\n",
       "      <td>1.4112</td>\n",
       "      <td>-0.623</td>\n",
       "      <td>Down</td>\n",
       "    </tr>\n",
       "    <tr>\n",
       "      <th>3</th>\n",
       "      <td>2001</td>\n",
       "      <td>-0.623</td>\n",
       "      <td>1.032</td>\n",
       "      <td>0.959</td>\n",
       "      <td>0.381</td>\n",
       "      <td>-0.192</td>\n",
       "      <td>1.2760</td>\n",
       "      <td>0.614</td>\n",
       "      <td>Up</td>\n",
       "    </tr>\n",
       "    <tr>\n",
       "      <th>4</th>\n",
       "      <td>2001</td>\n",
       "      <td>0.614</td>\n",
       "      <td>-0.623</td>\n",
       "      <td>1.032</td>\n",
       "      <td>0.959</td>\n",
       "      <td>0.381</td>\n",
       "      <td>1.2057</td>\n",
       "      <td>0.213</td>\n",
       "      <td>Up</td>\n",
       "    </tr>\n",
       "  </tbody>\n",
       "</table>\n",
       "</div>"
      ],
      "text/plain": [
       "   Year   Lag1   Lag2   Lag3   Lag4   Lag5  Volume  Today Direction\n",
       "0  2001  0.381 -0.192 -2.624 -1.055  5.010  1.1913  0.959        Up\n",
       "1  2001  0.959  0.381 -0.192 -2.624 -1.055  1.2965  1.032        Up\n",
       "2  2001  1.032  0.959  0.381 -0.192 -2.624  1.4112 -0.623      Down\n",
       "3  2001 -0.623  1.032  0.959  0.381 -0.192  1.2760  0.614        Up\n",
       "4  2001  0.614 -0.623  1.032  0.959  0.381  1.2057  0.213        Up"
      ]
     },
     "execution_count": 3,
     "metadata": {},
     "output_type": "execute_result"
    }
   ],
   "source": [
    "smarket.head()"
   ]
  },
  {
   "cell_type": "code",
   "execution_count": 4,
   "id": "6c179ccd-bfbc-41fa-afac-4656b935273c",
   "metadata": {},
   "outputs": [
    {
     "data": {
      "text/plain": [
       "Index(['Year', 'Lag1', 'Lag2', 'Lag3', 'Lag4', 'Lag5', 'Volume', 'Today',\n",
       "       'Direction'],\n",
       "      dtype='object')"
      ]
     },
     "execution_count": 4,
     "metadata": {},
     "output_type": "execute_result"
    }
   ],
   "source": [
    "smarket.columns"
   ]
  },
  {
   "cell_type": "code",
   "execution_count": 5,
   "id": "c6824563-09a6-45ca-83cd-1a846ce430e7",
   "metadata": {},
   "outputs": [
    {
     "data": {
      "text/plain": [
       "(1250, 9)"
      ]
     },
     "execution_count": 5,
     "metadata": {},
     "output_type": "execute_result"
    }
   ],
   "source": [
    "smarket.shape"
   ]
  },
  {
   "cell_type": "code",
   "execution_count": 6,
   "id": "3037b34f-5967-4239-90a1-5f025b3069c3",
   "metadata": {},
   "outputs": [
    {
     "data": {
      "text/html": [
       "<div>\n",
       "<style scoped>\n",
       "    .dataframe tbody tr th:only-of-type {\n",
       "        vertical-align: middle;\n",
       "    }\n",
       "\n",
       "    .dataframe tbody tr th {\n",
       "        vertical-align: top;\n",
       "    }\n",
       "\n",
       "    .dataframe thead th {\n",
       "        text-align: right;\n",
       "    }\n",
       "</style>\n",
       "<table border=\"1\" class=\"dataframe\">\n",
       "  <thead>\n",
       "    <tr style=\"text-align: right;\">\n",
       "      <th></th>\n",
       "      <th>Year</th>\n",
       "      <th>Lag1</th>\n",
       "      <th>Lag2</th>\n",
       "      <th>Lag3</th>\n",
       "      <th>Lag4</th>\n",
       "      <th>Lag5</th>\n",
       "      <th>Volume</th>\n",
       "      <th>Today</th>\n",
       "    </tr>\n",
       "  </thead>\n",
       "  <tbody>\n",
       "    <tr>\n",
       "      <th>count</th>\n",
       "      <td>1250.000000</td>\n",
       "      <td>1250.000000</td>\n",
       "      <td>1250.000000</td>\n",
       "      <td>1250.000000</td>\n",
       "      <td>1250.000000</td>\n",
       "      <td>1250.00000</td>\n",
       "      <td>1250.000000</td>\n",
       "      <td>1250.000000</td>\n",
       "    </tr>\n",
       "    <tr>\n",
       "      <th>mean</th>\n",
       "      <td>2003.016000</td>\n",
       "      <td>0.003834</td>\n",
       "      <td>0.003919</td>\n",
       "      <td>0.001716</td>\n",
       "      <td>0.001636</td>\n",
       "      <td>0.00561</td>\n",
       "      <td>1.478305</td>\n",
       "      <td>0.003138</td>\n",
       "    </tr>\n",
       "    <tr>\n",
       "      <th>std</th>\n",
       "      <td>1.409018</td>\n",
       "      <td>1.136299</td>\n",
       "      <td>1.136280</td>\n",
       "      <td>1.138703</td>\n",
       "      <td>1.138774</td>\n",
       "      <td>1.14755</td>\n",
       "      <td>0.360357</td>\n",
       "      <td>1.136334</td>\n",
       "    </tr>\n",
       "    <tr>\n",
       "      <th>min</th>\n",
       "      <td>2001.000000</td>\n",
       "      <td>-4.922000</td>\n",
       "      <td>-4.922000</td>\n",
       "      <td>-4.922000</td>\n",
       "      <td>-4.922000</td>\n",
       "      <td>-4.92200</td>\n",
       "      <td>0.356070</td>\n",
       "      <td>-4.922000</td>\n",
       "    </tr>\n",
       "    <tr>\n",
       "      <th>25%</th>\n",
       "      <td>2002.000000</td>\n",
       "      <td>-0.639500</td>\n",
       "      <td>-0.639500</td>\n",
       "      <td>-0.640000</td>\n",
       "      <td>-0.640000</td>\n",
       "      <td>-0.64000</td>\n",
       "      <td>1.257400</td>\n",
       "      <td>-0.639500</td>\n",
       "    </tr>\n",
       "    <tr>\n",
       "      <th>50%</th>\n",
       "      <td>2003.000000</td>\n",
       "      <td>0.039000</td>\n",
       "      <td>0.039000</td>\n",
       "      <td>0.038500</td>\n",
       "      <td>0.038500</td>\n",
       "      <td>0.03850</td>\n",
       "      <td>1.422950</td>\n",
       "      <td>0.038500</td>\n",
       "    </tr>\n",
       "    <tr>\n",
       "      <th>75%</th>\n",
       "      <td>2004.000000</td>\n",
       "      <td>0.596750</td>\n",
       "      <td>0.596750</td>\n",
       "      <td>0.596750</td>\n",
       "      <td>0.596750</td>\n",
       "      <td>0.59700</td>\n",
       "      <td>1.641675</td>\n",
       "      <td>0.596750</td>\n",
       "    </tr>\n",
       "    <tr>\n",
       "      <th>max</th>\n",
       "      <td>2005.000000</td>\n",
       "      <td>5.733000</td>\n",
       "      <td>5.733000</td>\n",
       "      <td>5.733000</td>\n",
       "      <td>5.733000</td>\n",
       "      <td>5.73300</td>\n",
       "      <td>3.152470</td>\n",
       "      <td>5.733000</td>\n",
       "    </tr>\n",
       "  </tbody>\n",
       "</table>\n",
       "</div>"
      ],
      "text/plain": [
       "              Year         Lag1         Lag2         Lag3         Lag4  \\\n",
       "count  1250.000000  1250.000000  1250.000000  1250.000000  1250.000000   \n",
       "mean   2003.016000     0.003834     0.003919     0.001716     0.001636   \n",
       "std       1.409018     1.136299     1.136280     1.138703     1.138774   \n",
       "min    2001.000000    -4.922000    -4.922000    -4.922000    -4.922000   \n",
       "25%    2002.000000    -0.639500    -0.639500    -0.640000    -0.640000   \n",
       "50%    2003.000000     0.039000     0.039000     0.038500     0.038500   \n",
       "75%    2004.000000     0.596750     0.596750     0.596750     0.596750   \n",
       "max    2005.000000     5.733000     5.733000     5.733000     5.733000   \n",
       "\n",
       "             Lag5       Volume        Today  \n",
       "count  1250.00000  1250.000000  1250.000000  \n",
       "mean      0.00561     1.478305     0.003138  \n",
       "std       1.14755     0.360357     1.136334  \n",
       "min      -4.92200     0.356070    -4.922000  \n",
       "25%      -0.64000     1.257400    -0.639500  \n",
       "50%       0.03850     1.422950     0.038500  \n",
       "75%       0.59700     1.641675     0.596750  \n",
       "max       5.73300     3.152470     5.733000  "
      ]
     },
     "execution_count": 6,
     "metadata": {},
     "output_type": "execute_result"
    }
   ],
   "source": [
    "smarket.describe()"
   ]
  },
  {
   "cell_type": "code",
   "execution_count": 7,
   "id": "769af141-752f-454b-8dac-971efc1a5e86",
   "metadata": {},
   "outputs": [
    {
     "data": {
      "text/plain": [
       "Up      648\n",
       "Down    602\n",
       "Name: Direction, dtype: int64"
      ]
     },
     "execution_count": 7,
     "metadata": {},
     "output_type": "execute_result"
    }
   ],
   "source": [
    "smarket['Direction'].value_counts()"
   ]
  },
  {
   "cell_type": "code",
   "execution_count": 8,
   "id": "36d15840-4273-4a0f-9871-980738b34620",
   "metadata": {},
   "outputs": [
    {
     "data": {
      "text/html": [
       "<div>\n",
       "<style scoped>\n",
       "    .dataframe tbody tr th:only-of-type {\n",
       "        vertical-align: middle;\n",
       "    }\n",
       "\n",
       "    .dataframe tbody tr th {\n",
       "        vertical-align: top;\n",
       "    }\n",
       "\n",
       "    .dataframe thead th {\n",
       "        text-align: right;\n",
       "    }\n",
       "</style>\n",
       "<table border=\"1\" class=\"dataframe\">\n",
       "  <thead>\n",
       "    <tr style=\"text-align: right;\">\n",
       "      <th></th>\n",
       "      <th>Year</th>\n",
       "      <th>Lag1</th>\n",
       "      <th>Lag2</th>\n",
       "      <th>Lag3</th>\n",
       "      <th>Lag4</th>\n",
       "      <th>Lag5</th>\n",
       "      <th>Volume</th>\n",
       "      <th>Today</th>\n",
       "    </tr>\n",
       "  </thead>\n",
       "  <tbody>\n",
       "    <tr>\n",
       "      <th>Year</th>\n",
       "      <td>1.000000</td>\n",
       "      <td>0.029700</td>\n",
       "      <td>0.030596</td>\n",
       "      <td>0.033195</td>\n",
       "      <td>0.035689</td>\n",
       "      <td>0.029788</td>\n",
       "      <td>0.539006</td>\n",
       "      <td>0.030095</td>\n",
       "    </tr>\n",
       "    <tr>\n",
       "      <th>Lag1</th>\n",
       "      <td>0.029700</td>\n",
       "      <td>1.000000</td>\n",
       "      <td>-0.026294</td>\n",
       "      <td>-0.010803</td>\n",
       "      <td>-0.002986</td>\n",
       "      <td>-0.005675</td>\n",
       "      <td>0.040910</td>\n",
       "      <td>-0.026155</td>\n",
       "    </tr>\n",
       "    <tr>\n",
       "      <th>Lag2</th>\n",
       "      <td>0.030596</td>\n",
       "      <td>-0.026294</td>\n",
       "      <td>1.000000</td>\n",
       "      <td>-0.025897</td>\n",
       "      <td>-0.010854</td>\n",
       "      <td>-0.003558</td>\n",
       "      <td>-0.043383</td>\n",
       "      <td>-0.010250</td>\n",
       "    </tr>\n",
       "    <tr>\n",
       "      <th>Lag3</th>\n",
       "      <td>0.033195</td>\n",
       "      <td>-0.010803</td>\n",
       "      <td>-0.025897</td>\n",
       "      <td>1.000000</td>\n",
       "      <td>-0.024051</td>\n",
       "      <td>-0.018808</td>\n",
       "      <td>-0.041824</td>\n",
       "      <td>-0.002448</td>\n",
       "    </tr>\n",
       "    <tr>\n",
       "      <th>Lag4</th>\n",
       "      <td>0.035689</td>\n",
       "      <td>-0.002986</td>\n",
       "      <td>-0.010854</td>\n",
       "      <td>-0.024051</td>\n",
       "      <td>1.000000</td>\n",
       "      <td>-0.027084</td>\n",
       "      <td>-0.048414</td>\n",
       "      <td>-0.006900</td>\n",
       "    </tr>\n",
       "    <tr>\n",
       "      <th>Lag5</th>\n",
       "      <td>0.029788</td>\n",
       "      <td>-0.005675</td>\n",
       "      <td>-0.003558</td>\n",
       "      <td>-0.018808</td>\n",
       "      <td>-0.027084</td>\n",
       "      <td>1.000000</td>\n",
       "      <td>-0.022002</td>\n",
       "      <td>-0.034860</td>\n",
       "    </tr>\n",
       "    <tr>\n",
       "      <th>Volume</th>\n",
       "      <td>0.539006</td>\n",
       "      <td>0.040910</td>\n",
       "      <td>-0.043383</td>\n",
       "      <td>-0.041824</td>\n",
       "      <td>-0.048414</td>\n",
       "      <td>-0.022002</td>\n",
       "      <td>1.000000</td>\n",
       "      <td>0.014592</td>\n",
       "    </tr>\n",
       "    <tr>\n",
       "      <th>Today</th>\n",
       "      <td>0.030095</td>\n",
       "      <td>-0.026155</td>\n",
       "      <td>-0.010250</td>\n",
       "      <td>-0.002448</td>\n",
       "      <td>-0.006900</td>\n",
       "      <td>-0.034860</td>\n",
       "      <td>0.014592</td>\n",
       "      <td>1.000000</td>\n",
       "    </tr>\n",
       "  </tbody>\n",
       "</table>\n",
       "</div>"
      ],
      "text/plain": [
       "            Year      Lag1      Lag2      Lag3      Lag4      Lag5    Volume  \\\n",
       "Year    1.000000  0.029700  0.030596  0.033195  0.035689  0.029788  0.539006   \n",
       "Lag1    0.029700  1.000000 -0.026294 -0.010803 -0.002986 -0.005675  0.040910   \n",
       "Lag2    0.030596 -0.026294  1.000000 -0.025897 -0.010854 -0.003558 -0.043383   \n",
       "Lag3    0.033195 -0.010803 -0.025897  1.000000 -0.024051 -0.018808 -0.041824   \n",
       "Lag4    0.035689 -0.002986 -0.010854 -0.024051  1.000000 -0.027084 -0.048414   \n",
       "Lag5    0.029788 -0.005675 -0.003558 -0.018808 -0.027084  1.000000 -0.022002   \n",
       "Volume  0.539006  0.040910 -0.043383 -0.041824 -0.048414 -0.022002  1.000000   \n",
       "Today   0.030095 -0.026155 -0.010250 -0.002448 -0.006900 -0.034860  0.014592   \n",
       "\n",
       "           Today  \n",
       "Year    0.030095  \n",
       "Lag1   -0.026155  \n",
       "Lag2   -0.010250  \n",
       "Lag3   -0.002448  \n",
       "Lag4   -0.006900  \n",
       "Lag5   -0.034860  \n",
       "Volume  0.014592  \n",
       "Today   1.000000  "
      ]
     },
     "execution_count": 8,
     "metadata": {},
     "output_type": "execute_result"
    }
   ],
   "source": [
    "smarket.corr()"
   ]
  },
  {
   "cell_type": "code",
   "execution_count": 9,
   "id": "d16d81c4-6dab-42d0-9de5-b7ea883fb7ef",
   "metadata": {},
   "outputs": [
    {
     "data": {
      "text/plain": [
       "<AxesSubplot:xlabel='Year', ylabel='Volume'>"
      ]
     },
     "execution_count": 9,
     "metadata": {},
     "output_type": "execute_result"
    },
    {
     "data": {
      "image/png": "[encoded data removed]",
      "text/plain": [
       "<Figure size 800x550 with 1 Axes>"
      ]
     },
     "metadata": {},
     "output_type": "display_data"
    }
   ],
   "source": [
    "sns.boxplot(x='Year', y='Volume', data=smarket)"
   ]
  },
  {
   "cell_type": "markdown",
   "id": "e3240baf-b2ea-42fd-98cb-a337562845e3",
   "metadata": {
    "tags": []
   },
   "source": [
    "# 2. Logistic Regression"
   ]
  },
  {
   "cell_type": "code",
   "execution_count": 10,
   "id": "b1890129-47b3-481b-a9cd-4e8174d8699b",
   "metadata": {},
   "outputs": [],
   "source": [
    "label = smarket['Direction']\n",
    "smarket['Direction'] = smarket['Direction'].map({'Up': 1, 'Down': 0})"
   ]
  },
  {
   "cell_type": "code",
   "execution_count": 11,
   "id": "f158f06f-8f3f-413b-bf50-b105695876a3",
   "metadata": {},
   "outputs": [
    {
     "data": {
      "text/html": [
       "<table class=\"simpletable\">\n",
       "<caption>Generalized Linear Model Regression Results</caption>\n",
       "<tr>\n",
       "  <th>Dep. Variable:</th>       <td>Direction</td>    <th>  No. Observations:  </th>  <td>  1250</td> \n",
       "</tr>\n",
       "<tr>\n",
       "  <th>Model:</th>                  <td>GLM</td>       <th>  Df Residuals:      </th>  <td>  1243</td> \n",
       "</tr>\n",
       "<tr>\n",
       "  <th>Model Family:</th>        <td>Binomial</td>     <th>  Df Model:          </th>  <td>     6</td> \n",
       "</tr>\n",
       "<tr>\n",
       "  <th>Link Function:</th>         <td>Logit</td>      <th>  Scale:             </th> <td>  1.0000</td>\n",
       "</tr>\n",
       "<tr>\n",
       "  <th>Method:</th>                <td>IRLS</td>       <th>  Log-Likelihood:    </th> <td> -863.79</td>\n",
       "</tr>\n",
       "<tr>\n",
       "  <th>Date:</th>            <td>Thu, 06 Oct 2022</td> <th>  Deviance:          </th> <td>  1727.6</td>\n",
       "</tr>\n",
       "<tr>\n",
       "  <th>Time:</th>                <td>15:00:27</td>     <th>  Pearson chi2:      </th> <td>1.25e+03</td>\n",
       "</tr>\n",
       "<tr>\n",
       "  <th>No. Iterations:</th>          <td>4</td>        <th>  Pseudo R-squ. (CS):</th> <td>0.002868</td>\n",
       "</tr>\n",
       "<tr>\n",
       "  <th>Covariance Type:</th>     <td>nonrobust</td>    <th>                     </th>     <td> </td>   \n",
       "</tr>\n",
       "</table>\n",
       "<table class=\"simpletable\">\n",
       "<tr>\n",
       "      <td></td>         <th>coef</th>     <th>std err</th>      <th>z</th>      <th>P>|z|</th>  <th>[0.025</th>    <th>0.975]</th>  \n",
       "</tr>\n",
       "<tr>\n",
       "  <th>Intercept</th> <td>   -0.1260</td> <td>    0.241</td> <td>   -0.523</td> <td> 0.601</td> <td>   -0.598</td> <td>    0.346</td>\n",
       "</tr>\n",
       "<tr>\n",
       "  <th>Lag1</th>      <td>   -0.0731</td> <td>    0.050</td> <td>   -1.457</td> <td> 0.145</td> <td>   -0.171</td> <td>    0.025</td>\n",
       "</tr>\n",
       "<tr>\n",
       "  <th>Lag2</th>      <td>   -0.0423</td> <td>    0.050</td> <td>   -0.845</td> <td> 0.398</td> <td>   -0.140</td> <td>    0.056</td>\n",
       "</tr>\n",
       "<tr>\n",
       "  <th>Lag3</th>      <td>    0.0111</td> <td>    0.050</td> <td>    0.222</td> <td> 0.824</td> <td>   -0.087</td> <td>    0.109</td>\n",
       "</tr>\n",
       "<tr>\n",
       "  <th>Lag4</th>      <td>    0.0094</td> <td>    0.050</td> <td>    0.187</td> <td> 0.851</td> <td>   -0.089</td> <td>    0.107</td>\n",
       "</tr>\n",
       "<tr>\n",
       "  <th>Lag5</th>      <td>    0.0103</td> <td>    0.050</td> <td>    0.208</td> <td> 0.835</td> <td>   -0.087</td> <td>    0.107</td>\n",
       "</tr>\n",
       "<tr>\n",
       "  <th>Volume</th>    <td>    0.1354</td> <td>    0.158</td> <td>    0.855</td> <td> 0.392</td> <td>   -0.175</td> <td>    0.446</td>\n",
       "</tr>\n",
       "</table>"
      ],
      "text/plain": [
       "<class 'statsmodels.iolib.summary.Summary'>\n",
       "\"\"\"\n",
       "                 Generalized Linear Model Regression Results                  \n",
       "==============================================================================\n",
       "Dep. Variable:              Direction   No. Observations:                 1250\n",
       "Model:                            GLM   Df Residuals:                     1243\n",
       "Model Family:                Binomial   Df Model:                            6\n",
       "Link Function:                  Logit   Scale:                          1.0000\n",
       "Method:                          IRLS   Log-Likelihood:                -863.79\n",
       "Date:                Thu, 06 Oct 2022   Deviance:                       1727.6\n",
       "Time:                        15:00:27   Pearson chi2:                 1.25e+03\n",
       "No. Iterations:                     4   Pseudo R-squ. (CS):           0.002868\n",
       "Covariance Type:            nonrobust                                         \n",
       "==============================================================================\n",
       "                 coef    std err          z      P>|z|      [0.025      0.975]\n",
       "------------------------------------------------------------------------------\n",
       "Intercept     -0.1260      0.241     -0.523      0.601      -0.598       0.346\n",
       "Lag1          -0.0731      0.050     -1.457      0.145      -0.171       0.025\n",
       "Lag2          -0.0423      0.050     -0.845      0.398      -0.140       0.056\n",
       "Lag3           0.0111      0.050      0.222      0.824      -0.087       0.109\n",
       "Lag4           0.0094      0.050      0.187      0.851      -0.089       0.107\n",
       "Lag5           0.0103      0.050      0.208      0.835      -0.087       0.107\n",
       "Volume         0.1354      0.158      0.855      0.392      -0.175       0.446\n",
       "==============================================================================\n",
       "\"\"\""
      ]
     },
     "execution_count": 11,
     "metadata": {},
     "output_type": "execute_result"
    }
   ],
   "source": [
    "result = smf.glm('Direction ~ Lag1 + Lag2 + Lag3 + Lag4 + Lag5 + Volume',\n",
    "                data=smarket, family=sm.families.Binomial()).fit()\n",
    "result.summary()"
   ]
  },
  {
   "cell_type": "code",
   "execution_count": 12,
   "id": "0ebff52c-b555-445e-a281-75b58b1935ec",
   "metadata": {},
   "outputs": [
    {
     "data": {
      "text/plain": [
       "Intercept   -0.126000\n",
       "Lag1        -0.073074\n",
       "Lag2        -0.042301\n",
       "Lag3         0.011085\n",
       "Lag4         0.009359\n",
       "Lag5         0.010313\n",
       "Volume       0.135441\n",
       "dtype: float64"
      ]
     },
     "execution_count": 12,
     "metadata": {},
     "output_type": "execute_result"
    }
   ],
   "source": [
    "result.params"
   ]
  },
  {
   "cell_type": "code",
   "execution_count": 13,
   "id": "55b737a0-d6a9-416d-a1c2-e3cbe056e958",
   "metadata": {},
   "outputs": [
    {
     "data": {
      "text/html": [
       "<div>\n",
       "<style scoped>\n",
       "    .dataframe tbody tr th:only-of-type {\n",
       "        vertical-align: middle;\n",
       "    }\n",
       "\n",
       "    .dataframe tbody tr th {\n",
       "        vertical-align: top;\n",
       "    }\n",
       "\n",
       "    .dataframe thead th {\n",
       "        text-align: right;\n",
       "    }\n",
       "</style>\n",
       "<table border=\"1\" class=\"dataframe\">\n",
       "  <thead>\n",
       "    <tr style=\"text-align: right;\">\n",
       "      <th></th>\n",
       "      <th>Direction</th>\n",
       "      <th>Probabilty</th>\n",
       "      <th>Predicted</th>\n",
       "    </tr>\n",
       "  </thead>\n",
       "  <tbody>\n",
       "    <tr>\n",
       "      <th>0</th>\n",
       "      <td>Up</td>\n",
       "      <td>0.507084</td>\n",
       "      <td>Up</td>\n",
       "    </tr>\n",
       "    <tr>\n",
       "      <th>1</th>\n",
       "      <td>Up</td>\n",
       "      <td>0.481468</td>\n",
       "      <td>Down</td>\n",
       "    </tr>\n",
       "    <tr>\n",
       "      <th>2</th>\n",
       "      <td>Down</td>\n",
       "      <td>0.481139</td>\n",
       "      <td>Down</td>\n",
       "    </tr>\n",
       "    <tr>\n",
       "      <th>3</th>\n",
       "      <td>Up</td>\n",
       "      <td>0.515222</td>\n",
       "      <td>Up</td>\n",
       "    </tr>\n",
       "    <tr>\n",
       "      <th>4</th>\n",
       "      <td>Up</td>\n",
       "      <td>0.510781</td>\n",
       "      <td>Up</td>\n",
       "    </tr>\n",
       "  </tbody>\n",
       "</table>\n",
       "</div>"
      ],
      "text/plain": [
       "  Direction  Probabilty Predicted\n",
       "0        Up    0.507084        Up\n",
       "1        Up    0.481468      Down\n",
       "2      Down    0.481139      Down\n",
       "3        Up    0.515222        Up\n",
       "4        Up    0.510781        Up"
      ]
     },
     "execution_count": 13,
     "metadata": {},
     "output_type": "execute_result"
    }
   ],
   "source": [
    "X = smarket.iloc[:, :-1]\n",
    "prob = result.predict(X)\n",
    "predicted = pd.DataFrame({'Direction': label, 'Probabilty': prob})\n",
    "predicted = predicted.assign(\n",
    "    Predicted = np.where(predicted['Probabilty'] > 0.5, 'Up', 'Down')\n",
    ")\n",
    "predicted.head()"
   ]
  },
  {
   "cell_type": "code",
   "execution_count": 14,
   "id": "bf335d47-cf0b-4bd5-8ba4-338d56884390",
   "metadata": {},
   "outputs": [
    {
     "data": {
      "text/html": [
       "<div>\n",
       "<style scoped>\n",
       "    .dataframe tbody tr th:only-of-type {\n",
       "        vertical-align: middle;\n",
       "    }\n",
       "\n",
       "    .dataframe tbody tr th {\n",
       "        vertical-align: top;\n",
       "    }\n",
       "\n",
       "    .dataframe thead th {\n",
       "        text-align: right;\n",
       "    }\n",
       "</style>\n",
       "<table border=\"1\" class=\"dataframe\">\n",
       "  <thead>\n",
       "    <tr style=\"text-align: right;\">\n",
       "      <th>Direction</th>\n",
       "      <th>Down</th>\n",
       "      <th>Up</th>\n",
       "    </tr>\n",
       "    <tr>\n",
       "      <th>Predicted</th>\n",
       "      <th></th>\n",
       "      <th></th>\n",
       "    </tr>\n",
       "  </thead>\n",
       "  <tbody>\n",
       "    <tr>\n",
       "      <th>Down</th>\n",
       "      <td>145</td>\n",
       "      <td>141</td>\n",
       "    </tr>\n",
       "    <tr>\n",
       "      <th>Up</th>\n",
       "      <td>457</td>\n",
       "      <td>507</td>\n",
       "    </tr>\n",
       "  </tbody>\n",
       "</table>\n",
       "</div>"
      ],
      "text/plain": [
       "Direction  Down   Up\n",
       "Predicted           \n",
       "Down        145  141\n",
       "Up          457  507"
      ]
     },
     "execution_count": 14,
     "metadata": {},
     "output_type": "execute_result"
    }
   ],
   "source": [
    "pd.crosstab(predicted['Predicted'], predicted['Direction'])"
   ]
  },
  {
   "cell_type": "code",
   "execution_count": 15,
   "id": "f5daabf1-f264-4107-b9c6-2c21d74e8ebd",
   "metadata": {},
   "outputs": [
    {
     "data": {
      "text/plain": [
       "0.5216"
      ]
     },
     "execution_count": 15,
     "metadata": {},
     "output_type": "execute_result"
    }
   ],
   "source": [
    "(507 + 145) / 1250"
   ]
  },
  {
   "cell_type": "code",
   "execution_count": 16,
   "id": "03df99be-46ed-47e4-b97e-d7b580a26684",
   "metadata": {},
   "outputs": [],
   "source": [
    "train = smarket['Year'] < 2005"
   ]
  },
  {
   "cell_type": "code",
   "execution_count": 17,
   "id": "68badc79-8093-4f82-800c-347164f79d8f",
   "metadata": {},
   "outputs": [],
   "source": [
    "smarket_2005 = smarket[~train]"
   ]
  },
  {
   "cell_type": "code",
   "execution_count": 18,
   "id": "1a75d950-9be4-4c49-bc25-2390f4a4e382",
   "metadata": {},
   "outputs": [
    {
     "data": {
      "text/plain": [
       "(252, 9)"
      ]
     },
     "execution_count": 18,
     "metadata": {},
     "output_type": "execute_result"
    }
   ],
   "source": [
    "smarket_2005.shape"
   ]
  },
  {
   "cell_type": "code",
   "execution_count": 19,
   "id": "cd98c99a-ee43-4898-9f33-87454834657f",
   "metadata": {},
   "outputs": [],
   "source": [
    "direction_2005 = label[~train]"
   ]
  },
  {
   "cell_type": "code",
   "execution_count": 20,
   "id": "58a47241-601a-41bb-8dcb-01e81fee15db",
   "metadata": {},
   "outputs": [],
   "source": [
    "result = smf.glm('Direction ~ Lag1 + Lag2 + Lag3 + Lag4 + Lag5 + Volume',\n",
    "                data=smarket, family=sm.families.Binomial(), subset=train).fit()"
   ]
  },
  {
   "cell_type": "code",
   "execution_count": 21,
   "id": "4087b512-6016-4ca7-ab70-27f8108b5922",
   "metadata": {},
   "outputs": [
    {
     "data": {
      "text/html": [
       "<div>\n",
       "<style scoped>\n",
       "    .dataframe tbody tr th:only-of-type {\n",
       "        vertical-align: middle;\n",
       "    }\n",
       "\n",
       "    .dataframe tbody tr th {\n",
       "        vertical-align: top;\n",
       "    }\n",
       "\n",
       "    .dataframe thead th {\n",
       "        text-align: right;\n",
       "    }\n",
       "</style>\n",
       "<table border=\"1\" class=\"dataframe\">\n",
       "  <thead>\n",
       "    <tr style=\"text-align: right;\">\n",
       "      <th></th>\n",
       "      <th>Direction</th>\n",
       "      <th>Probabilty</th>\n",
       "      <th>Predicted</th>\n",
       "    </tr>\n",
       "  </thead>\n",
       "  <tbody>\n",
       "    <tr>\n",
       "      <th>998</th>\n",
       "      <td>Down</td>\n",
       "      <td>0.528220</td>\n",
       "      <td>Up</td>\n",
       "    </tr>\n",
       "    <tr>\n",
       "      <th>999</th>\n",
       "      <td>Down</td>\n",
       "      <td>0.515669</td>\n",
       "      <td>Up</td>\n",
       "    </tr>\n",
       "    <tr>\n",
       "      <th>1000</th>\n",
       "      <td>Down</td>\n",
       "      <td>0.522652</td>\n",
       "      <td>Up</td>\n",
       "    </tr>\n",
       "    <tr>\n",
       "      <th>1001</th>\n",
       "      <td>Up</td>\n",
       "      <td>0.513854</td>\n",
       "      <td>Up</td>\n",
       "    </tr>\n",
       "    <tr>\n",
       "      <th>1002</th>\n",
       "      <td>Down</td>\n",
       "      <td>0.498334</td>\n",
       "      <td>Down</td>\n",
       "    </tr>\n",
       "  </tbody>\n",
       "</table>\n",
       "</div>"
      ],
      "text/plain": [
       "     Direction  Probabilty Predicted\n",
       "998       Down    0.528220        Up\n",
       "999       Down    0.515669        Up\n",
       "1000      Down    0.522652        Up\n",
       "1001        Up    0.513854        Up\n",
       "1002      Down    0.498334      Down"
      ]
     },
     "execution_count": 21,
     "metadata": {},
     "output_type": "execute_result"
    }
   ],
   "source": [
    "X_test = smarket_2005.iloc[:, :-1]\n",
    "prob = result.predict(X_test)\n",
    "predicted = pd.DataFrame({'Direction': direction_2005, 'Probabilty': prob})\n",
    "predicted = predicted.assign(\n",
    "    Predicted = np.where(predicted['Probabilty'] > 0.5, 'Up', 'Down')\n",
    ")\n",
    "predicted.head()"
   ]
  },
  {
   "cell_type": "code",
   "execution_count": 22,
   "id": "686ec4d2-7bbb-4393-8927-4c988d1140c9",
   "metadata": {},
   "outputs": [
    {
     "data": {
      "text/html": [
       "<div>\n",
       "<style scoped>\n",
       "    .dataframe tbody tr th:only-of-type {\n",
       "        vertical-align: middle;\n",
       "    }\n",
       "\n",
       "    .dataframe tbody tr th {\n",
       "        vertical-align: top;\n",
       "    }\n",
       "\n",
       "    .dataframe thead th {\n",
       "        text-align: right;\n",
       "    }\n",
       "</style>\n",
       "<table border=\"1\" class=\"dataframe\">\n",
       "  <thead>\n",
       "    <tr style=\"text-align: right;\">\n",
       "      <th>Direction</th>\n",
       "      <th>Down</th>\n",
       "      <th>Up</th>\n",
       "    </tr>\n",
       "    <tr>\n",
       "      <th>Predicted</th>\n",
       "      <th></th>\n",
       "      <th></th>\n",
       "    </tr>\n",
       "  </thead>\n",
       "  <tbody>\n",
       "    <tr>\n",
       "      <th>Down</th>\n",
       "      <td>77</td>\n",
       "      <td>97</td>\n",
       "    </tr>\n",
       "    <tr>\n",
       "      <th>Up</th>\n",
       "      <td>34</td>\n",
       "      <td>44</td>\n",
       "    </tr>\n",
       "  </tbody>\n",
       "</table>\n",
       "</div>"
      ],
      "text/plain": [
       "Direction  Down  Up\n",
       "Predicted          \n",
       "Down         77  97\n",
       "Up           34  44"
      ]
     },
     "execution_count": 22,
     "metadata": {},
     "output_type": "execute_result"
    }
   ],
   "source": [
    "pd.crosstab(predicted['Predicted'], predicted['Direction'])"
   ]
  },
  {
   "cell_type": "code",
   "execution_count": 23,
   "id": "cc5571eb-55fc-4d8a-9f3a-58dcea17963a",
   "metadata": {},
   "outputs": [
    {
     "data": {
      "text/plain": [
       "0.4801587301587302"
      ]
     },
     "execution_count": 23,
     "metadata": {},
     "output_type": "execute_result"
    }
   ],
   "source": [
    "(predicted['Direction'] == predicted['Predicted']).mean()"
   ]
  },
  {
   "cell_type": "code",
   "execution_count": 24,
   "id": "9b4282f7-4476-43ed-9209-e5d5ac4d9bd7",
   "metadata": {},
   "outputs": [
    {
     "data": {
      "text/html": [
       "<div>\n",
       "<style scoped>\n",
       "    .dataframe tbody tr th:only-of-type {\n",
       "        vertical-align: middle;\n",
       "    }\n",
       "\n",
       "    .dataframe tbody tr th {\n",
       "        vertical-align: top;\n",
       "    }\n",
       "\n",
       "    .dataframe thead th {\n",
       "        text-align: right;\n",
       "    }\n",
       "</style>\n",
       "<table border=\"1\" class=\"dataframe\">\n",
       "  <thead>\n",
       "    <tr style=\"text-align: right;\">\n",
       "      <th>Direction</th>\n",
       "      <th>Down</th>\n",
       "      <th>Up</th>\n",
       "    </tr>\n",
       "    <tr>\n",
       "      <th>Predicted</th>\n",
       "      <th></th>\n",
       "      <th></th>\n",
       "    </tr>\n",
       "  </thead>\n",
       "  <tbody>\n",
       "    <tr>\n",
       "      <th>Down</th>\n",
       "      <td>35</td>\n",
       "      <td>35</td>\n",
       "    </tr>\n",
       "    <tr>\n",
       "      <th>Up</th>\n",
       "      <td>76</td>\n",
       "      <td>106</td>\n",
       "    </tr>\n",
       "  </tbody>\n",
       "</table>\n",
       "</div>"
      ],
      "text/plain": [
       "Direction  Down   Up\n",
       "Predicted           \n",
       "Down         35   35\n",
       "Up           76  106"
      ]
     },
     "execution_count": 24,
     "metadata": {},
     "output_type": "execute_result"
    }
   ],
   "source": [
    "result = smf.glm('Direction ~ Lag1 + Lag2',\n",
    "                data=smarket, family=sm.families.Binomial(), subset=train).fit()\n",
    "prob = result.predict(X_test)\n",
    "predicted = pd.DataFrame({'Direction': direction_2005, 'Probabilty': prob})\n",
    "predicted = predicted.assign(\n",
    "    Predicted = np.where(predicted['Probabilty'] > 0.5, 'Up', 'Down')\n",
    ")\n",
    "pd.crosstab(predicted['Predicted'], predicted['Direction'])"
   ]
  },
  {
   "cell_type": "code",
   "execution_count": 25,
   "id": "58d966de-66e2-40f7-99f1-03178cf5471e",
   "metadata": {},
   "outputs": [
    {
     "data": {
      "text/plain": [
       "0.5595238095238095"
      ]
     },
     "execution_count": 25,
     "metadata": {},
     "output_type": "execute_result"
    }
   ],
   "source": [
    "(predicted['Direction'] == predicted['Predicted']).mean()"
   ]
  },
  {
   "cell_type": "code",
   "execution_count": 26,
   "id": "3ef0645d-d5d2-48a6-964c-71ce9bdc88a5",
   "metadata": {},
   "outputs": [
    {
     "data": {
      "text/plain": [
       "0.5824175824175825"
      ]
     },
     "execution_count": 26,
     "metadata": {},
     "output_type": "execute_result"
    }
   ],
   "source": [
    "106 / (106 + 76)"
   ]
  },
  {
   "cell_type": "code",
   "execution_count": 27,
   "id": "728d7bdd-df0c-4f5d-9acc-2433b04e755b",
   "metadata": {},
   "outputs": [
    {
     "data": {
      "text/plain": [
       "0    0.479146\n",
       "1    0.496094\n",
       "dtype: float64"
      ]
     },
     "execution_count": 27,
     "metadata": {},
     "output_type": "execute_result"
    }
   ],
   "source": [
    "result.predict(pd.DataFrame({'Lag1': [1.2, 1.5], 'Lag2': [1.1, -0.8]}))"
   ]
  },
  {
   "cell_type": "markdown",
   "id": "cefa2db6-9f87-4290-acde-cb54dd483510",
   "metadata": {
    "tags": []
   },
   "source": [
    "# 3. Linear Discriminant Analysis"
   ]
  },
  {
   "cell_type": "code",
   "execution_count": 28,
   "id": "a3eb3ea9-e969-42af-a82b-cfa66bd9c2ff",
   "metadata": {},
   "outputs": [],
   "source": [
    "from sklearn.discriminant_analysis import LinearDiscriminantAnalysis\n",
    "from sklearn.metrics import confusion_matrix"
   ]
  },
  {
   "cell_type": "code",
   "execution_count": 29,
   "id": "913bab6a-6c51-4dea-8a98-33bbb4d5ce81",
   "metadata": {},
   "outputs": [
    {
     "data": {
      "text/html": [
       "<style>#sk-container-id-1 {color: black;background-color: white;}#sk-container-id-1 pre{padding: 0;}#sk-container-id-1 div.sk-toggleable {background-color: white;}#sk-container-id-1 label.sk-toggleable__label {cursor: pointer;display: block;width: 100%;margin-bottom: 0;padding: 0.3em;box-sizing: border-box;text-align: center;}#sk-container-id-1 label.sk-toggleable__label-arrow:before {content: \"▸\";float: left;margin-right: 0.25em;color: #696969;}#sk-container-id-1 label.sk-toggleable__label-arrow:hover:before {color: black;}#sk-container-id-1 div.sk-estimator:hover label.sk-toggleable__label-arrow:before {color: black;}#sk-container-id-1 div.sk-toggleable__content {max-height: 0;max-width: 0;overflow: hidden;text-align: left;background-color: #f0f8ff;}#sk-container-id-1 div.sk-toggleable__content pre {margin: 0.2em;color: black;border-radius: 0.25em;background-color: #f0f8ff;}#sk-container-id-1 input.sk-toggleable__control:checked~div.sk-toggleable__content {max-height: 200px;max-width: 100%;overflow: auto;}#sk-container-id-1 input.sk-toggleable__control:checked~label.sk-toggleable__label-arrow:before {content: \"▾\";}#sk-container-id-1 div.sk-estimator input.sk-toggleable__control:checked~label.sk-toggleable__label {background-color: #d4ebff;}#sk-container-id-1 div.sk-label input.sk-toggleable__control:checked~label.sk-toggleable__label {background-color: #d4ebff;}#sk-container-id-1 input.sk-hidden--visually {border: 0;clip: rect(1px 1px 1px 1px);clip: rect(1px, 1px, 1px, 1px);height: 1px;margin: -1px;overflow: hidden;padding: 0;position: absolute;width: 1px;}#sk-container-id-1 div.sk-estimator {font-family: monospace;background-color: #f0f8ff;border: 1px dotted black;border-radius: 0.25em;box-sizing: border-box;margin-bottom: 0.5em;}#sk-container-id-1 div.sk-estimator:hover {background-color: #d4ebff;}#sk-container-id-1 div.sk-parallel-item::after {content: \"\";width: 100%;border-bottom: 1px solid gray;flex-grow: 1;}#sk-container-id-1 div.sk-label:hover label.sk-toggleable__label {background-color: #d4ebff;}#sk-container-id-1 div.sk-serial::before {content: \"\";position: absolute;border-left: 1px solid gray;box-sizing: border-box;top: 0;bottom: 0;left: 50%;z-index: 0;}#sk-container-id-1 div.sk-serial {display: flex;flex-direction: column;align-items: center;background-color: white;padding-right: 0.2em;padding-left: 0.2em;position: relative;}#sk-container-id-1 div.sk-item {position: relative;z-index: 1;}#sk-container-id-1 div.sk-parallel {display: flex;align-items: stretch;justify-content: center;background-color: white;position: relative;}#sk-container-id-1 div.sk-item::before, #sk-container-id-1 div.sk-parallel-item::before {content: \"\";position: absolute;border-left: 1px solid gray;box-sizing: border-box;top: 0;bottom: 0;left: 50%;z-index: -1;}#sk-container-id-1 div.sk-parallel-item {display: flex;flex-direction: column;z-index: 1;position: relative;background-color: white;}#sk-container-id-1 div.sk-parallel-item:first-child::after {align-self: flex-end;width: 50%;}#sk-container-id-1 div.sk-parallel-item:last-child::after {align-self: flex-start;width: 50%;}#sk-container-id-1 div.sk-parallel-item:only-child::after {width: 0;}#sk-container-id-1 div.sk-dashed-wrapped {border: 1px dashed gray;margin: 0 0.4em 0.5em 0.4em;box-sizing: border-box;padding-bottom: 0.4em;background-color: white;}#sk-container-id-1 div.sk-label label {font-family: monospace;font-weight: bold;display: inline-block;line-height: 1.2em;}#sk-container-id-1 div.sk-label-container {text-align: center;}#sk-container-id-1 div.sk-container {/* jupyter's `normalize.less` sets `[hidden] { display: none; }` but bootstrap.min.css set `[hidden] { display: none !important; }` so we also need the `!important` here to be able to override the default hidden behavior on the sphinx rendered scikit-learn.org. See: https://github.com/scikit-learn/scikit-learn/issues/21755 */display: inline-block !important;position: relative;}#sk-container-id-1 div.sk-text-repr-fallback {display: none;}</style><div id=\"sk-container-id-1\" class=\"sk-top-container\"><div class=\"sk-text-repr-fallback\"><pre>LinearDiscriminantAnalysis()</pre><b>In a Jupyter environment, please rerun this cell to show the HTML representation or trust the notebook. <br />On GitHub, the HTML representation is unable to render, please try loading this page with nbviewer.org.</b></div><div class=\"sk-container\" hidden><div class=\"sk-item\"><div class=\"sk-estimator sk-toggleable\"><input class=\"sk-toggleable__control sk-hidden--visually\" id=\"sk-estimator-id-1\" type=\"checkbox\" checked><label for=\"sk-estimator-id-1\" class=\"sk-toggleable__label sk-toggleable__label-arrow\">LinearDiscriminantAnalysis</label><div class=\"sk-toggleable__content\"><pre>LinearDiscriminantAnalysis()</pre></div></div></div></div></div>"
      ],
      "text/plain": [
       "LinearDiscriminantAnalysis()"
      ]
     },
     "execution_count": 29,
     "metadata": {},
     "output_type": "execute_result"
    }
   ],
   "source": [
    "X_train = X.loc[train]\n",
    "y_train = smarket.loc[train, 'Direction']\n",
    "\n",
    "lda = LinearDiscriminantAnalysis()\n",
    "lda.fit(X_train[['Lag1', 'Lag2']], y_train)"
   ]
  },
  {
   "cell_type": "code",
   "execution_count": 30,
   "id": "25aa5a67-3245-42b7-8086-ed3839e709fb",
   "metadata": {},
   "outputs": [
    {
     "data": {
      "text/plain": [
       "array([0.49198397, 0.50801603])"
      ]
     },
     "execution_count": 30,
     "metadata": {},
     "output_type": "execute_result"
    }
   ],
   "source": [
    "lda.priors_"
   ]
  },
  {
   "cell_type": "code",
   "execution_count": 31,
   "id": "3f7921bc-7ca3-4576-85db-c56e00b35576",
   "metadata": {},
   "outputs": [
    {
     "name": "stdout",
     "output_type": "stream",
     "text": [
      "Group means:\n",
      "[[ 0.04279022  0.03389409]\n",
      " [-0.03954635 -0.03132544]]\n"
     ]
    }
   ],
   "source": [
    "print('Group means:')\n",
    "print(lda.means_)"
   ]
  },
  {
   "cell_type": "code",
   "execution_count": 32,
   "id": "e12e1177-1d46-42b3-b018-8247748cac85",
   "metadata": {},
   "outputs": [
    {
     "data": {
      "text/plain": [
       "array([[-0.05544078, -0.0443452 ]])"
      ]
     },
     "execution_count": 32,
     "metadata": {},
     "output_type": "execute_result"
    }
   ],
   "source": [
    "lda.coef_"
   ]
  },
  {
   "cell_type": "code",
   "execution_count": 33,
   "id": "3771d3ee-ec05-44d2-ba55-832e2e3291ab",
   "metadata": {},
   "outputs": [
    {
     "data": {
      "text/plain": [
       "array([0.03221375])"
      ]
     },
     "execution_count": 33,
     "metadata": {},
     "output_type": "execute_result"
    }
   ],
   "source": [
    "lda.intercept_"
   ]
  },
  {
   "cell_type": "code",
   "execution_count": 34,
   "id": "5adf43f5-ffe7-4673-a7c0-08a4c6cb5d4a",
   "metadata": {},
   "outputs": [
    {
     "data": {
      "text/plain": [
       "array([[ 35,  76],\n",
       "       [ 35, 106]], dtype=int64)"
      ]
     },
     "execution_count": 34,
     "metadata": {},
     "output_type": "execute_result"
    }
   ],
   "source": [
    "y_test = smarket_2005.iloc[:, -1]\n",
    "confusion_matrix(y_test, lda.predict(X_test[['Lag1', 'Lag2']]))"
   ]
  },
  {
   "cell_type": "code",
   "execution_count": 35,
   "id": "8927baf5-d128-4301-9d66-8c0bcff84baf",
   "metadata": {},
   "outputs": [
    {
     "data": {
      "text/plain": [
       "<AxesSubplot:xlabel='Direction'>"
      ]
     },
     "execution_count": 35,
     "metadata": {},
     "output_type": "execute_result"
    },
    {
     "data": {
      "image/png": "[encoded data removed]",
      "text/plain": [
       "<Figure size 800x550 with 1 Axes>"
      ]
     },
     "metadata": {},
     "output_type": "display_data"
    }
   ],
   "source": [
    "fig, ax = plt.subplots()\n",
    "sns.boxplot(\n",
    "    x=y_train,\n",
    "    y=(X_train['Lag1'] * lda.coef_[0,0] + \n",
    "       X_train['Lag2'] * lda.coef_[0,1]), \n",
    "    ax=ax\n",
    ")"
   ]
  },
  {
   "cell_type": "code",
   "execution_count": 36,
   "id": "76c1b479-8242-4364-ae7f-7cc0e97cb98e",
   "metadata": {},
   "outputs": [
    {
     "data": {
      "text/plain": [
       "(-5.45475, 6.26575, -5.45475, 6.26575)"
      ]
     },
     "execution_count": 36,
     "metadata": {},
     "output_type": "execute_result"
    },
    {
     "data": {
      "image/png": "[encoded data removed]",
      "text/plain": [
       "<Figure size 800x550 with 1 Axes>"
      ]
     },
     "metadata": {},
     "output_type": "display_data"
    }
   ],
   "source": [
    "fig, ax = plt.subplots()\n",
    "sns.scatterplot(x=X_train['Lag1'], y=X_train['Lag2'], \n",
    "                hue=label[train], ax=ax, alpha=0.4)\n",
    "plt.plot([lda.coef_[0, 0]*(-75), lda.coef_[0, 0]*75], [lda.coef_[0, 1]*(-75), lda.coef_[0, 1]*75], c='red')\n",
    "plt.plot([-lda.coef_[0, 1]*(-75), -lda.coef_[0, 1]*75], [lda.coef_[0, 0]*(-75), lda.coef_[0, 0]*75], c='orange')\n",
    "plt.axis('equal')"
   ]
  },
  {
   "cell_type": "code",
   "execution_count": 37,
   "id": "bfb0f9fa-16a4-477a-bb2b-5f470b9314e3",
   "metadata": {},
   "outputs": [
    {
     "data": {
      "text/html": [
       "<div>\n",
       "<style scoped>\n",
       "    .dataframe tbody tr th:only-of-type {\n",
       "        vertical-align: middle;\n",
       "    }\n",
       "\n",
       "    .dataframe tbody tr th {\n",
       "        vertical-align: top;\n",
       "    }\n",
       "\n",
       "    .dataframe thead th {\n",
       "        text-align: right;\n",
       "    }\n",
       "</style>\n",
       "<table border=\"1\" class=\"dataframe\">\n",
       "  <thead>\n",
       "    <tr style=\"text-align: right;\">\n",
       "      <th>Direction</th>\n",
       "      <th>Down</th>\n",
       "      <th>Up</th>\n",
       "    </tr>\n",
       "    <tr>\n",
       "      <th>Predicted</th>\n",
       "      <th></th>\n",
       "      <th></th>\n",
       "    </tr>\n",
       "  </thead>\n",
       "  <tbody>\n",
       "    <tr>\n",
       "      <th>Down</th>\n",
       "      <td>35</td>\n",
       "      <td>35</td>\n",
       "    </tr>\n",
       "    <tr>\n",
       "      <th>Up</th>\n",
       "      <td>76</td>\n",
       "      <td>106</td>\n",
       "    </tr>\n",
       "  </tbody>\n",
       "</table>\n",
       "</div>"
      ],
      "text/plain": [
       "Direction  Down   Up\n",
       "Predicted           \n",
       "Down         35   35\n",
       "Up           76  106"
      ]
     },
     "execution_count": 37,
     "metadata": {},
     "output_type": "execute_result"
    }
   ],
   "source": [
    "predicted = np.where(lda.predict(X_test[['Lag1', 'Lag2']]) == 1, 'Up', 'Down')\n",
    "pd.crosstab(predicted, label.loc[~train]).rename_axis(index='Predicted')"
   ]
  },
  {
   "cell_type": "code",
   "execution_count": 38,
   "id": "3beb73e7-92a2-4c01-a8a6-ac8152fdf3d9",
   "metadata": {},
   "outputs": [
    {
     "data": {
      "text/plain": [
       "70"
      ]
     },
     "execution_count": 38,
     "metadata": {},
     "output_type": "execute_result"
    }
   ],
   "source": [
    "predict_prob = lda.predict_proba(X_test[['Lag1', 'Lag2']])[:, 0]\n",
    "(predict_prob >= 0.5).sum()"
   ]
  },
  {
   "cell_type": "code",
   "execution_count": 39,
   "id": "49189fdf-83c3-4816-81ce-1928fcdffe85",
   "metadata": {},
   "outputs": [
    {
     "data": {
      "text/plain": [
       "182"
      ]
     },
     "execution_count": 39,
     "metadata": {},
     "output_type": "execute_result"
    }
   ],
   "source": [
    "(predict_prob < 0.5).sum()"
   ]
  },
  {
   "cell_type": "code",
   "execution_count": 40,
   "id": "62f728c4-828d-4f0a-b8da-a6ffc78573db",
   "metadata": {},
   "outputs": [
    {
     "data": {
      "text/plain": [
       "0"
      ]
     },
     "execution_count": 40,
     "metadata": {},
     "output_type": "execute_result"
    }
   ],
   "source": [
    "(predict_prob > 0.9).sum()"
   ]
  },
  {
   "cell_type": "markdown",
   "id": "8a5c6464-b6ca-4cc9-8fc9-58c1274d8df0",
   "metadata": {
    "tags": []
   },
   "source": [
    "# 4. Quadratic Discriminant Analysis"
   ]
  },
  {
   "cell_type": "code",
   "execution_count": 41,
   "id": "ff2d00fa-36cc-40d4-b0ca-161cd08d780a",
   "metadata": {},
   "outputs": [],
   "source": [
    "from sklearn.discriminant_analysis import QuadraticDiscriminantAnalysis as QDA"
   ]
  },
  {
   "cell_type": "code",
   "execution_count": 42,
   "id": "b841898e-27ca-42ac-b9f1-611a5083d39c",
   "metadata": {},
   "outputs": [],
   "source": [
    "qda = QDA().fit(X_train[['Lag1', 'Lag2']], y_train)"
   ]
  },
  {
   "cell_type": "code",
   "execution_count": 43,
   "id": "f7126785-08c5-4871-a76e-5701ee7cd68e",
   "metadata": {},
   "outputs": [
    {
     "data": {
      "text/plain": [
       "array([0.49198397, 0.50801603])"
      ]
     },
     "execution_count": 43,
     "metadata": {},
     "output_type": "execute_result"
    }
   ],
   "source": [
    "qda.priors_"
   ]
  },
  {
   "cell_type": "code",
   "execution_count": 44,
   "id": "1e320e05-abc3-40e1-88da-2d408fd2e7dc",
   "metadata": {},
   "outputs": [
    {
     "data": {
      "text/plain": [
       "array([[ 0.04279022,  0.03389409],\n",
       "       [-0.03954635, -0.03132544]])"
      ]
     },
     "execution_count": 44,
     "metadata": {},
     "output_type": "execute_result"
    }
   ],
   "source": [
    "qda.means_"
   ]
  },
  {
   "cell_type": "code",
   "execution_count": 45,
   "id": "1e51fdbc-7b44-4d7d-9109-7d1fa0801ebd",
   "metadata": {},
   "outputs": [
    {
     "data": {
      "text/html": [
       "<div>\n",
       "<style scoped>\n",
       "    .dataframe tbody tr th:only-of-type {\n",
       "        vertical-align: middle;\n",
       "    }\n",
       "\n",
       "    .dataframe tbody tr th {\n",
       "        vertical-align: top;\n",
       "    }\n",
       "\n",
       "    .dataframe thead th {\n",
       "        text-align: right;\n",
       "    }\n",
       "</style>\n",
       "<table border=\"1\" class=\"dataframe\">\n",
       "  <thead>\n",
       "    <tr style=\"text-align: right;\">\n",
       "      <th>Direction</th>\n",
       "      <th>Down</th>\n",
       "      <th>Up</th>\n",
       "    </tr>\n",
       "    <tr>\n",
       "      <th>Predicted</th>\n",
       "      <th></th>\n",
       "      <th></th>\n",
       "    </tr>\n",
       "  </thead>\n",
       "  <tbody>\n",
       "    <tr>\n",
       "      <th>Down</th>\n",
       "      <td>30</td>\n",
       "      <td>20</td>\n",
       "    </tr>\n",
       "    <tr>\n",
       "      <th>Up</th>\n",
       "      <td>81</td>\n",
       "      <td>121</td>\n",
       "    </tr>\n",
       "  </tbody>\n",
       "</table>\n",
       "</div>"
      ],
      "text/plain": [
       "Direction  Down   Up\n",
       "Predicted           \n",
       "Down         30   20\n",
       "Up           81  121"
      ]
     },
     "execution_count": 45,
     "metadata": {},
     "output_type": "execute_result"
    }
   ],
   "source": [
    "predicted = np.where(qda.predict(X_test[['Lag1', 'Lag2']]) == 1, 'Up', 'Down')\n",
    "pd.crosstab(predicted, label.loc[~train]).rename_axis(index='Predicted')"
   ]
  },
  {
   "cell_type": "code",
   "execution_count": 46,
   "id": "b88eecea-0cd9-448f-9331-28146ac6f5a6",
   "metadata": {},
   "outputs": [
    {
     "data": {
      "text/plain": [
       "0.5992063492063492"
      ]
     },
     "execution_count": 46,
     "metadata": {},
     "output_type": "execute_result"
    }
   ],
   "source": [
    "qda.score(X_test[['Lag1', 'Lag2']], y_test)"
   ]
  },
  {
   "cell_type": "markdown",
   "id": "826e7c3e-2a01-4183-a9c0-3aab7ac2c1d9",
   "metadata": {
    "tags": []
   },
   "source": [
    "# 5. Naive Bayes"
   ]
  },
  {
   "cell_type": "code",
   "execution_count": 47,
   "id": "748ec6e7-4b84-48c8-9503-c8738ac2042e",
   "metadata": {},
   "outputs": [],
   "source": [
    "from sklearn.naive_bayes import GaussianNB"
   ]
  },
  {
   "cell_type": "code",
   "execution_count": 48,
   "id": "0597764f-d0f8-4ffc-8193-d63f4224dc18",
   "metadata": {},
   "outputs": [],
   "source": [
    "nb = GaussianNB().fit(X_train[['Lag1', 'Lag2']], y_train)"
   ]
  },
  {
   "cell_type": "code",
   "execution_count": 49,
   "id": "d73fbd05-c2a2-4853-a5a1-dcc9216fa1e8",
   "metadata": {},
   "outputs": [
    {
     "data": {
      "text/plain": [
       "array([0.49198397, 0.50801603])"
      ]
     },
     "execution_count": 49,
     "metadata": {},
     "output_type": "execute_result"
    }
   ],
   "source": [
    "nb.class_prior_"
   ]
  },
  {
   "cell_type": "code",
   "execution_count": 50,
   "id": "e8636a4d-d036-4ed6-8a12-344597b89a85",
   "metadata": {},
   "outputs": [
    {
     "data": {
      "text/plain": [
       "array([[ 0.04279022,  0.03389409],\n",
       "       [-0.03954635, -0.03132544]])"
      ]
     },
     "execution_count": 50,
     "metadata": {},
     "output_type": "execute_result"
    }
   ],
   "source": [
    "nb.theta_"
   ]
  },
  {
   "cell_type": "code",
   "execution_count": 51,
   "id": "f9251a4e-69ec-4e3f-b57a-e93c6841fa51",
   "metadata": {},
   "outputs": [
    {
     "data": {
      "text/plain": [
       "array([[1.50355429, 1.53246749],\n",
       "       [1.51401364, 1.48732877]])"
      ]
     },
     "execution_count": 51,
     "metadata": {},
     "output_type": "execute_result"
    }
   ],
   "source": [
    "nb.var_"
   ]
  },
  {
   "cell_type": "code",
   "execution_count": 52,
   "id": "de96c237-e25d-47f5-b8db-c7dbaf8d86e9",
   "metadata": {},
   "outputs": [
    {
     "data": {
      "text/plain": [
       "0.04279022403258651"
      ]
     },
     "execution_count": 52,
     "metadata": {},
     "output_type": "execute_result"
    }
   ],
   "source": [
    "X_train.loc[label[train] == 'Down', 'Lag1'].mean()"
   ]
  },
  {
   "cell_type": "code",
   "execution_count": 53,
   "id": "d9bcbede-da62-467e-bea9-68b187c5e1b4",
   "metadata": {},
   "outputs": [
    {
     "data": {
      "text/plain": [
       "1.5035542920429221"
      ]
     },
     "execution_count": 53,
     "metadata": {},
     "output_type": "execute_result"
    }
   ],
   "source": [
    "X_train.loc[label[train] == 'Down', 'Lag1'].var(ddof=0)"
   ]
  },
  {
   "cell_type": "code",
   "execution_count": 54,
   "id": "35e2c1cf-2a57-4c8c-8d4a-85ed1e445826",
   "metadata": {},
   "outputs": [
    {
     "data": {
      "text/html": [
       "<div>\n",
       "<style scoped>\n",
       "    .dataframe tbody tr th:only-of-type {\n",
       "        vertical-align: middle;\n",
       "    }\n",
       "\n",
       "    .dataframe tbody tr th {\n",
       "        vertical-align: top;\n",
       "    }\n",
       "\n",
       "    .dataframe thead th {\n",
       "        text-align: right;\n",
       "    }\n",
       "</style>\n",
       "<table border=\"1\" class=\"dataframe\">\n",
       "  <thead>\n",
       "    <tr style=\"text-align: right;\">\n",
       "      <th>Direction</th>\n",
       "      <th>Down</th>\n",
       "      <th>Up</th>\n",
       "    </tr>\n",
       "    <tr>\n",
       "      <th>Predicted</th>\n",
       "      <th></th>\n",
       "      <th></th>\n",
       "    </tr>\n",
       "  </thead>\n",
       "  <tbody>\n",
       "    <tr>\n",
       "      <th>Down</th>\n",
       "      <td>29</td>\n",
       "      <td>20</td>\n",
       "    </tr>\n",
       "    <tr>\n",
       "      <th>Up</th>\n",
       "      <td>82</td>\n",
       "      <td>121</td>\n",
       "    </tr>\n",
       "  </tbody>\n",
       "</table>\n",
       "</div>"
      ],
      "text/plain": [
       "Direction  Down   Up\n",
       "Predicted           \n",
       "Down         29   20\n",
       "Up           82  121"
      ]
     },
     "execution_count": 54,
     "metadata": {},
     "output_type": "execute_result"
    }
   ],
   "source": [
    "predicted = np.where(nb.predict(X_test[['Lag1', 'Lag2']]) == 1, 'Up', 'Down')\n",
    "pd.crosstab(predicted, label.loc[~train]).rename_axis(index='Predicted')"
   ]
  },
  {
   "cell_type": "code",
   "execution_count": 55,
   "id": "ea3f8962-18a8-4210-89b4-e3abbce62d35",
   "metadata": {},
   "outputs": [
    {
     "data": {
      "text/plain": [
       "0.5952380952380952"
      ]
     },
     "execution_count": 55,
     "metadata": {},
     "output_type": "execute_result"
    }
   ],
   "source": [
    "(predicted == label[~train]).mean()"
   ]
  },
  {
   "cell_type": "code",
   "execution_count": 56,
   "id": "a8267601-30b4-4549-9e76-4ae85dde0dd6",
   "metadata": {},
   "outputs": [
    {
     "data": {
      "text/plain": [
       "array([[0.4873288 , 0.5126712 ],\n",
       "       [0.47623584, 0.52376416],\n",
       "       [0.46529531, 0.53470469],\n",
       "       [0.47484469, 0.52515531],\n",
       "       [0.49020587, 0.50979413]])"
      ]
     },
     "execution_count": 56,
     "metadata": {},
     "output_type": "execute_result"
    }
   ],
   "source": [
    "nb.predict_proba(X_test[['Lag1', 'Lag2']])[:5]"
   ]
  },
  {
   "cell_type": "markdown",
   "id": "1a7dd9f2-7e41-4666-ac72-5ac40d0d2433",
   "metadata": {
    "tags": []
   },
   "source": [
    "# 6. K-Nearest Neighbors"
   ]
  },
  {
   "cell_type": "code",
   "execution_count": 57,
   "id": "172d9e53-08b5-4f28-b544-802ab21a5008",
   "metadata": {},
   "outputs": [],
   "source": [
    "from sklearn.neighbors import KNeighborsClassifier as KNN"
   ]
  },
  {
   "cell_type": "code",
   "execution_count": 58,
   "id": "707ce716-6890-4a10-944d-4f66513e2c97",
   "metadata": {},
   "outputs": [],
   "source": [
    "knn = KNN(n_neighbors=1).fit(X_train[['Lag1', 'Lag2']], y_train)"
   ]
  },
  {
   "cell_type": "code",
   "execution_count": 59,
   "id": "e20de9a3-7285-441c-b00d-0d13002c92c8",
   "metadata": {},
   "outputs": [
    {
     "data": {
      "text/html": [
       "<div>\n",
       "<style scoped>\n",
       "    .dataframe tbody tr th:only-of-type {\n",
       "        vertical-align: middle;\n",
       "    }\n",
       "\n",
       "    .dataframe tbody tr th {\n",
       "        vertical-align: top;\n",
       "    }\n",
       "\n",
       "    .dataframe thead th {\n",
       "        text-align: right;\n",
       "    }\n",
       "</style>\n",
       "<table border=\"1\" class=\"dataframe\">\n",
       "  <thead>\n",
       "    <tr style=\"text-align: right;\">\n",
       "      <th>Direction</th>\n",
       "      <th>Down</th>\n",
       "      <th>Up</th>\n",
       "    </tr>\n",
       "    <tr>\n",
       "      <th>Predicted</th>\n",
       "      <th></th>\n",
       "      <th></th>\n",
       "    </tr>\n",
       "  </thead>\n",
       "  <tbody>\n",
       "    <tr>\n",
       "      <th>Down</th>\n",
       "      <td>43</td>\n",
       "      <td>58</td>\n",
       "    </tr>\n",
       "    <tr>\n",
       "      <th>Up</th>\n",
       "      <td>68</td>\n",
       "      <td>83</td>\n",
       "    </tr>\n",
       "  </tbody>\n",
       "</table>\n",
       "</div>"
      ],
      "text/plain": [
       "Direction  Down  Up\n",
       "Predicted          \n",
       "Down         43  58\n",
       "Up           68  83"
      ]
     },
     "execution_count": 59,
     "metadata": {},
     "output_type": "execute_result"
    }
   ],
   "source": [
    "predicted = np.where(knn.predict(X_test[['Lag1', 'Lag2']]) == 1, 'Up', 'Down')\n",
    "pd.crosstab(predicted, label.loc[~train]).rename_axis(index='Predicted')"
   ]
  },
  {
   "cell_type": "code",
   "execution_count": 60,
   "id": "51b2265b-940b-4341-b88a-f08f5e30fc3f",
   "metadata": {},
   "outputs": [
    {
     "data": {
      "text/plain": [
       "0.5"
      ]
     },
     "execution_count": 60,
     "metadata": {},
     "output_type": "execute_result"
    }
   ],
   "source": [
    "(83 + 43) / 252"
   ]
  },
  {
   "cell_type": "code",
   "execution_count": 61,
   "id": "91118a2a-d62a-4d7b-9b1e-dfc3b88747b1",
   "metadata": {},
   "outputs": [
    {
     "data": {
      "text/html": [
       "<div>\n",
       "<style scoped>\n",
       "    .dataframe tbody tr th:only-of-type {\n",
       "        vertical-align: middle;\n",
       "    }\n",
       "\n",
       "    .dataframe tbody tr th {\n",
       "        vertical-align: top;\n",
       "    }\n",
       "\n",
       "    .dataframe thead th {\n",
       "        text-align: right;\n",
       "    }\n",
       "</style>\n",
       "<table border=\"1\" class=\"dataframe\">\n",
       "  <thead>\n",
       "    <tr style=\"text-align: right;\">\n",
       "      <th>Direction</th>\n",
       "      <th>Down</th>\n",
       "      <th>Up</th>\n",
       "    </tr>\n",
       "    <tr>\n",
       "      <th>Predicted</th>\n",
       "      <th></th>\n",
       "      <th></th>\n",
       "    </tr>\n",
       "  </thead>\n",
       "  <tbody>\n",
       "    <tr>\n",
       "      <th>Down</th>\n",
       "      <td>48</td>\n",
       "      <td>55</td>\n",
       "    </tr>\n",
       "    <tr>\n",
       "      <th>Up</th>\n",
       "      <td>63</td>\n",
       "      <td>86</td>\n",
       "    </tr>\n",
       "  </tbody>\n",
       "</table>\n",
       "</div>"
      ],
      "text/plain": [
       "Direction  Down  Up\n",
       "Predicted          \n",
       "Down         48  55\n",
       "Up           63  86"
      ]
     },
     "execution_count": 61,
     "metadata": {},
     "output_type": "execute_result"
    }
   ],
   "source": [
    "knn = KNN(n_neighbors=3).fit(X_train[['Lag1', 'Lag2']], y_train)\n",
    "predicted = np.where(knn.predict(X_test[['Lag1', 'Lag2']]) == 1, 'Up', 'Down')\n",
    "pd.crosstab(predicted, label.loc[~train]).rename_axis(index='Predicted')"
   ]
  },
  {
   "cell_type": "code",
   "execution_count": 62,
   "id": "bc71249c-9c90-485c-ad89-b26bfa636e04",
   "metadata": {},
   "outputs": [
    {
     "data": {
      "text/plain": [
       "0.5317460317460317"
      ]
     },
     "execution_count": 62,
     "metadata": {},
     "output_type": "execute_result"
    }
   ],
   "source": [
    "(predicted == label[~train]).mean()"
   ]
  },
  {
   "cell_type": "code",
   "execution_count": 63,
   "id": "f7907d8c-cc48-4192-a874-197c39e1dd78",
   "metadata": {},
   "outputs": [],
   "source": [
    "caravan = sm.datasets.get_rdataset('Caravan', 'ISLR').data"
   ]
  },
  {
   "cell_type": "code",
   "execution_count": 64,
   "id": "39d55caf-79dc-49be-b4f5-32623cf5008d",
   "metadata": {},
   "outputs": [
    {
     "data": {
      "text/html": [
       "<div>\n",
       "<style scoped>\n",
       "    .dataframe tbody tr th:only-of-type {\n",
       "        vertical-align: middle;\n",
       "    }\n",
       "\n",
       "    .dataframe tbody tr th {\n",
       "        vertical-align: top;\n",
       "    }\n",
       "\n",
       "    .dataframe thead th {\n",
       "        text-align: right;\n",
       "    }\n",
       "</style>\n",
       "<table border=\"1\" class=\"dataframe\">\n",
       "  <thead>\n",
       "    <tr style=\"text-align: right;\">\n",
       "      <th></th>\n",
       "      <th>MOSTYPE</th>\n",
       "      <th>MAANTHUI</th>\n",
       "      <th>MGEMOMV</th>\n",
       "      <th>MGEMLEEF</th>\n",
       "      <th>MOSHOOFD</th>\n",
       "      <th>MGODRK</th>\n",
       "      <th>MGODPR</th>\n",
       "      <th>MGODOV</th>\n",
       "      <th>MGODGE</th>\n",
       "      <th>MRELGE</th>\n",
       "      <th>...</th>\n",
       "      <th>APERSONG</th>\n",
       "      <th>AGEZONG</th>\n",
       "      <th>AWAOREG</th>\n",
       "      <th>ABRAND</th>\n",
       "      <th>AZEILPL</th>\n",
       "      <th>APLEZIER</th>\n",
       "      <th>AFIETS</th>\n",
       "      <th>AINBOED</th>\n",
       "      <th>ABYSTAND</th>\n",
       "      <th>Purchase</th>\n",
       "    </tr>\n",
       "  </thead>\n",
       "  <tbody>\n",
       "    <tr>\n",
       "      <th>0</th>\n",
       "      <td>33</td>\n",
       "      <td>1</td>\n",
       "      <td>3</td>\n",
       "      <td>2</td>\n",
       "      <td>8</td>\n",
       "      <td>0</td>\n",
       "      <td>5</td>\n",
       "      <td>1</td>\n",
       "      <td>3</td>\n",
       "      <td>7</td>\n",
       "      <td>...</td>\n",
       "      <td>0</td>\n",
       "      <td>0</td>\n",
       "      <td>0</td>\n",
       "      <td>1</td>\n",
       "      <td>0</td>\n",
       "      <td>0</td>\n",
       "      <td>0</td>\n",
       "      <td>0</td>\n",
       "      <td>0</td>\n",
       "      <td>No</td>\n",
       "    </tr>\n",
       "    <tr>\n",
       "      <th>1</th>\n",
       "      <td>37</td>\n",
       "      <td>1</td>\n",
       "      <td>2</td>\n",
       "      <td>2</td>\n",
       "      <td>8</td>\n",
       "      <td>1</td>\n",
       "      <td>4</td>\n",
       "      <td>1</td>\n",
       "      <td>4</td>\n",
       "      <td>6</td>\n",
       "      <td>...</td>\n",
       "      <td>0</td>\n",
       "      <td>0</td>\n",
       "      <td>0</td>\n",
       "      <td>1</td>\n",
       "      <td>0</td>\n",
       "      <td>0</td>\n",
       "      <td>0</td>\n",
       "      <td>0</td>\n",
       "      <td>0</td>\n",
       "      <td>No</td>\n",
       "    </tr>\n",
       "    <tr>\n",
       "      <th>2</th>\n",
       "      <td>37</td>\n",
       "      <td>1</td>\n",
       "      <td>2</td>\n",
       "      <td>2</td>\n",
       "      <td>8</td>\n",
       "      <td>0</td>\n",
       "      <td>4</td>\n",
       "      <td>2</td>\n",
       "      <td>4</td>\n",
       "      <td>3</td>\n",
       "      <td>...</td>\n",
       "      <td>0</td>\n",
       "      <td>0</td>\n",
       "      <td>0</td>\n",
       "      <td>1</td>\n",
       "      <td>0</td>\n",
       "      <td>0</td>\n",
       "      <td>0</td>\n",
       "      <td>0</td>\n",
       "      <td>0</td>\n",
       "      <td>No</td>\n",
       "    </tr>\n",
       "    <tr>\n",
       "      <th>3</th>\n",
       "      <td>9</td>\n",
       "      <td>1</td>\n",
       "      <td>3</td>\n",
       "      <td>3</td>\n",
       "      <td>3</td>\n",
       "      <td>2</td>\n",
       "      <td>3</td>\n",
       "      <td>2</td>\n",
       "      <td>4</td>\n",
       "      <td>5</td>\n",
       "      <td>...</td>\n",
       "      <td>0</td>\n",
       "      <td>0</td>\n",
       "      <td>0</td>\n",
       "      <td>1</td>\n",
       "      <td>0</td>\n",
       "      <td>0</td>\n",
       "      <td>0</td>\n",
       "      <td>0</td>\n",
       "      <td>0</td>\n",
       "      <td>No</td>\n",
       "    </tr>\n",
       "    <tr>\n",
       "      <th>4</th>\n",
       "      <td>40</td>\n",
       "      <td>1</td>\n",
       "      <td>4</td>\n",
       "      <td>2</td>\n",
       "      <td>10</td>\n",
       "      <td>1</td>\n",
       "      <td>4</td>\n",
       "      <td>1</td>\n",
       "      <td>4</td>\n",
       "      <td>7</td>\n",
       "      <td>...</td>\n",
       "      <td>0</td>\n",
       "      <td>0</td>\n",
       "      <td>0</td>\n",
       "      <td>1</td>\n",
       "      <td>0</td>\n",
       "      <td>0</td>\n",
       "      <td>0</td>\n",
       "      <td>0</td>\n",
       "      <td>0</td>\n",
       "      <td>No</td>\n",
       "    </tr>\n",
       "  </tbody>\n",
       "</table>\n",
       "<p>5 rows × 86 columns</p>\n",
       "</div>"
      ],
      "text/plain": [
       "   MOSTYPE  MAANTHUI  MGEMOMV  MGEMLEEF  MOSHOOFD  MGODRK  MGODPR  MGODOV  \\\n",
       "0       33         1        3         2         8       0       5       1   \n",
       "1       37         1        2         2         8       1       4       1   \n",
       "2       37         1        2         2         8       0       4       2   \n",
       "3        9         1        3         3         3       2       3       2   \n",
       "4       40         1        4         2        10       1       4       1   \n",
       "\n",
       "   MGODGE  MRELGE  ...  APERSONG  AGEZONG  AWAOREG  ABRAND  AZEILPL  APLEZIER  \\\n",
       "0       3       7  ...         0        0        0       1        0         0   \n",
       "1       4       6  ...         0        0        0       1        0         0   \n",
       "2       4       3  ...         0        0        0       1        0         0   \n",
       "3       4       5  ...         0        0        0       1        0         0   \n",
       "4       4       7  ...         0        0        0       1        0         0   \n",
       "\n",
       "   AFIETS  AINBOED  ABYSTAND  Purchase  \n",
       "0       0        0         0        No  \n",
       "1       0        0         0        No  \n",
       "2       0        0         0        No  \n",
       "3       0        0         0        No  \n",
       "4       0        0         0        No  \n",
       "\n",
       "[5 rows x 86 columns]"
      ]
     },
     "execution_count": 64,
     "metadata": {},
     "output_type": "execute_result"
    }
   ],
   "source": [
    "caravan.head()"
   ]
  },
  {
   "cell_type": "code",
   "execution_count": 65,
   "id": "775e462d-61e5-434a-ab91-08c23396fa31",
   "metadata": {},
   "outputs": [
    {
     "data": {
      "text/plain": [
       "(5822, 86)"
      ]
     },
     "execution_count": 65,
     "metadata": {},
     "output_type": "execute_result"
    }
   ],
   "source": [
    "caravan.shape"
   ]
  },
  {
   "cell_type": "code",
   "execution_count": 66,
   "id": "bf2fa924-d36a-49d5-88ab-0c59efc38f84",
   "metadata": {},
   "outputs": [
    {
     "data": {
      "text/plain": [
       "No     5474\n",
       "Yes     348\n",
       "Name: Purchase, dtype: int64"
      ]
     },
     "execution_count": 66,
     "metadata": {},
     "output_type": "execute_result"
    }
   ],
   "source": [
    "caravan['Purchase'].value_counts()"
   ]
  },
  {
   "cell_type": "code",
   "execution_count": 67,
   "id": "20a74c5c-8ec1-474b-b52b-bafe6b1c8053",
   "metadata": {},
   "outputs": [
    {
     "data": {
      "text/plain": [
       "0.05977327378907592"
      ]
     },
     "execution_count": 67,
     "metadata": {},
     "output_type": "execute_result"
    }
   ],
   "source": [
    "348 / 5822"
   ]
  },
  {
   "cell_type": "code",
   "execution_count": 68,
   "id": "5ba8398c-6c04-488d-a538-d281f750e0cc",
   "metadata": {},
   "outputs": [],
   "source": [
    "from sklearn.preprocessing import scale"
   ]
  },
  {
   "cell_type": "code",
   "execution_count": 69,
   "id": "9bae50e0-d149-4433-a7aa-2ee9e9d3d47d",
   "metadata": {},
   "outputs": [],
   "source": [
    "X_standard = scale(caravan.iloc[:, :-1])"
   ]
  },
  {
   "cell_type": "code",
   "execution_count": 70,
   "id": "e4e1b443-5b83-400b-a5fb-47343cd615ca",
   "metadata": {},
   "outputs": [
    {
     "data": {
      "text/plain": [
       "165.0378473951887"
      ]
     },
     "execution_count": 70,
     "metadata": {},
     "output_type": "execute_result"
    }
   ],
   "source": [
    "caravan.iloc[:, 0].var()"
   ]
  },
  {
   "cell_type": "code",
   "execution_count": 71,
   "id": "1cd98fde-e5a3-45f3-a909-6d6f743afa9b",
   "metadata": {},
   "outputs": [
    {
     "data": {
      "text/plain": [
       "0.16470778193193808"
      ]
     },
     "execution_count": 71,
     "metadata": {},
     "output_type": "execute_result"
    }
   ],
   "source": [
    "caravan.iloc[:, 1].var()"
   ]
  },
  {
   "cell_type": "code",
   "execution_count": 72,
   "id": "32579173-3cfb-498a-bba8-21cef0e8feb2",
   "metadata": {},
   "outputs": [
    {
     "data": {
      "text/plain": [
       "1.0000000000000002"
      ]
     },
     "execution_count": 72,
     "metadata": {},
     "output_type": "execute_result"
    }
   ],
   "source": [
    "X_standard[:, 0].var()"
   ]
  },
  {
   "cell_type": "code",
   "execution_count": 73,
   "id": "52662613-538c-40b2-a3f1-8aa537a5f591",
   "metadata": {},
   "outputs": [
    {
     "data": {
      "text/plain": [
       "1.0"
      ]
     },
     "execution_count": 73,
     "metadata": {},
     "output_type": "execute_result"
    }
   ],
   "source": [
    "X_standard[:, 1].var()"
   ]
  },
  {
   "cell_type": "code",
   "execution_count": 74,
   "id": "3e1b722f-eaa8-471e-ac8f-f5a4c75295f3",
   "metadata": {},
   "outputs": [],
   "source": [
    "X_train = X_standard[1000:, :]\n",
    "X_test = X_standard[:1000, :]\n",
    "y_train = caravan.iloc[1000:, -1]\n",
    "y_test = caravan.iloc[:1000, -1]"
   ]
  },
  {
   "cell_type": "code",
   "execution_count": 75,
   "id": "71bcb968-68a4-47cb-a718-46c8a5bba4f3",
   "metadata": {},
   "outputs": [],
   "source": [
    "knn = KNN(n_neighbors=1).fit(X_train, y_train)"
   ]
  },
  {
   "cell_type": "code",
   "execution_count": 76,
   "id": "ed0c3ffd-f076-4234-93b8-21340bbc02e7",
   "metadata": {},
   "outputs": [
    {
     "data": {
      "text/plain": [
       "array(['No', 'Yes'], dtype=object)"
      ]
     },
     "execution_count": 76,
     "metadata": {},
     "output_type": "execute_result"
    }
   ],
   "source": [
    "knn.classes_"
   ]
  },
  {
   "cell_type": "code",
   "execution_count": 77,
   "id": "68407e69-a62d-4612-9ce9-3cfb918c7ba1",
   "metadata": {},
   "outputs": [],
   "source": [
    "predicted = knn.predict(X_test)"
   ]
  },
  {
   "cell_type": "code",
   "execution_count": 78,
   "id": "ee0294eb-b9c9-4c80-b007-6d94f82a70de",
   "metadata": {},
   "outputs": [
    {
     "data": {
      "text/plain": [
       "0.118"
      ]
     },
     "execution_count": 78,
     "metadata": {},
     "output_type": "execute_result"
    }
   ],
   "source": [
    "(predicted != y_test).mean()"
   ]
  },
  {
   "cell_type": "code",
   "execution_count": 79,
   "id": "4f591c03-d818-44ee-b6b4-943a34f33bd1",
   "metadata": {},
   "outputs": [
    {
     "data": {
      "text/plain": [
       "0.059"
      ]
     },
     "execution_count": 79,
     "metadata": {},
     "output_type": "execute_result"
    }
   ],
   "source": [
    "('No' != y_test).mean()"
   ]
  },
  {
   "cell_type": "code",
   "execution_count": 80,
   "id": "97c023b2-776f-4eba-8e47-aef57969f7b9",
   "metadata": {},
   "outputs": [
    {
     "data": {
      "text/html": [
       "<div>\n",
       "<style scoped>\n",
       "    .dataframe tbody tr th:only-of-type {\n",
       "        vertical-align: middle;\n",
       "    }\n",
       "\n",
       "    .dataframe tbody tr th {\n",
       "        vertical-align: top;\n",
       "    }\n",
       "\n",
       "    .dataframe thead th {\n",
       "        text-align: right;\n",
       "    }\n",
       "</style>\n",
       "<table border=\"1\" class=\"dataframe\">\n",
       "  <thead>\n",
       "    <tr style=\"text-align: right;\">\n",
       "      <th>Purchase</th>\n",
       "      <th>No</th>\n",
       "      <th>Yes</th>\n",
       "    </tr>\n",
       "    <tr>\n",
       "      <th>Predicted</th>\n",
       "      <th></th>\n",
       "      <th></th>\n",
       "    </tr>\n",
       "  </thead>\n",
       "  <tbody>\n",
       "    <tr>\n",
       "      <th>No</th>\n",
       "      <td>873</td>\n",
       "      <td>50</td>\n",
       "    </tr>\n",
       "    <tr>\n",
       "      <th>Yes</th>\n",
       "      <td>68</td>\n",
       "      <td>9</td>\n",
       "    </tr>\n",
       "  </tbody>\n",
       "</table>\n",
       "</div>"
      ],
      "text/plain": [
       "Purchase    No  Yes\n",
       "Predicted          \n",
       "No         873   50\n",
       "Yes         68    9"
      ]
     },
     "execution_count": 80,
     "metadata": {},
     "output_type": "execute_result"
    }
   ],
   "source": [
    "pd.crosstab(predicted, y_test).rename_axis(index='Predicted')"
   ]
  },
  {
   "cell_type": "code",
   "execution_count": 81,
   "id": "bcff9a2e-7917-4a46-8551-3c103f7d7135",
   "metadata": {},
   "outputs": [
    {
     "data": {
      "text/plain": [
       "0.11688311688311688"
      ]
     },
     "execution_count": 81,
     "metadata": {},
     "output_type": "execute_result"
    }
   ],
   "source": [
    "9 / (68 + 9)"
   ]
  },
  {
   "cell_type": "code",
   "execution_count": 82,
   "id": "bccd54de-4d4d-4e85-9418-5a7b784e364d",
   "metadata": {},
   "outputs": [
    {
     "data": {
      "text/html": [
       "<div>\n",
       "<style scoped>\n",
       "    .dataframe tbody tr th:only-of-type {\n",
       "        vertical-align: middle;\n",
       "    }\n",
       "\n",
       "    .dataframe tbody tr th {\n",
       "        vertical-align: top;\n",
       "    }\n",
       "\n",
       "    .dataframe thead th {\n",
       "        text-align: right;\n",
       "    }\n",
       "</style>\n",
       "<table border=\"1\" class=\"dataframe\">\n",
       "  <thead>\n",
       "    <tr style=\"text-align: right;\">\n",
       "      <th>Purchase</th>\n",
       "      <th>No</th>\n",
       "      <th>Yes</th>\n",
       "    </tr>\n",
       "    <tr>\n",
       "      <th>Predicted</th>\n",
       "      <th></th>\n",
       "      <th></th>\n",
       "    </tr>\n",
       "  </thead>\n",
       "  <tbody>\n",
       "    <tr>\n",
       "      <th>No</th>\n",
       "      <td>921</td>\n",
       "      <td>54</td>\n",
       "    </tr>\n",
       "    <tr>\n",
       "      <th>Yes</th>\n",
       "      <td>20</td>\n",
       "      <td>5</td>\n",
       "    </tr>\n",
       "  </tbody>\n",
       "</table>\n",
       "</div>"
      ],
      "text/plain": [
       "Purchase    No  Yes\n",
       "Predicted          \n",
       "No         921   54\n",
       "Yes         20    5"
      ]
     },
     "execution_count": 82,
     "metadata": {},
     "output_type": "execute_result"
    }
   ],
   "source": [
    "knn = KNN(n_neighbors=3).fit(X_train, y_train)\n",
    "predicted = knn.predict(X_test)\n",
    "pd.crosstab(predicted, y_test).rename_axis(index='Predicted')"
   ]
  },
  {
   "cell_type": "code",
   "execution_count": 83,
   "id": "e037f7c8-ba3c-4be4-bacb-c65503aa9241",
   "metadata": {},
   "outputs": [
    {
     "data": {
      "text/plain": [
       "0.2"
      ]
     },
     "execution_count": 83,
     "metadata": {},
     "output_type": "execute_result"
    }
   ],
   "source": [
    "5 / 25"
   ]
  },
  {
   "cell_type": "code",
   "execution_count": 84,
   "id": "6e96fc22-4c4f-4edf-8cb5-beda060c4d9c",
   "metadata": {},
   "outputs": [
    {
     "data": {
      "text/html": [
       "<div>\n",
       "<style scoped>\n",
       "    .dataframe tbody tr th:only-of-type {\n",
       "        vertical-align: middle;\n",
       "    }\n",
       "\n",
       "    .dataframe tbody tr th {\n",
       "        vertical-align: top;\n",
       "    }\n",
       "\n",
       "    .dataframe thead th {\n",
       "        text-align: right;\n",
       "    }\n",
       "</style>\n",
       "<table border=\"1\" class=\"dataframe\">\n",
       "  <thead>\n",
       "    <tr style=\"text-align: right;\">\n",
       "      <th>Purchase</th>\n",
       "      <th>No</th>\n",
       "      <th>Yes</th>\n",
       "    </tr>\n",
       "    <tr>\n",
       "      <th>Predicted</th>\n",
       "      <th></th>\n",
       "      <th></th>\n",
       "    </tr>\n",
       "  </thead>\n",
       "  <tbody>\n",
       "    <tr>\n",
       "      <th>No</th>\n",
       "      <td>931</td>\n",
       "      <td>55</td>\n",
       "    </tr>\n",
       "    <tr>\n",
       "      <th>Yes</th>\n",
       "      <td>10</td>\n",
       "      <td>4</td>\n",
       "    </tr>\n",
       "  </tbody>\n",
       "</table>\n",
       "</div>"
      ],
      "text/plain": [
       "Purchase    No  Yes\n",
       "Predicted          \n",
       "No         931   55\n",
       "Yes         10    4"
      ]
     },
     "execution_count": 84,
     "metadata": {},
     "output_type": "execute_result"
    }
   ],
   "source": [
    "knn = KNN(n_neighbors=5).fit(X_train, y_train)\n",
    "predicted = knn.predict(X_test)\n",
    "pd.crosstab(predicted, y_test).rename_axis(index='Predicted')"
   ]
  },
  {
   "cell_type": "code",
   "execution_count": 85,
   "id": "38a88cc1-ded1-4197-8c2c-0e13e8940c95",
   "metadata": {},
   "outputs": [
    {
     "data": {
      "text/plain": [
       "0.2857142857142857"
      ]
     },
     "execution_count": 85,
     "metadata": {},
     "output_type": "execute_result"
    }
   ],
   "source": [
    "4 / 14"
   ]
  },
  {
   "cell_type": "code",
   "execution_count": 86,
   "id": "f55ccb29-8eff-4e4f-a8fd-7ab71688e82e",
   "metadata": {},
   "outputs": [],
   "source": [
    "from sklearn.linear_model import LogisticRegression"
   ]
  },
  {
   "cell_type": "code",
   "execution_count": 87,
   "id": "1d3fa9fe-e988-4b9b-be06-afedc6ddc958",
   "metadata": {},
   "outputs": [],
   "source": [
    "model = LogisticRegression(max_iter=1000).fit(X_train, y_train)"
   ]
  },
  {
   "cell_type": "code",
   "execution_count": 88,
   "id": "fd6e91cd-c9f6-4a1a-b293-3031f926653a",
   "metadata": {},
   "outputs": [],
   "source": [
    "probs = model.predict_proba(X_test)"
   ]
  },
  {
   "cell_type": "code",
   "execution_count": 89,
   "id": "a00cd69a-7b1c-4463-9af7-015886437639",
   "metadata": {},
   "outputs": [
    {
     "data": {
      "text/plain": [
       "array([[0.90335421, 0.09664579],\n",
       "       [0.98879794, 0.01120206],\n",
       "       [0.94459227, 0.05540773],\n",
       "       ...,\n",
       "       [0.97903573, 0.02096427],\n",
       "       [0.83941805, 0.16058195],\n",
       "       [0.96974299, 0.03025701]])"
      ]
     },
     "execution_count": 89,
     "metadata": {},
     "output_type": "execute_result"
    }
   ],
   "source": [
    "probs"
   ]
  },
  {
   "cell_type": "code",
   "execution_count": 90,
   "id": "a8351a0f-5c15-4908-a0d9-b426e4e9778e",
   "metadata": {},
   "outputs": [
    {
     "data": {
      "text/html": [
       "<div>\n",
       "<style scoped>\n",
       "    .dataframe tbody tr th:only-of-type {\n",
       "        vertical-align: middle;\n",
       "    }\n",
       "\n",
       "    .dataframe tbody tr th {\n",
       "        vertical-align: top;\n",
       "    }\n",
       "\n",
       "    .dataframe thead th {\n",
       "        text-align: right;\n",
       "    }\n",
       "</style>\n",
       "<table border=\"1\" class=\"dataframe\">\n",
       "  <thead>\n",
       "    <tr style=\"text-align: right;\">\n",
       "      <th>Purchase</th>\n",
       "      <th>No</th>\n",
       "      <th>Yes</th>\n",
       "    </tr>\n",
       "    <tr>\n",
       "      <th>Predicted</th>\n",
       "      <th></th>\n",
       "      <th></th>\n",
       "    </tr>\n",
       "  </thead>\n",
       "  <tbody>\n",
       "    <tr>\n",
       "      <th>No</th>\n",
       "      <td>934</td>\n",
       "      <td>59</td>\n",
       "    </tr>\n",
       "    <tr>\n",
       "      <th>Yes</th>\n",
       "      <td>7</td>\n",
       "      <td>0</td>\n",
       "    </tr>\n",
       "  </tbody>\n",
       "</table>\n",
       "</div>"
      ],
      "text/plain": [
       "Purchase    No  Yes\n",
       "Predicted          \n",
       "No         934   59\n",
       "Yes          7    0"
      ]
     },
     "execution_count": 90,
     "metadata": {},
     "output_type": "execute_result"
    }
   ],
   "source": [
    "predicted = pd.Series(['No'] * 1000,name='Predicted')\n",
    "predicted[probs[:, 1] > 0.5] = 'Yes'\n",
    "pd.crosstab(predicted, y_test)"
   ]
  },
  {
   "cell_type": "code",
   "execution_count": 91,
   "id": "afcdd0e6-0597-4748-9e6e-9fa224be5cae",
   "metadata": {},
   "outputs": [
    {
     "data": {
      "text/html": [
       "<div>\n",
       "<style scoped>\n",
       "    .dataframe tbody tr th:only-of-type {\n",
       "        vertical-align: middle;\n",
       "    }\n",
       "\n",
       "    .dataframe tbody tr th {\n",
       "        vertical-align: top;\n",
       "    }\n",
       "\n",
       "    .dataframe thead th {\n",
       "        text-align: right;\n",
       "    }\n",
       "</style>\n",
       "<table border=\"1\" class=\"dataframe\">\n",
       "  <thead>\n",
       "    <tr style=\"text-align: right;\">\n",
       "      <th>Purchase</th>\n",
       "      <th>No</th>\n",
       "      <th>Yes</th>\n",
       "    </tr>\n",
       "    <tr>\n",
       "      <th>Predicted</th>\n",
       "      <th></th>\n",
       "      <th></th>\n",
       "    </tr>\n",
       "  </thead>\n",
       "  <tbody>\n",
       "    <tr>\n",
       "      <th>No</th>\n",
       "      <td>917</td>\n",
       "      <td>48</td>\n",
       "    </tr>\n",
       "    <tr>\n",
       "      <th>Yes</th>\n",
       "      <td>24</td>\n",
       "      <td>11</td>\n",
       "    </tr>\n",
       "  </tbody>\n",
       "</table>\n",
       "</div>"
      ],
      "text/plain": [
       "Purchase    No  Yes\n",
       "Predicted          \n",
       "No         917   48\n",
       "Yes         24   11"
      ]
     },
     "execution_count": 91,
     "metadata": {},
     "output_type": "execute_result"
    }
   ],
   "source": [
    "predicted = pd.Series(['No'] * 1000,name='Predicted')\n",
    "predicted[probs[:, 1] > 0.25] = 'Yes'\n",
    "pd.crosstab(predicted, y_test)"
   ]
  },
  {
   "cell_type": "code",
   "execution_count": 92,
   "id": "c741411c-10b5-4914-ad40-e5659c347cf0",
   "metadata": {},
   "outputs": [
    {
     "data": {
      "text/plain": [
       "0.3142857142857143"
      ]
     },
     "execution_count": 92,
     "metadata": {},
     "output_type": "execute_result"
    }
   ],
   "source": [
    "11 / (11 + 24)"
   ]
  },
  {
   "cell_type": "markdown",
   "id": "9f059feb-1330-4b27-895b-ab9d8d65114c",
   "metadata": {},
   "source": [
    "# 7. Poisson Regression"
   ]
  },
  {
   "cell_type": "code",
   "execution_count": 93,
   "id": "e572a0a4-f57c-4dd0-972f-104de380c73a",
   "metadata": {},
   "outputs": [
    {
     "data": {
      "text/html": [
       "<div>\n",
       "<style scoped>\n",
       "    .dataframe tbody tr th:only-of-type {\n",
       "        vertical-align: middle;\n",
       "    }\n",
       "\n",
       "    .dataframe tbody tr th {\n",
       "        vertical-align: top;\n",
       "    }\n",
       "\n",
       "    .dataframe thead th {\n",
       "        text-align: right;\n",
       "    }\n",
       "</style>\n",
       "<table border=\"1\" class=\"dataframe\">\n",
       "  <thead>\n",
       "    <tr style=\"text-align: right;\">\n",
       "      <th></th>\n",
       "      <th>season</th>\n",
       "      <th>mnth</th>\n",
       "      <th>day</th>\n",
       "      <th>hr</th>\n",
       "      <th>holiday</th>\n",
       "      <th>weekday</th>\n",
       "      <th>workingday</th>\n",
       "      <th>weathersit</th>\n",
       "      <th>temp</th>\n",
       "      <th>atemp</th>\n",
       "      <th>hum</th>\n",
       "      <th>windspeed</th>\n",
       "      <th>casual</th>\n",
       "      <th>registered</th>\n",
       "      <th>bikers</th>\n",
       "    </tr>\n",
       "  </thead>\n",
       "  <tbody>\n",
       "    <tr>\n",
       "      <th>1</th>\n",
       "      <td>1</td>\n",
       "      <td>Jan</td>\n",
       "      <td>1</td>\n",
       "      <td>0</td>\n",
       "      <td>0</td>\n",
       "      <td>6</td>\n",
       "      <td>0</td>\n",
       "      <td>clear</td>\n",
       "      <td>0.24</td>\n",
       "      <td>0.2879</td>\n",
       "      <td>0.81</td>\n",
       "      <td>0.0</td>\n",
       "      <td>3</td>\n",
       "      <td>13</td>\n",
       "      <td>16</td>\n",
       "    </tr>\n",
       "    <tr>\n",
       "      <th>2</th>\n",
       "      <td>1</td>\n",
       "      <td>Jan</td>\n",
       "      <td>1</td>\n",
       "      <td>1</td>\n",
       "      <td>0</td>\n",
       "      <td>6</td>\n",
       "      <td>0</td>\n",
       "      <td>clear</td>\n",
       "      <td>0.22</td>\n",
       "      <td>0.2727</td>\n",
       "      <td>0.80</td>\n",
       "      <td>0.0</td>\n",
       "      <td>8</td>\n",
       "      <td>32</td>\n",
       "      <td>40</td>\n",
       "    </tr>\n",
       "    <tr>\n",
       "      <th>3</th>\n",
       "      <td>1</td>\n",
       "      <td>Jan</td>\n",
       "      <td>1</td>\n",
       "      <td>2</td>\n",
       "      <td>0</td>\n",
       "      <td>6</td>\n",
       "      <td>0</td>\n",
       "      <td>clear</td>\n",
       "      <td>0.22</td>\n",
       "      <td>0.2727</td>\n",
       "      <td>0.80</td>\n",
       "      <td>0.0</td>\n",
       "      <td>5</td>\n",
       "      <td>27</td>\n",
       "      <td>32</td>\n",
       "    </tr>\n",
       "    <tr>\n",
       "      <th>4</th>\n",
       "      <td>1</td>\n",
       "      <td>Jan</td>\n",
       "      <td>1</td>\n",
       "      <td>3</td>\n",
       "      <td>0</td>\n",
       "      <td>6</td>\n",
       "      <td>0</td>\n",
       "      <td>clear</td>\n",
       "      <td>0.24</td>\n",
       "      <td>0.2879</td>\n",
       "      <td>0.75</td>\n",
       "      <td>0.0</td>\n",
       "      <td>3</td>\n",
       "      <td>10</td>\n",
       "      <td>13</td>\n",
       "    </tr>\n",
       "    <tr>\n",
       "      <th>5</th>\n",
       "      <td>1</td>\n",
       "      <td>Jan</td>\n",
       "      <td>1</td>\n",
       "      <td>4</td>\n",
       "      <td>0</td>\n",
       "      <td>6</td>\n",
       "      <td>0</td>\n",
       "      <td>clear</td>\n",
       "      <td>0.24</td>\n",
       "      <td>0.2879</td>\n",
       "      <td>0.75</td>\n",
       "      <td>0.0</td>\n",
       "      <td>0</td>\n",
       "      <td>1</td>\n",
       "      <td>1</td>\n",
       "    </tr>\n",
       "  </tbody>\n",
       "</table>\n",
       "</div>"
      ],
      "text/plain": [
       "   season mnth  day  hr  holiday  weekday  workingday weathersit  temp  \\\n",
       "1       1  Jan    1   0        0        6           0      clear  0.24   \n",
       "2       1  Jan    1   1        0        6           0      clear  0.22   \n",
       "3       1  Jan    1   2        0        6           0      clear  0.22   \n",
       "4       1  Jan    1   3        0        6           0      clear  0.24   \n",
       "5       1  Jan    1   4        0        6           0      clear  0.24   \n",
       "\n",
       "    atemp   hum  windspeed  casual  registered  bikers  \n",
       "1  0.2879  0.81        0.0       3          13      16  \n",
       "2  0.2727  0.80        0.0       8          32      40  \n",
       "3  0.2727  0.80        0.0       5          27      32  \n",
       "4  0.2879  0.75        0.0       3          10      13  \n",
       "5  0.2879  0.75        0.0       0           1       1  "
      ]
     },
     "execution_count": 93,
     "metadata": {},
     "output_type": "execute_result"
    }
   ],
   "source": [
    "biker = pd.read_csv('data/Bikeshare.csv', index_col=0)\n",
    "biker.head()"
   ]
  },
  {
   "cell_type": "code",
   "execution_count": 94,
   "id": "16b4ff51-b2e8-456e-8419-640cea2c1e9d",
   "metadata": {},
   "outputs": [
    {
     "data": {
      "text/plain": [
       "(8645, 15)"
      ]
     },
     "execution_count": 94,
     "metadata": {},
     "output_type": "execute_result"
    }
   ],
   "source": [
    "biker.shape"
   ]
  },
  {
   "cell_type": "code",
   "execution_count": 95,
   "id": "c4f47466-60a4-400d-b500-c21c6ec44e5a",
   "metadata": {},
   "outputs": [
    {
     "data": {
      "text/plain": [
       "Index(['season', 'mnth', 'day', 'hr', 'holiday', 'weekday', 'workingday',\n",
       "       'weathersit', 'temp', 'atemp', 'hum', 'windspeed', 'casual',\n",
       "       'registered', 'bikers'],\n",
       "      dtype='object')"
      ]
     },
     "execution_count": 95,
     "metadata": {},
     "output_type": "execute_result"
    }
   ],
   "source": [
    "biker.columns"
   ]
  },
  {
   "cell_type": "code",
   "execution_count": 96,
   "id": "9e1593c2-cd39-4524-ab1d-17c6ffcd5bcd",
   "metadata": {},
   "outputs": [],
   "source": [
    "result = smf.ols(\n",
    "    'bikers ~ C(mnth, Treatment(reference=\"Jan\")) + C(hr, Treatment(reference=0))'\n",
    "    '+ workingday + temp + weathersit',\n",
    "    data=biker).fit()"
   ]
  },
  {
   "cell_type": "code",
   "execution_count": 97,
   "id": "b4ef5a38-0ee8-4673-9dbf-1cd5ae21b2f5",
   "metadata": {},
   "outputs": [
    {
     "data": {
      "text/html": [
       "<table class=\"simpletable\">\n",
       "<caption>OLS Regression Results</caption>\n",
       "<tr>\n",
       "  <th>Dep. Variable:</th>         <td>bikers</td>      <th>  R-squared:         </th> <td>   0.675</td> \n",
       "</tr>\n",
       "<tr>\n",
       "  <th>Model:</th>                   <td>OLS</td>       <th>  Adj. R-squared:    </th> <td>   0.673</td> \n",
       "</tr>\n",
       "<tr>\n",
       "  <th>Method:</th>             <td>Least Squares</td>  <th>  F-statistic:       </th> <td>   457.3</td> \n",
       "</tr>\n",
       "<tr>\n",
       "  <th>Date:</th>             <td>Thu, 06 Oct 2022</td> <th>  Prob (F-statistic):</th>  <td>  0.00</td>  \n",
       "</tr>\n",
       "<tr>\n",
       "  <th>Time:</th>                 <td>15:00:33</td>     <th>  Log-Likelihood:    </th> <td> -49743.</td> \n",
       "</tr>\n",
       "<tr>\n",
       "  <th>No. Observations:</th>      <td>  8645</td>      <th>  AIC:               </th> <td>9.957e+04</td>\n",
       "</tr>\n",
       "<tr>\n",
       "  <th>Df Residuals:</th>          <td>  8605</td>      <th>  BIC:               </th> <td>9.985e+04</td>\n",
       "</tr>\n",
       "<tr>\n",
       "  <th>Df Model:</th>              <td>    39</td>      <th>                     </th>     <td> </td>    \n",
       "</tr>\n",
       "<tr>\n",
       "  <th>Covariance Type:</th>      <td>nonrobust</td>    <th>                     </th>     <td> </td>    \n",
       "</tr>\n",
       "</table>\n",
       "<table class=\"simpletable\">\n",
       "<tr>\n",
       "                        <td></td>                          <th>coef</th>     <th>std err</th>      <th>t</th>      <th>P>|t|</th>  <th>[0.025</th>    <th>0.975]</th>  \n",
       "</tr>\n",
       "<tr>\n",
       "  <th>Intercept</th>                                    <td>  -68.6317</td> <td>    5.307</td> <td>  -12.932</td> <td> 0.000</td> <td>  -79.035</td> <td>  -58.229</td>\n",
       "</tr>\n",
       "<tr>\n",
       "  <th>C(mnth, Treatment(reference=\"Jan\"))[T.April]</th> <td>   41.4249</td> <td>    4.972</td> <td>    8.331</td> <td> 0.000</td> <td>   31.678</td> <td>   51.172</td>\n",
       "</tr>\n",
       "<tr>\n",
       "  <th>C(mnth, Treatment(reference=\"Jan\"))[T.Aug]</th>   <td>   53.2430</td> <td>    6.640</td> <td>    8.019</td> <td> 0.000</td> <td>   40.227</td> <td>   66.259</td>\n",
       "</tr>\n",
       "<tr>\n",
       "  <th>C(mnth, Treatment(reference=\"Jan\"))[T.Dec]</th>   <td>   46.4577</td> <td>    4.271</td> <td>   10.878</td> <td> 0.000</td> <td>   38.086</td> <td>   54.829</td>\n",
       "</tr>\n",
       "<tr>\n",
       "  <th>C(mnth, Treatment(reference=\"Jan\"))[T.Feb]</th>   <td>    6.8452</td> <td>    4.287</td> <td>    1.597</td> <td> 0.110</td> <td>   -1.559</td> <td>   15.250</td>\n",
       "</tr>\n",
       "<tr>\n",
       "  <th>C(mnth, Treatment(reference=\"Jan\"))[T.July]</th>  <td>   45.3245</td> <td>    7.081</td> <td>    6.401</td> <td> 0.000</td> <td>   31.444</td> <td>   59.205</td>\n",
       "</tr>\n",
       "<tr>\n",
       "  <th>C(mnth, Treatment(reference=\"Jan\"))[T.June]</th>  <td>   67.8187</td> <td>    6.544</td> <td>   10.364</td> <td> 0.000</td> <td>   54.992</td> <td>   80.646</td>\n",
       "</tr>\n",
       "<tr>\n",
       "  <th>C(mnth, Treatment(reference=\"Jan\"))[T.March]</th> <td>   16.5514</td> <td>    4.301</td> <td>    3.848</td> <td> 0.000</td> <td>    8.120</td> <td>   24.983</td>\n",
       "</tr>\n",
       "<tr>\n",
       "  <th>C(mnth, Treatment(reference=\"Jan\"))[T.May]</th>   <td>   72.5571</td> <td>    5.641</td> <td>   12.862</td> <td> 0.000</td> <td>   61.499</td> <td>   83.615</td>\n",
       "</tr>\n",
       "<tr>\n",
       "  <th>C(mnth, Treatment(reference=\"Jan\"))[T.Nov]</th>   <td>   60.3100</td> <td>    4.610</td> <td>   13.083</td> <td> 0.000</td> <td>   51.273</td> <td>   69.347</td>\n",
       "</tr>\n",
       "<tr>\n",
       "  <th>C(mnth, Treatment(reference=\"Jan\"))[T.Oct]</th>   <td>   75.8343</td> <td>    4.950</td> <td>   15.319</td> <td> 0.000</td> <td>   66.130</td> <td>   85.538</td>\n",
       "</tr>\n",
       "<tr>\n",
       "  <th>C(mnth, Treatment(reference=\"Jan\"))[T.Sept]</th>  <td>   66.6783</td> <td>    5.925</td> <td>   11.254</td> <td> 0.000</td> <td>   55.064</td> <td>   78.293</td>\n",
       "</tr>\n",
       "<tr>\n",
       "  <th>C(hr, Treatment(reference=0))[T.1]</th>           <td>  -14.5793</td> <td>    5.699</td> <td>   -2.558</td> <td> 0.011</td> <td>  -25.750</td> <td>   -3.408</td>\n",
       "</tr>\n",
       "<tr>\n",
       "  <th>C(hr, Treatment(reference=0))[T.2]</th>           <td>  -21.5791</td> <td>    5.733</td> <td>   -3.764</td> <td> 0.000</td> <td>  -32.817</td> <td>  -10.341</td>\n",
       "</tr>\n",
       "<tr>\n",
       "  <th>C(hr, Treatment(reference=0))[T.3]</th>           <td>  -31.1408</td> <td>    5.778</td> <td>   -5.389</td> <td> 0.000</td> <td>  -42.468</td> <td>  -19.814</td>\n",
       "</tr>\n",
       "<tr>\n",
       "  <th>C(hr, Treatment(reference=0))[T.4]</th>           <td>  -36.9075</td> <td>    5.802</td> <td>   -6.361</td> <td> 0.000</td> <td>  -48.281</td> <td>  -25.534</td>\n",
       "</tr>\n",
       "<tr>\n",
       "  <th>C(hr, Treatment(reference=0))[T.5]</th>           <td>  -24.1355</td> <td>    5.737</td> <td>   -4.207</td> <td> 0.000</td> <td>  -35.381</td> <td>  -12.890</td>\n",
       "</tr>\n",
       "<tr>\n",
       "  <th>C(hr, Treatment(reference=0))[T.6]</th>           <td>   20.5997</td> <td>    5.704</td> <td>    3.612</td> <td> 0.000</td> <td>    9.419</td> <td>   31.781</td>\n",
       "</tr>\n",
       "<tr>\n",
       "  <th>C(hr, Treatment(reference=0))[T.7]</th>           <td>  120.0931</td> <td>    5.693</td> <td>   21.095</td> <td> 0.000</td> <td>  108.934</td> <td>  131.253</td>\n",
       "</tr>\n",
       "<tr>\n",
       "  <th>C(hr, Treatment(reference=0))[T.8]</th>           <td>  223.6619</td> <td>    5.690</td> <td>   39.310</td> <td> 0.000</td> <td>  212.509</td> <td>  234.815</td>\n",
       "</tr>\n",
       "<tr>\n",
       "  <th>C(hr, Treatment(reference=0))[T.9]</th>           <td>  120.5819</td> <td>    5.693</td> <td>   21.182</td> <td> 0.000</td> <td>  109.423</td> <td>  131.741</td>\n",
       "</tr>\n",
       "<tr>\n",
       "  <th>C(hr, Treatment(reference=0))[T.10]</th>          <td>   83.8013</td> <td>    5.705</td> <td>   14.689</td> <td> 0.000</td> <td>   72.618</td> <td>   94.985</td>\n",
       "</tr>\n",
       "<tr>\n",
       "  <th>C(hr, Treatment(reference=0))[T.11]</th>          <td>  105.4234</td> <td>    5.722</td> <td>   18.424</td> <td> 0.000</td> <td>   94.207</td> <td>  116.640</td>\n",
       "</tr>\n",
       "<tr>\n",
       "  <th>C(hr, Treatment(reference=0))[T.12]</th>          <td>  137.2837</td> <td>    5.740</td> <td>   23.916</td> <td> 0.000</td> <td>  126.032</td> <td>  148.536</td>\n",
       "</tr>\n",
       "<tr>\n",
       "  <th>C(hr, Treatment(reference=0))[T.13]</th>          <td>  136.0359</td> <td>    5.760</td> <td>   23.617</td> <td> 0.000</td> <td>  124.745</td> <td>  147.327</td>\n",
       "</tr>\n",
       "<tr>\n",
       "  <th>C(hr, Treatment(reference=0))[T.14]</th>          <td>  126.6361</td> <td>    5.776</td> <td>   21.923</td> <td> 0.000</td> <td>  115.313</td> <td>  137.959</td>\n",
       "</tr>\n",
       "<tr>\n",
       "  <th>C(hr, Treatment(reference=0))[T.15]</th>          <td>  132.0865</td> <td>    5.780</td> <td>   22.852</td> <td> 0.000</td> <td>  120.756</td> <td>  143.417</td>\n",
       "</tr>\n",
       "<tr>\n",
       "  <th>C(hr, Treatment(reference=0))[T.16]</th>          <td>  178.5206</td> <td>    5.772</td> <td>   30.927</td> <td> 0.000</td> <td>  167.206</td> <td>  189.836</td>\n",
       "</tr>\n",
       "<tr>\n",
       "  <th>C(hr, Treatment(reference=0))[T.17]</th>          <td>  296.2670</td> <td>    5.749</td> <td>   51.537</td> <td> 0.000</td> <td>  284.998</td> <td>  307.536</td>\n",
       "</tr>\n",
       "<tr>\n",
       "  <th>C(hr, Treatment(reference=0))[T.18]</th>          <td>  269.4409</td> <td>    5.736</td> <td>   46.976</td> <td> 0.000</td> <td>  258.198</td> <td>  280.684</td>\n",
       "</tr>\n",
       "<tr>\n",
       "  <th>C(hr, Treatment(reference=0))[T.19]</th>          <td>  186.2558</td> <td>    5.714</td> <td>   32.596</td> <td> 0.000</td> <td>  175.055</td> <td>  197.457</td>\n",
       "</tr>\n",
       "<tr>\n",
       "  <th>C(hr, Treatment(reference=0))[T.20]</th>          <td>  125.5492</td> <td>    5.704</td> <td>   22.012</td> <td> 0.000</td> <td>  114.369</td> <td>  136.730</td>\n",
       "</tr>\n",
       "<tr>\n",
       "  <th>C(hr, Treatment(reference=0))[T.21]</th>          <td>   87.5537</td> <td>    5.693</td> <td>   15.378</td> <td> 0.000</td> <td>   76.393</td> <td>   98.714</td>\n",
       "</tr>\n",
       "<tr>\n",
       "  <th>C(hr, Treatment(reference=0))[T.22]</th>          <td>   59.1226</td> <td>    5.689</td> <td>   10.392</td> <td> 0.000</td> <td>   47.970</td> <td>   70.275</td>\n",
       "</tr>\n",
       "<tr>\n",
       "  <th>C(hr, Treatment(reference=0))[T.23]</th>          <td>   26.8376</td> <td>    5.688</td> <td>    4.719</td> <td> 0.000</td> <td>   15.688</td> <td>   37.987</td>\n",
       "</tr>\n",
       "<tr>\n",
       "  <th>weathersit[T.cloudy/misty]</th>                   <td>  -12.8903</td> <td>    1.964</td> <td>   -6.562</td> <td> 0.000</td> <td>  -16.741</td> <td>   -9.040</td>\n",
       "</tr>\n",
       "<tr>\n",
       "  <th>weathersit[T.heavy rain/snow]</th>                <td> -109.7446</td> <td>   76.667</td> <td>   -1.431</td> <td> 0.152</td> <td> -260.031</td> <td>   40.542</td>\n",
       "</tr>\n",
       "<tr>\n",
       "  <th>weathersit[T.light rain/snow]</th>                <td>  -66.4944</td> <td>    2.965</td> <td>  -22.425</td> <td> 0.000</td> <td>  -72.307</td> <td>  -60.682</td>\n",
       "</tr>\n",
       "<tr>\n",
       "  <th>workingday</th>                                   <td>    1.2696</td> <td>    1.784</td> <td>    0.711</td> <td> 0.477</td> <td>   -2.228</td> <td>    4.768</td>\n",
       "</tr>\n",
       "<tr>\n",
       "  <th>temp</th>                                         <td>  157.2094</td> <td>   10.261</td> <td>   15.321</td> <td> 0.000</td> <td>  137.095</td> <td>  177.324</td>\n",
       "</tr>\n",
       "</table>\n",
       "<table class=\"simpletable\">\n",
       "<tr>\n",
       "  <th>Omnibus:</th>       <td>288.526</td> <th>  Durbin-Watson:     </th> <td>   0.519</td> \n",
       "</tr>\n",
       "<tr>\n",
       "  <th>Prob(Omnibus):</th> <td> 0.000</td>  <th>  Jarque-Bera (JB):  </th> <td> 518.512</td> \n",
       "</tr>\n",
       "<tr>\n",
       "  <th>Skew:</th>          <td> 0.273</td>  <th>  Prob(JB):          </th> <td>2.55e-113</td>\n",
       "</tr>\n",
       "<tr>\n",
       "  <th>Kurtosis:</th>      <td> 4.068</td>  <th>  Cond. No.          </th> <td>    131.</td> \n",
       "</tr>\n",
       "</table><br/><br/>Notes:<br/>[1] Standard Errors assume that the covariance matrix of the errors is correctly specified."
      ],
      "text/plain": [
       "<class 'statsmodels.iolib.summary.Summary'>\n",
       "\"\"\"\n",
       "                            OLS Regression Results                            \n",
       "==============================================================================\n",
       "Dep. Variable:                 bikers   R-squared:                       0.675\n",
       "Model:                            OLS   Adj. R-squared:                  0.673\n",
       "Method:                 Least Squares   F-statistic:                     457.3\n",
       "Date:                Thu, 06 Oct 2022   Prob (F-statistic):               0.00\n",
       "Time:                        15:00:33   Log-Likelihood:                -49743.\n",
       "No. Observations:                8645   AIC:                         9.957e+04\n",
       "Df Residuals:                    8605   BIC:                         9.985e+04\n",
       "Df Model:                          39                                         \n",
       "Covariance Type:            nonrobust                                         \n",
       "================================================================================================================\n",
       "                                                   coef    std err          t      P>|t|      [0.025      0.975]\n",
       "----------------------------------------------------------------------------------------------------------------\n",
       "Intercept                                      -68.6317      5.307    -12.932      0.000     -79.035     -58.229\n",
       "C(mnth, Treatment(reference=\"Jan\"))[T.April]    41.4249      4.972      8.331      0.000      31.678      51.172\n",
       "C(mnth, Treatment(reference=\"Jan\"))[T.Aug]      53.2430      6.640      8.019      0.000      40.227      66.259\n",
       "C(mnth, Treatment(reference=\"Jan\"))[T.Dec]      46.4577      4.271     10.878      0.000      38.086      54.829\n",
       "C(mnth, Treatment(reference=\"Jan\"))[T.Feb]       6.8452      4.287      1.597      0.110      -1.559      15.250\n",
       "C(mnth, Treatment(reference=\"Jan\"))[T.July]     45.3245      7.081      6.401      0.000      31.444      59.205\n",
       "C(mnth, Treatment(reference=\"Jan\"))[T.June]     67.8187      6.544     10.364      0.000      54.992      80.646\n",
       "C(mnth, Treatment(reference=\"Jan\"))[T.March]    16.5514      4.301      3.848      0.000       8.120      24.983\n",
       "C(mnth, Treatment(reference=\"Jan\"))[T.May]      72.5571      5.641     12.862      0.000      61.499      83.615\n",
       "C(mnth, Treatment(reference=\"Jan\"))[T.Nov]      60.3100      4.610     13.083      0.000      51.273      69.347\n",
       "C(mnth, Treatment(reference=\"Jan\"))[T.Oct]      75.8343      4.950     15.319      0.000      66.130      85.538\n",
       "C(mnth, Treatment(reference=\"Jan\"))[T.Sept]     66.6783      5.925     11.254      0.000      55.064      78.293\n",
       "C(hr, Treatment(reference=0))[T.1]             -14.5793      5.699     -2.558      0.011     -25.750      -3.408\n",
       "C(hr, Treatment(reference=0))[T.2]             -21.5791      5.733     -3.764      0.000     -32.817     -10.341\n",
       "C(hr, Treatment(reference=0))[T.3]             -31.1408      5.778     -5.389      0.000     -42.468     -19.814\n",
       "C(hr, Treatment(reference=0))[T.4]             -36.9075      5.802     -6.361      0.000     -48.281     -25.534\n",
       "C(hr, Treatment(reference=0))[T.5]             -24.1355      5.737     -4.207      0.000     -35.381     -12.890\n",
       "C(hr, Treatment(reference=0))[T.6]              20.5997      5.704      3.612      0.000       9.419      31.781\n",
       "C(hr, Treatment(reference=0))[T.7]             120.0931      5.693     21.095      0.000     108.934     131.253\n",
       "C(hr, Treatment(reference=0))[T.8]             223.6619      5.690     39.310      0.000     212.509     234.815\n",
       "C(hr, Treatment(reference=0))[T.9]             120.5819      5.693     21.182      0.000     109.423     131.741\n",
       "C(hr, Treatment(reference=0))[T.10]             83.8013      5.705     14.689      0.000      72.618      94.985\n",
       "C(hr, Treatment(reference=0))[T.11]            105.4234      5.722     18.424      0.000      94.207     116.640\n",
       "C(hr, Treatment(reference=0))[T.12]            137.2837      5.740     23.916      0.000     126.032     148.536\n",
       "C(hr, Treatment(reference=0))[T.13]            136.0359      5.760     23.617      0.000     124.745     147.327\n",
       "C(hr, Treatment(reference=0))[T.14]            126.6361      5.776     21.923      0.000     115.313     137.959\n",
       "C(hr, Treatment(reference=0))[T.15]            132.0865      5.780     22.852      0.000     120.756     143.417\n",
       "C(hr, Treatment(reference=0))[T.16]            178.5206      5.772     30.927      0.000     167.206     189.836\n",
       "C(hr, Treatment(reference=0))[T.17]            296.2670      5.749     51.537      0.000     284.998     307.536\n",
       "C(hr, Treatment(reference=0))[T.18]            269.4409      5.736     46.976      0.000     258.198     280.684\n",
       "C(hr, Treatment(reference=0))[T.19]            186.2558      5.714     32.596      0.000     175.055     197.457\n",
       "C(hr, Treatment(reference=0))[T.20]            125.5492      5.704     22.012      0.000     114.369     136.730\n",
       "C(hr, Treatment(reference=0))[T.21]             87.5537      5.693     15.378      0.000      76.393      98.714\n",
       "C(hr, Treatment(reference=0))[T.22]             59.1226      5.689     10.392      0.000      47.970      70.275\n",
       "C(hr, Treatment(reference=0))[T.23]             26.8376      5.688      4.719      0.000      15.688      37.987\n",
       "weathersit[T.cloudy/misty]                     -12.8903      1.964     -6.562      0.000     -16.741      -9.040\n",
       "weathersit[T.heavy rain/snow]                 -109.7446     76.667     -1.431      0.152    -260.031      40.542\n",
       "weathersit[T.light rain/snow]                  -66.4944      2.965    -22.425      0.000     -72.307     -60.682\n",
       "workingday                                       1.2696      1.784      0.711      0.477      -2.228       4.768\n",
       "temp                                           157.2094     10.261     15.321      0.000     137.095     177.324\n",
       "==============================================================================\n",
       "Omnibus:                      288.526   Durbin-Watson:                   0.519\n",
       "Prob(Omnibus):                  0.000   Jarque-Bera (JB):              518.512\n",
       "Skew:                           0.273   Prob(JB):                    2.55e-113\n",
       "Kurtosis:                       4.068   Cond. No.                         131.\n",
       "==============================================================================\n",
       "\n",
       "Notes:\n",
       "[1] Standard Errors assume that the covariance matrix of the errors is correctly specified.\n",
       "\"\"\""
      ]
     },
     "execution_count": 97,
     "metadata": {},
     "output_type": "execute_result"
    }
   ],
   "source": [
    "result.summary()"
   ]
  },
  {
   "cell_type": "code",
   "execution_count": 98,
   "id": "28231321-056e-408b-bb2e-35be9406cff7",
   "metadata": {},
   "outputs": [],
   "source": [
    "from patsy.contrasts import Sum"
   ]
  },
  {
   "cell_type": "code",
   "execution_count": 99,
   "id": "e9529f57-568b-49a6-86d6-2cbf904010c1",
   "metadata": {},
   "outputs": [
    {
     "data": {
      "text/html": [
       "<table class=\"simpletable\">\n",
       "<caption>OLS Regression Results</caption>\n",
       "<tr>\n",
       "  <th>Dep. Variable:</th>         <td>bikers</td>      <th>  R-squared:         </th> <td>   0.675</td> \n",
       "</tr>\n",
       "<tr>\n",
       "  <th>Model:</th>                   <td>OLS</td>       <th>  Adj. R-squared:    </th> <td>   0.673</td> \n",
       "</tr>\n",
       "<tr>\n",
       "  <th>Method:</th>             <td>Least Squares</td>  <th>  F-statistic:       </th> <td>   457.3</td> \n",
       "</tr>\n",
       "<tr>\n",
       "  <th>Date:</th>             <td>Thu, 06 Oct 2022</td> <th>  Prob (F-statistic):</th>  <td>  0.00</td>  \n",
       "</tr>\n",
       "<tr>\n",
       "  <th>Time:</th>                 <td>15:00:33</td>     <th>  Log-Likelihood:    </th> <td> -49743.</td> \n",
       "</tr>\n",
       "<tr>\n",
       "  <th>No. Observations:</th>      <td>  8645</td>      <th>  AIC:               </th> <td>9.957e+04</td>\n",
       "</tr>\n",
       "<tr>\n",
       "  <th>Df Residuals:</th>          <td>  8605</td>      <th>  BIC:               </th> <td>9.985e+04</td>\n",
       "</tr>\n",
       "<tr>\n",
       "  <th>Df Model:</th>              <td>    39</td>      <th>                     </th>     <td> </td>    \n",
       "</tr>\n",
       "<tr>\n",
       "  <th>Covariance Type:</th>      <td>nonrobust</td>    <th>                     </th>     <td> </td>    \n",
       "</tr>\n",
       "</table>\n",
       "<table class=\"simpletable\">\n",
       "<tr>\n",
       "                <td></td>                   <th>coef</th>     <th>std err</th>      <th>t</th>      <th>P>|t|</th>  <th>[0.025</th>    <th>0.975]</th>  \n",
       "</tr>\n",
       "<tr>\n",
       "  <th>Intercept</th>                     <td>   73.5974</td> <td>    5.132</td> <td>   14.340</td> <td> 0.000</td> <td>   63.537</td> <td>   83.658</td>\n",
       "</tr>\n",
       "<tr>\n",
       "  <th>C(mnth, Sum(\"Dec\"))[S.April]</th>  <td>   -4.6622</td> <td>    2.741</td> <td>   -1.701</td> <td> 0.089</td> <td>  -10.034</td> <td>    0.710</td>\n",
       "</tr>\n",
       "<tr>\n",
       "  <th>C(mnth, Sum(\"Dec\"))[S.Aug]</th>    <td>    7.1560</td> <td>    3.535</td> <td>    2.024</td> <td> 0.043</td> <td>    0.227</td> <td>   14.085</td>\n",
       "</tr>\n",
       "<tr>\n",
       "  <th>C(mnth, Sum(\"Dec\"))[S.Feb]</th>    <td>  -39.2419</td> <td>    3.539</td> <td>  -11.088</td> <td> 0.000</td> <td>  -46.179</td> <td>  -32.304</td>\n",
       "</tr>\n",
       "<tr>\n",
       "  <th>C(mnth, Sum(\"Dec\"))[S.Jan]</th>    <td>  -46.0871</td> <td>    4.085</td> <td>  -11.281</td> <td> 0.000</td> <td>  -54.096</td> <td>  -38.079</td>\n",
       "</tr>\n",
       "<tr>\n",
       "  <th>C(mnth, Sum(\"Dec\"))[S.July]</th>   <td>   -0.7626</td> <td>    3.908</td> <td>   -0.195</td> <td> 0.845</td> <td>   -8.424</td> <td>    6.899</td>\n",
       "</tr>\n",
       "<tr>\n",
       "  <th>C(mnth, Sum(\"Dec\"))[S.June]</th>   <td>   21.7317</td> <td>    3.465</td> <td>    6.272</td> <td> 0.000</td> <td>   14.939</td> <td>   28.524</td>\n",
       "</tr>\n",
       "<tr>\n",
       "  <th>C(mnth, Sum(\"Dec\"))[S.March]</th>  <td>  -29.5357</td> <td>    3.155</td> <td>   -9.361</td> <td> 0.000</td> <td>  -35.721</td> <td>  -23.351</td>\n",
       "</tr>\n",
       "<tr>\n",
       "  <th>C(mnth, Sum(\"Dec\"))[S.May]</th>    <td>   26.4700</td> <td>    2.851</td> <td>    9.285</td> <td> 0.000</td> <td>   20.882</td> <td>   32.058</td>\n",
       "</tr>\n",
       "<tr>\n",
       "  <th>C(mnth, Sum(\"Dec\"))[S.Nov]</th>    <td>   14.2229</td> <td>    2.860</td> <td>    4.972</td> <td> 0.000</td> <td>    8.616</td> <td>   19.830</td>\n",
       "</tr>\n",
       "<tr>\n",
       "  <th>C(mnth, Sum(\"Dec\"))[S.Oct]</th>    <td>   29.7472</td> <td>    2.700</td> <td>   11.019</td> <td> 0.000</td> <td>   24.455</td> <td>   35.039</td>\n",
       "</tr>\n",
       "<tr>\n",
       "  <th>C(mnth, Sum(\"Dec\"))[S.Sept]</th>   <td>   20.5912</td> <td>    3.046</td> <td>    6.761</td> <td> 0.000</td> <td>   14.621</td> <td>   26.561</td>\n",
       "</tr>\n",
       "<tr>\n",
       "  <th>C(hr, Sum(23))[S.0]</th>           <td>  -96.1420</td> <td>    3.955</td> <td>  -24.307</td> <td> 0.000</td> <td> -103.895</td> <td>  -88.389</td>\n",
       "</tr>\n",
       "<tr>\n",
       "  <th>C(hr, Sum(23))[S.1]</th>           <td> -110.7213</td> <td>    3.966</td> <td>  -27.916</td> <td> 0.000</td> <td> -118.496</td> <td> -102.947</td>\n",
       "</tr>\n",
       "<tr>\n",
       "  <th>C(hr, Sum(23))[S.2]</th>           <td> -117.7212</td> <td>    4.016</td> <td>  -29.310</td> <td> 0.000</td> <td> -125.594</td> <td> -109.848</td>\n",
       "</tr>\n",
       "<tr>\n",
       "  <th>C(hr, Sum(23))[S.3]</th>           <td> -127.2828</td> <td>    4.081</td> <td>  -31.191</td> <td> 0.000</td> <td> -135.282</td> <td> -119.283</td>\n",
       "</tr>\n",
       "<tr>\n",
       "  <th>C(hr, Sum(23))[S.4]</th>           <td> -133.0495</td> <td>    4.117</td> <td>  -32.319</td> <td> 0.000</td> <td> -141.119</td> <td> -124.980</td>\n",
       "</tr>\n",
       "<tr>\n",
       "  <th>C(hr, Sum(23))[S.5]</th>           <td> -120.2775</td> <td>    4.037</td> <td>  -29.794</td> <td> 0.000</td> <td> -128.191</td> <td> -112.364</td>\n",
       "</tr>\n",
       "<tr>\n",
       "  <th>C(hr, Sum(23))[S.6]</th>           <td>  -75.5424</td> <td>    3.992</td> <td>  -18.925</td> <td> 0.000</td> <td>  -83.367</td> <td>  -67.718</td>\n",
       "</tr>\n",
       "<tr>\n",
       "  <th>C(hr, Sum(23))[S.7]</th>           <td>   23.9511</td> <td>    3.969</td> <td>    6.035</td> <td> 0.000</td> <td>   16.172</td> <td>   31.730</td>\n",
       "</tr>\n",
       "<tr>\n",
       "  <th>C(hr, Sum(23))[S.8]</th>           <td>  127.5199</td> <td>    3.950</td> <td>   32.284</td> <td> 0.000</td> <td>  119.777</td> <td>  135.263</td>\n",
       "</tr>\n",
       "<tr>\n",
       "  <th>C(hr, Sum(23))[S.9]</th>           <td>   24.4399</td> <td>    3.936</td> <td>    6.209</td> <td> 0.000</td> <td>   16.724</td> <td>   32.155</td>\n",
       "</tr>\n",
       "<tr>\n",
       "  <th>C(hr, Sum(23))[S.10]</th>          <td>  -12.3407</td> <td>    3.936</td> <td>   -3.135</td> <td> 0.002</td> <td>  -20.056</td> <td>   -4.625</td>\n",
       "</tr>\n",
       "<tr>\n",
       "  <th>C(hr, Sum(23))[S.11]</th>          <td>    9.2814</td> <td>    3.945</td> <td>    2.353</td> <td> 0.019</td> <td>    1.549</td> <td>   17.014</td>\n",
       "</tr>\n",
       "<tr>\n",
       "  <th>C(hr, Sum(23))[S.12]</th>          <td>   41.1417</td> <td>    3.957</td> <td>   10.397</td> <td> 0.000</td> <td>   33.385</td> <td>   48.899</td>\n",
       "</tr>\n",
       "<tr>\n",
       "  <th>C(hr, Sum(23))[S.13]</th>          <td>   39.8939</td> <td>    3.975</td> <td>   10.036</td> <td> 0.000</td> <td>   32.102</td> <td>   47.686</td>\n",
       "</tr>\n",
       "<tr>\n",
       "  <th>C(hr, Sum(23))[S.14]</th>          <td>   30.4940</td> <td>    3.991</td> <td>    7.641</td> <td> 0.000</td> <td>   22.671</td> <td>   38.317</td>\n",
       "</tr>\n",
       "<tr>\n",
       "  <th>C(hr, Sum(23))[S.15]</th>          <td>   35.9445</td> <td>    3.995</td> <td>    8.998</td> <td> 0.000</td> <td>   28.114</td> <td>   43.775</td>\n",
       "</tr>\n",
       "<tr>\n",
       "  <th>C(hr, Sum(23))[S.16]</th>          <td>   82.3786</td> <td>    3.988</td> <td>   20.655</td> <td> 0.000</td> <td>   74.561</td> <td>   90.197</td>\n",
       "</tr>\n",
       "<tr>\n",
       "  <th>C(hr, Sum(23))[S.17]</th>          <td>  200.1249</td> <td>    3.964</td> <td>   50.488</td> <td> 0.000</td> <td>  192.355</td> <td>  207.895</td>\n",
       "</tr>\n",
       "<tr>\n",
       "  <th>C(hr, Sum(23))[S.18]</th>          <td>  173.2989</td> <td>    3.956</td> <td>   43.806</td> <td> 0.000</td> <td>  165.544</td> <td>  181.054</td>\n",
       "</tr>\n",
       "<tr>\n",
       "  <th>C(hr, Sum(23))[S.19]</th>          <td>   90.1138</td> <td>    3.940</td> <td>   22.872</td> <td> 0.000</td> <td>   82.390</td> <td>   97.837</td>\n",
       "</tr>\n",
       "<tr>\n",
       "  <th>C(hr, Sum(23))[S.20]</th>          <td>   29.4071</td> <td>    3.936</td> <td>    7.471</td> <td> 0.000</td> <td>   21.691</td> <td>   37.123</td>\n",
       "</tr>\n",
       "<tr>\n",
       "  <th>C(hr, Sum(23))[S.21]</th>          <td>   -8.5883</td> <td>    3.933</td> <td>   -2.184</td> <td> 0.029</td> <td>  -16.298</td> <td>   -0.878</td>\n",
       "</tr>\n",
       "<tr>\n",
       "  <th>C(hr, Sum(23))[S.22]</th>          <td>  -37.0194</td> <td>    3.934</td> <td>   -9.409</td> <td> 0.000</td> <td>  -44.732</td> <td>  -29.307</td>\n",
       "</tr>\n",
       "<tr>\n",
       "  <th>weathersit[T.cloudy/misty]</th>    <td>  -12.8903</td> <td>    1.964</td> <td>   -6.562</td> <td> 0.000</td> <td>  -16.741</td> <td>   -9.040</td>\n",
       "</tr>\n",
       "<tr>\n",
       "  <th>weathersit[T.heavy rain/snow]</th> <td> -109.7446</td> <td>   76.667</td> <td>   -1.431</td> <td> 0.152</td> <td> -260.031</td> <td>   40.542</td>\n",
       "</tr>\n",
       "<tr>\n",
       "  <th>weathersit[T.light rain/snow]</th> <td>  -66.4944</td> <td>    2.965</td> <td>  -22.425</td> <td> 0.000</td> <td>  -72.307</td> <td>  -60.682</td>\n",
       "</tr>\n",
       "<tr>\n",
       "  <th>workingday</th>                    <td>    1.2696</td> <td>    1.784</td> <td>    0.711</td> <td> 0.477</td> <td>   -2.228</td> <td>    4.768</td>\n",
       "</tr>\n",
       "<tr>\n",
       "  <th>temp</th>                          <td>  157.2094</td> <td>   10.261</td> <td>   15.321</td> <td> 0.000</td> <td>  137.095</td> <td>  177.324</td>\n",
       "</tr>\n",
       "</table>\n",
       "<table class=\"simpletable\">\n",
       "<tr>\n",
       "  <th>Omnibus:</th>       <td>288.526</td> <th>  Durbin-Watson:     </th> <td>   0.519</td> \n",
       "</tr>\n",
       "<tr>\n",
       "  <th>Prob(Omnibus):</th> <td> 0.000</td>  <th>  Jarque-Bera (JB):  </th> <td> 518.512</td> \n",
       "</tr>\n",
       "<tr>\n",
       "  <th>Skew:</th>          <td> 0.273</td>  <th>  Prob(JB):          </th> <td>2.55e-113</td>\n",
       "</tr>\n",
       "<tr>\n",
       "  <th>Kurtosis:</th>      <td> 4.068</td>  <th>  Cond. No.          </th> <td>    127.</td> \n",
       "</tr>\n",
       "</table><br/><br/>Notes:<br/>[1] Standard Errors assume that the covariance matrix of the errors is correctly specified."
      ],
      "text/plain": [
       "<class 'statsmodels.iolib.summary.Summary'>\n",
       "\"\"\"\n",
       "                            OLS Regression Results                            \n",
       "==============================================================================\n",
       "Dep. Variable:                 bikers   R-squared:                       0.675\n",
       "Model:                            OLS   Adj. R-squared:                  0.673\n",
       "Method:                 Least Squares   F-statistic:                     457.3\n",
       "Date:                Thu, 06 Oct 2022   Prob (F-statistic):               0.00\n",
       "Time:                        15:00:33   Log-Likelihood:                -49743.\n",
       "No. Observations:                8645   AIC:                         9.957e+04\n",
       "Df Residuals:                    8605   BIC:                         9.985e+04\n",
       "Df Model:                          39                                         \n",
       "Covariance Type:            nonrobust                                         \n",
       "=================================================================================================\n",
       "                                    coef    std err          t      P>|t|      [0.025      0.975]\n",
       "-------------------------------------------------------------------------------------------------\n",
       "Intercept                        73.5974      5.132     14.340      0.000      63.537      83.658\n",
       "C(mnth, Sum(\"Dec\"))[S.April]     -4.6622      2.741     -1.701      0.089     -10.034       0.710\n",
       "C(mnth, Sum(\"Dec\"))[S.Aug]        7.1560      3.535      2.024      0.043       0.227      14.085\n",
       "C(mnth, Sum(\"Dec\"))[S.Feb]      -39.2419      3.539    -11.088      0.000     -46.179     -32.304\n",
       "C(mnth, Sum(\"Dec\"))[S.Jan]      -46.0871      4.085    -11.281      0.000     -54.096     -38.079\n",
       "C(mnth, Sum(\"Dec\"))[S.July]      -0.7626      3.908     -0.195      0.845      -8.424       6.899\n",
       "C(mnth, Sum(\"Dec\"))[S.June]      21.7317      3.465      6.272      0.000      14.939      28.524\n",
       "C(mnth, Sum(\"Dec\"))[S.March]    -29.5357      3.155     -9.361      0.000     -35.721     -23.351\n",
       "C(mnth, Sum(\"Dec\"))[S.May]       26.4700      2.851      9.285      0.000      20.882      32.058\n",
       "C(mnth, Sum(\"Dec\"))[S.Nov]       14.2229      2.860      4.972      0.000       8.616      19.830\n",
       "C(mnth, Sum(\"Dec\"))[S.Oct]       29.7472      2.700     11.019      0.000      24.455      35.039\n",
       "C(mnth, Sum(\"Dec\"))[S.Sept]      20.5912      3.046      6.761      0.000      14.621      26.561\n",
       "C(hr, Sum(23))[S.0]             -96.1420      3.955    -24.307      0.000    -103.895     -88.389\n",
       "C(hr, Sum(23))[S.1]            -110.7213      3.966    -27.916      0.000    -118.496    -102.947\n",
       "C(hr, Sum(23))[S.2]            -117.7212      4.016    -29.310      0.000    -125.594    -109.848\n",
       "C(hr, Sum(23))[S.3]            -127.2828      4.081    -31.191      0.000    -135.282    -119.283\n",
       "C(hr, Sum(23))[S.4]            -133.0495      4.117    -32.319      0.000    -141.119    -124.980\n",
       "C(hr, Sum(23))[S.5]            -120.2775      4.037    -29.794      0.000    -128.191    -112.364\n",
       "C(hr, Sum(23))[S.6]             -75.5424      3.992    -18.925      0.000     -83.367     -67.718\n",
       "C(hr, Sum(23))[S.7]              23.9511      3.969      6.035      0.000      16.172      31.730\n",
       "C(hr, Sum(23))[S.8]             127.5199      3.950     32.284      0.000     119.777     135.263\n",
       "C(hr, Sum(23))[S.9]              24.4399      3.936      6.209      0.000      16.724      32.155\n",
       "C(hr, Sum(23))[S.10]            -12.3407      3.936     -3.135      0.002     -20.056      -4.625\n",
       "C(hr, Sum(23))[S.11]              9.2814      3.945      2.353      0.019       1.549      17.014\n",
       "C(hr, Sum(23))[S.12]             41.1417      3.957     10.397      0.000      33.385      48.899\n",
       "C(hr, Sum(23))[S.13]             39.8939      3.975     10.036      0.000      32.102      47.686\n",
       "C(hr, Sum(23))[S.14]             30.4940      3.991      7.641      0.000      22.671      38.317\n",
       "C(hr, Sum(23))[S.15]             35.9445      3.995      8.998      0.000      28.114      43.775\n",
       "C(hr, Sum(23))[S.16]             82.3786      3.988     20.655      0.000      74.561      90.197\n",
       "C(hr, Sum(23))[S.17]            200.1249      3.964     50.488      0.000     192.355     207.895\n",
       "C(hr, Sum(23))[S.18]            173.2989      3.956     43.806      0.000     165.544     181.054\n",
       "C(hr, Sum(23))[S.19]             90.1138      3.940     22.872      0.000      82.390      97.837\n",
       "C(hr, Sum(23))[S.20]             29.4071      3.936      7.471      0.000      21.691      37.123\n",
       "C(hr, Sum(23))[S.21]             -8.5883      3.933     -2.184      0.029     -16.298      -0.878\n",
       "C(hr, Sum(23))[S.22]            -37.0194      3.934     -9.409      0.000     -44.732     -29.307\n",
       "weathersit[T.cloudy/misty]      -12.8903      1.964     -6.562      0.000     -16.741      -9.040\n",
       "weathersit[T.heavy rain/snow]  -109.7446     76.667     -1.431      0.152    -260.031      40.542\n",
       "weathersit[T.light rain/snow]   -66.4944      2.965    -22.425      0.000     -72.307     -60.682\n",
       "workingday                        1.2696      1.784      0.711      0.477      -2.228       4.768\n",
       "temp                            157.2094     10.261     15.321      0.000     137.095     177.324\n",
       "==============================================================================\n",
       "Omnibus:                      288.526   Durbin-Watson:                   0.519\n",
       "Prob(Omnibus):                  0.000   Jarque-Bera (JB):              518.512\n",
       "Skew:                           0.273   Prob(JB):                    2.55e-113\n",
       "Kurtosis:                       4.068   Cond. No.                         127.\n",
       "==============================================================================\n",
       "\n",
       "Notes:\n",
       "[1] Standard Errors assume that the covariance matrix of the errors is correctly specified.\n",
       "\"\"\""
      ]
     },
     "execution_count": 99,
     "metadata": {},
     "output_type": "execute_result"
    }
   ],
   "source": [
    "result2 = smf.ols(\n",
    "    'bikers ~ C(mnth, Sum(\"Dec\")) + C(hr, Sum(23))'\n",
    "    '+ workingday + temp + weathersit',\n",
    "    data=biker).fit()\n",
    "result2.summary()"
   ]
  },
  {
   "cell_type": "code",
   "execution_count": 100,
   "id": "ae50c7d8-401d-440b-ab25-0d14e6fb168d",
   "metadata": {},
   "outputs": [
    {
     "data": {
      "text/plain": [
       "3.815363357639102e-20"
      ]
     },
     "execution_count": 100,
     "metadata": {},
     "output_type": "execute_result"
    }
   ],
   "source": [
    "((result.fittedvalues - result2.fittedvalues)**2).sum()"
   ]
  },
  {
   "cell_type": "code",
   "execution_count": 101,
   "id": "c256707e-55db-471d-8121-901e7a1ebae9",
   "metadata": {},
   "outputs": [
    {
     "data": {
      "text/plain": [
       "[<matplotlib.axis.XTick at 0x23d805a3640>,\n",
       " <matplotlib.axis.XTick at 0x23d805a3610>,\n",
       " <matplotlib.axis.XTick at 0x23d80597c40>,\n",
       " <matplotlib.axis.XTick at 0x23d805e0100>,\n",
       " <matplotlib.axis.XTick at 0x23d805e0850>,\n",
       " <matplotlib.axis.XTick at 0x23d805e6070>,\n",
       " <matplotlib.axis.XTick at 0x23d805e6730>,\n",
       " <matplotlib.axis.XTick at 0x23d805e6e80>,\n",
       " <matplotlib.axis.XTick at 0x23d805ea610>,\n",
       " <matplotlib.axis.XTick at 0x23d805e6820>,\n",
       " <matplotlib.axis.XTick at 0x23d805e04f0>,\n",
       " <matplotlib.axis.XTick at 0x23d805eab20>]"
      ]
     },
     "execution_count": 101,
     "metadata": {},
     "output_type": "execute_result"
    },
    {
     "data": {
      "image/png": "[encoded data removed]",
      "text/plain": [
       "<Figure size 800x550 with 1 Axes>"
      ]
     },
     "metadata": {},
     "output_type": "display_data"
    }
   ],
   "source": [
    "month_coefs = result2.params.iloc[[4, 3, 7, 1, 8, 6, 5, 2, 11, 10, 9]]\n",
    "month_coefs.index= ['Jan', 'Feb', 'March', 'April', 'May', 'June', \n",
    "                    'July', 'Aug', 'Sept', 'Oct', 'Nov']\n",
    "month_coefs['Dec'] = -month_coefs.sum()\n",
    "\n",
    "fig, ax = plt.subplots()\n",
    "ax.plot(month_coefs, '-o')\n",
    "ax.set(xlabel='Month', ylabel='Coefficient')\n",
    "ax.set_xticks(range(0,12), ['J', 'F', 'M', 'A', 'M', 'J', 'J', 'A', 'S', 'O', 'N', 'D'])"
   ]
  },
  {
   "cell_type": "code",
   "execution_count": 102,
   "id": "f2639312-3e03-4bf7-ac9f-11ed1284d269",
   "metadata": {},
   "outputs": [
    {
     "data": {
      "text/plain": [
       "[<matplotlib.axis.XTick at 0x23d80621c70>,\n",
       " <matplotlib.axis.XTick at 0x23d80621c40>,\n",
       " <matplotlib.axis.XTick at 0x23d80621370>,\n",
       " <matplotlib.axis.XTick at 0x23d80652760>]"
      ]
     },
     "execution_count": 102,
     "metadata": {},
     "output_type": "execute_result"
    },
    {
     "data": {
      "image/png": "[encoded data removed]",
      "text/plain": [
       "<Figure size 800x550 with 1 Axes>"
      ]
     },
     "metadata": {},
     "output_type": "display_data"
    }
   ],
   "source": [
    "hours_coefs = result2.params.iloc[12:35].reset_index(drop=True)\n",
    "hours_coefs[23] = - hours_coefs.sum()\n",
    "\n",
    "fig, ax = plt.subplots()\n",
    "ax.plot(hours_coefs, '-o')\n",
    "ax.set(xlabel='Hour', ylabel='Coefficient')\n",
    "ax.set_xticks([5, 10, 15, 20], [5, 10, 15, 20])"
   ]
  },
  {
   "cell_type": "code",
   "execution_count": 103,
   "id": "5179656a-80bd-461c-8d4c-6e6e1e77a9f1",
   "metadata": {},
   "outputs": [
    {
     "data": {
      "text/html": [
       "<table class=\"simpletable\">\n",
       "<caption>Generalized Linear Model Regression Results</caption>\n",
       "<tr>\n",
       "  <th>Dep. Variable:</th>        <td>bikers</td>      <th>  No. Observations:  </th>   <td>  8645</td>   \n",
       "</tr>\n",
       "<tr>\n",
       "  <th>Model:</th>                  <td>GLM</td>       <th>  Df Residuals:      </th>   <td>  8605</td>   \n",
       "</tr>\n",
       "<tr>\n",
       "  <th>Model Family:</th>         <td>Poisson</td>     <th>  Df Model:          </th>   <td>    39</td>   \n",
       "</tr>\n",
       "<tr>\n",
       "  <th>Link Function:</th>          <td>Log</td>       <th>  Scale:             </th>  <td>  1.0000</td>  \n",
       "</tr>\n",
       "<tr>\n",
       "  <th>Method:</th>                <td>IRLS</td>       <th>  Log-Likelihood:    </th> <td>-1.4054e+05</td>\n",
       "</tr>\n",
       "<tr>\n",
       "  <th>Date:</th>            <td>Thu, 06 Oct 2022</td> <th>  Deviance:          </th> <td>2.2804e+05</td> \n",
       "</tr>\n",
       "<tr>\n",
       "  <th>Time:</th>                <td>15:00:34</td>     <th>  Pearson chi2:      </th>  <td>2.20e+05</td>  \n",
       "</tr>\n",
       "<tr>\n",
       "  <th>No. Iterations:</th>          <td>7</td>        <th>  Pseudo R-squ. (CS):</th>   <td> 1.000</td>   \n",
       "</tr>\n",
       "<tr>\n",
       "  <th>Covariance Type:</th>     <td>nonrobust</td>    <th>                     </th>      <td> </td>     \n",
       "</tr>\n",
       "</table>\n",
       "<table class=\"simpletable\">\n",
       "<tr>\n",
       "                <td></td>                   <th>coef</th>     <th>std err</th>      <th>z</th>      <th>P>|z|</th>  <th>[0.025</th>    <th>0.975]</th>  \n",
       "</tr>\n",
       "<tr>\n",
       "  <th>Intercept</th>                     <td>    4.1182</td> <td>    0.006</td> <td>  683.963</td> <td> 0.000</td> <td>    4.106</td> <td>    4.130</td>\n",
       "</tr>\n",
       "<tr>\n",
       "  <th>C(mnth, Sum(\"Dec\"))[S.April]</th>  <td>    0.0215</td> <td>    0.003</td> <td>    6.888</td> <td> 0.000</td> <td>    0.015</td> <td>    0.028</td>\n",
       "</tr>\n",
       "<tr>\n",
       "  <th>C(mnth, Sum(\"Dec\"))[S.Aug]</th>    <td>    0.1512</td> <td>    0.004</td> <td>   41.281</td> <td> 0.000</td> <td>    0.144</td> <td>    0.158</td>\n",
       "</tr>\n",
       "<tr>\n",
       "  <th>C(mnth, Sum(\"Dec\"))[S.Feb]</th>    <td>   -0.4441</td> <td>    0.005</td> <td>  -91.379</td> <td> 0.000</td> <td>   -0.454</td> <td>   -0.435</td>\n",
       "</tr>\n",
       "<tr>\n",
       "  <th>C(mnth, Sum(\"Dec\"))[S.Jan]</th>    <td>   -0.6702</td> <td>    0.006</td> <td> -113.445</td> <td> 0.000</td> <td>   -0.682</td> <td>   -0.659</td>\n",
       "</tr>\n",
       "<tr>\n",
       "  <th>C(mnth, Sum(\"Dec\"))[S.July]</th>   <td>    0.1036</td> <td>    0.004</td> <td>   25.121</td> <td> 0.000</td> <td>    0.096</td> <td>    0.112</td>\n",
       "</tr>\n",
       "<tr>\n",
       "  <th>C(mnth, Sum(\"Dec\"))[S.June]</th>   <td>    0.2232</td> <td>    0.004</td> <td>   62.818</td> <td> 0.000</td> <td>    0.216</td> <td>    0.230</td>\n",
       "</tr>\n",
       "<tr>\n",
       "  <th>C(mnth, Sum(\"Dec\"))[S.March]</th>  <td>   -0.2937</td> <td>    0.004</td> <td>  -70.886</td> <td> 0.000</td> <td>   -0.302</td> <td>   -0.286</td>\n",
       "</tr>\n",
       "<tr>\n",
       "  <th>C(mnth, Sum(\"Dec\"))[S.May]</th>    <td>    0.2405</td> <td>    0.003</td> <td>   82.462</td> <td> 0.000</td> <td>    0.235</td> <td>    0.246</td>\n",
       "</tr>\n",
       "<tr>\n",
       "  <th>C(mnth, Sum(\"Dec\"))[S.Nov]</th>    <td>    0.1503</td> <td>    0.003</td> <td>   47.248</td> <td> 0.000</td> <td>    0.144</td> <td>    0.156</td>\n",
       "</tr>\n",
       "<tr>\n",
       "  <th>C(mnth, Sum(\"Dec\"))[S.Oct]</th>    <td>    0.2676</td> <td>    0.003</td> <td>   96.091</td> <td> 0.000</td> <td>    0.262</td> <td>    0.273</td>\n",
       "</tr>\n",
       "<tr>\n",
       "  <th>C(mnth, Sum(\"Dec\"))[S.Sept]</th>   <td>    0.2335</td> <td>    0.003</td> <td>   75.281</td> <td> 0.000</td> <td>    0.227</td> <td>    0.240</td>\n",
       "</tr>\n",
       "<tr>\n",
       "  <th>C(hr, Sum(23))[S.0]</th>           <td>   -0.7544</td> <td>    0.008</td> <td>  -95.744</td> <td> 0.000</td> <td>   -0.770</td> <td>   -0.739</td>\n",
       "</tr>\n",
       "<tr>\n",
       "  <th>C(hr, Sum(23))[S.1]</th>           <td>   -1.2260</td> <td>    0.010</td> <td> -123.173</td> <td> 0.000</td> <td>   -1.245</td> <td>   -1.206</td>\n",
       "</tr>\n",
       "<tr>\n",
       "  <th>C(hr, Sum(23))[S.2]</th>           <td>   -1.5631</td> <td>    0.012</td> <td> -131.702</td> <td> 0.000</td> <td>   -1.586</td> <td>   -1.540</td>\n",
       "</tr>\n",
       "<tr>\n",
       "  <th>C(hr, Sum(23))[S.3]</th>           <td>   -2.1983</td> <td>    0.016</td> <td> -133.846</td> <td> 0.000</td> <td>   -2.230</td> <td>   -2.166</td>\n",
       "</tr>\n",
       "<tr>\n",
       "  <th>C(hr, Sum(23))[S.4]</th>           <td>   -2.8305</td> <td>    0.023</td> <td> -125.586</td> <td> 0.000</td> <td>   -2.875</td> <td>   -2.786</td>\n",
       "</tr>\n",
       "<tr>\n",
       "  <th>C(hr, Sum(23))[S.5]</th>           <td>   -1.8147</td> <td>    0.013</td> <td> -134.775</td> <td> 0.000</td> <td>   -1.841</td> <td>   -1.788</td>\n",
       "</tr>\n",
       "<tr>\n",
       "  <th>C(hr, Sum(23))[S.6]</th>           <td>   -0.4299</td> <td>    0.007</td> <td>  -62.341</td> <td> 0.000</td> <td>   -0.443</td> <td>   -0.416</td>\n",
       "</tr>\n",
       "<tr>\n",
       "  <th>C(hr, Sum(23))[S.7]</th>           <td>    0.5752</td> <td>    0.004</td> <td>  130.544</td> <td> 0.000</td> <td>    0.567</td> <td>    0.584</td>\n",
       "</tr>\n",
       "<tr>\n",
       "  <th>C(hr, Sum(23))[S.8]</th>           <td>    1.0769</td> <td>    0.004</td> <td>  302.220</td> <td> 0.000</td> <td>    1.070</td> <td>    1.084</td>\n",
       "</tr>\n",
       "<tr>\n",
       "  <th>C(hr, Sum(23))[S.9]</th>           <td>    0.5818</td> <td>    0.004</td> <td>  135.727</td> <td> 0.000</td> <td>    0.573</td> <td>    0.590</td>\n",
       "</tr>\n",
       "<tr>\n",
       "  <th>C(hr, Sum(23))[S.10]</th>          <td>    0.3369</td> <td>    0.005</td> <td>   71.372</td> <td> 0.000</td> <td>    0.328</td> <td>    0.346</td>\n",
       "</tr>\n",
       "<tr>\n",
       "  <th>C(hr, Sum(23))[S.11]</th>          <td>    0.4941</td> <td>    0.004</td> <td>  112.494</td> <td> 0.000</td> <td>    0.486</td> <td>    0.503</td>\n",
       "</tr>\n",
       "<tr>\n",
       "  <th>C(hr, Sum(23))[S.12]</th>          <td>    0.6796</td> <td>    0.004</td> <td>  167.040</td> <td> 0.000</td> <td>    0.672</td> <td>    0.688</td>\n",
       "</tr>\n",
       "<tr>\n",
       "  <th>C(hr, Sum(23))[S.13]</th>          <td>    0.6736</td> <td>    0.004</td> <td>  164.722</td> <td> 0.000</td> <td>    0.666</td> <td>    0.682</td>\n",
       "</tr>\n",
       "<tr>\n",
       "  <th>C(hr, Sum(23))[S.14]</th>          <td>    0.6249</td> <td>    0.004</td> <td>  149.570</td> <td> 0.000</td> <td>    0.617</td> <td>    0.633</td>\n",
       "</tr>\n",
       "<tr>\n",
       "  <th>C(hr, Sum(23))[S.15]</th>          <td>    0.6538</td> <td>    0.004</td> <td>  158.205</td> <td> 0.000</td> <td>    0.646</td> <td>    0.662</td>\n",
       "</tr>\n",
       "<tr>\n",
       "  <th>C(hr, Sum(23))[S.16]</th>          <td>    0.8743</td> <td>    0.004</td> <td>  231.040</td> <td> 0.000</td> <td>    0.867</td> <td>    0.882</td>\n",
       "</tr>\n",
       "<tr>\n",
       "  <th>C(hr, Sum(23))[S.17]</th>          <td>    1.2946</td> <td>    0.003</td> <td>  397.848</td> <td> 0.000</td> <td>    1.288</td> <td>    1.301</td>\n",
       "</tr>\n",
       "<tr>\n",
       "  <th>C(hr, Sum(23))[S.18]</th>          <td>    1.2123</td> <td>    0.003</td> <td>  365.084</td> <td> 0.000</td> <td>    1.206</td> <td>    1.219</td>\n",
       "</tr>\n",
       "<tr>\n",
       "  <th>C(hr, Sum(23))[S.19]</th>          <td>    0.9140</td> <td>    0.004</td> <td>  247.065</td> <td> 0.000</td> <td>    0.907</td> <td>    0.921</td>\n",
       "</tr>\n",
       "<tr>\n",
       "  <th>C(hr, Sum(23))[S.20]</th>          <td>    0.6162</td> <td>    0.004</td> <td>  147.045</td> <td> 0.000</td> <td>    0.608</td> <td>    0.624</td>\n",
       "</tr>\n",
       "<tr>\n",
       "  <th>C(hr, Sum(23))[S.21]</th>          <td>    0.3642</td> <td>    0.005</td> <td>   78.173</td> <td> 0.000</td> <td>    0.355</td> <td>    0.373</td>\n",
       "</tr>\n",
       "<tr>\n",
       "  <th>C(hr, Sum(23))[S.22]</th>          <td>    0.1175</td> <td>    0.005</td> <td>   22.488</td> <td> 0.000</td> <td>    0.107</td> <td>    0.128</td>\n",
       "</tr>\n",
       "<tr>\n",
       "  <th>weathersit[T.cloudy/misty]</th>    <td>   -0.0752</td> <td>    0.002</td> <td>  -34.528</td> <td> 0.000</td> <td>   -0.080</td> <td>   -0.071</td>\n",
       "</tr>\n",
       "<tr>\n",
       "  <th>weathersit[T.heavy rain/snow]</th> <td>   -0.9263</td> <td>    0.167</td> <td>   -5.554</td> <td> 0.000</td> <td>   -1.253</td> <td>   -0.599</td>\n",
       "</tr>\n",
       "<tr>\n",
       "  <th>weathersit[T.light rain/snow]</th> <td>   -0.5758</td> <td>    0.004</td> <td> -141.905</td> <td> 0.000</td> <td>   -0.584</td> <td>   -0.568</td>\n",
       "</tr>\n",
       "<tr>\n",
       "  <th>workingday</th>                    <td>    0.0147</td> <td>    0.002</td> <td>    7.502</td> <td> 0.000</td> <td>    0.011</td> <td>    0.018</td>\n",
       "</tr>\n",
       "<tr>\n",
       "  <th>temp</th>                          <td>    0.7853</td> <td>    0.011</td> <td>   68.434</td> <td> 0.000</td> <td>    0.763</td> <td>    0.808</td>\n",
       "</tr>\n",
       "</table>"
      ],
      "text/plain": [
       "<class 'statsmodels.iolib.summary.Summary'>\n",
       "\"\"\"\n",
       "                 Generalized Linear Model Regression Results                  \n",
       "==============================================================================\n",
       "Dep. Variable:                 bikers   No. Observations:                 8645\n",
       "Model:                            GLM   Df Residuals:                     8605\n",
       "Model Family:                 Poisson   Df Model:                           39\n",
       "Link Function:                    Log   Scale:                          1.0000\n",
       "Method:                          IRLS   Log-Likelihood:            -1.4054e+05\n",
       "Date:                Thu, 06 Oct 2022   Deviance:                   2.2804e+05\n",
       "Time:                        15:00:34   Pearson chi2:                 2.20e+05\n",
       "No. Iterations:                     7   Pseudo R-squ. (CS):              1.000\n",
       "Covariance Type:            nonrobust                                         \n",
       "=================================================================================================\n",
       "                                    coef    std err          z      P>|z|      [0.025      0.975]\n",
       "-------------------------------------------------------------------------------------------------\n",
       "Intercept                         4.1182      0.006    683.963      0.000       4.106       4.130\n",
       "C(mnth, Sum(\"Dec\"))[S.April]      0.0215      0.003      6.888      0.000       0.015       0.028\n",
       "C(mnth, Sum(\"Dec\"))[S.Aug]        0.1512      0.004     41.281      0.000       0.144       0.158\n",
       "C(mnth, Sum(\"Dec\"))[S.Feb]       -0.4441      0.005    -91.379      0.000      -0.454      -0.435\n",
       "C(mnth, Sum(\"Dec\"))[S.Jan]       -0.6702      0.006   -113.445      0.000      -0.682      -0.659\n",
       "C(mnth, Sum(\"Dec\"))[S.July]       0.1036      0.004     25.121      0.000       0.096       0.112\n",
       "C(mnth, Sum(\"Dec\"))[S.June]       0.2232      0.004     62.818      0.000       0.216       0.230\n",
       "C(mnth, Sum(\"Dec\"))[S.March]     -0.2937      0.004    -70.886      0.000      -0.302      -0.286\n",
       "C(mnth, Sum(\"Dec\"))[S.May]        0.2405      0.003     82.462      0.000       0.235       0.246\n",
       "C(mnth, Sum(\"Dec\"))[S.Nov]        0.1503      0.003     47.248      0.000       0.144       0.156\n",
       "C(mnth, Sum(\"Dec\"))[S.Oct]        0.2676      0.003     96.091      0.000       0.262       0.273\n",
       "C(mnth, Sum(\"Dec\"))[S.Sept]       0.2335      0.003     75.281      0.000       0.227       0.240\n",
       "C(hr, Sum(23))[S.0]              -0.7544      0.008    -95.744      0.000      -0.770      -0.739\n",
       "C(hr, Sum(23))[S.1]              -1.2260      0.010   -123.173      0.000      -1.245      -1.206\n",
       "C(hr, Sum(23))[S.2]              -1.5631      0.012   -131.702      0.000      -1.586      -1.540\n",
       "C(hr, Sum(23))[S.3]              -2.1983      0.016   -133.846      0.000      -2.230      -2.166\n",
       "C(hr, Sum(23))[S.4]              -2.8305      0.023   -125.586      0.000      -2.875      -2.786\n",
       "C(hr, Sum(23))[S.5]              -1.8147      0.013   -134.775      0.000      -1.841      -1.788\n",
       "C(hr, Sum(23))[S.6]              -0.4299      0.007    -62.341      0.000      -0.443      -0.416\n",
       "C(hr, Sum(23))[S.7]               0.5752      0.004    130.544      0.000       0.567       0.584\n",
       "C(hr, Sum(23))[S.8]               1.0769      0.004    302.220      0.000       1.070       1.084\n",
       "C(hr, Sum(23))[S.9]               0.5818      0.004    135.727      0.000       0.573       0.590\n",
       "C(hr, Sum(23))[S.10]              0.3369      0.005     71.372      0.000       0.328       0.346\n",
       "C(hr, Sum(23))[S.11]              0.4941      0.004    112.494      0.000       0.486       0.503\n",
       "C(hr, Sum(23))[S.12]              0.6796      0.004    167.040      0.000       0.672       0.688\n",
       "C(hr, Sum(23))[S.13]              0.6736      0.004    164.722      0.000       0.666       0.682\n",
       "C(hr, Sum(23))[S.14]              0.6249      0.004    149.570      0.000       0.617       0.633\n",
       "C(hr, Sum(23))[S.15]              0.6538      0.004    158.205      0.000       0.646       0.662\n",
       "C(hr, Sum(23))[S.16]              0.8743      0.004    231.040      0.000       0.867       0.882\n",
       "C(hr, Sum(23))[S.17]              1.2946      0.003    397.848      0.000       1.288       1.301\n",
       "C(hr, Sum(23))[S.18]              1.2123      0.003    365.084      0.000       1.206       1.219\n",
       "C(hr, Sum(23))[S.19]              0.9140      0.004    247.065      0.000       0.907       0.921\n",
       "C(hr, Sum(23))[S.20]              0.6162      0.004    147.045      0.000       0.608       0.624\n",
       "C(hr, Sum(23))[S.21]              0.3642      0.005     78.173      0.000       0.355       0.373\n",
       "C(hr, Sum(23))[S.22]              0.1175      0.005     22.488      0.000       0.107       0.128\n",
       "weathersit[T.cloudy/misty]       -0.0752      0.002    -34.528      0.000      -0.080      -0.071\n",
       "weathersit[T.heavy rain/snow]    -0.9263      0.167     -5.554      0.000      -1.253      -0.599\n",
       "weathersit[T.light rain/snow]    -0.5758      0.004   -141.905      0.000      -0.584      -0.568\n",
       "workingday                        0.0147      0.002      7.502      0.000       0.011       0.018\n",
       "temp                              0.7853      0.011     68.434      0.000       0.763       0.808\n",
       "=================================================================================================\n",
       "\"\"\""
      ]
     },
     "execution_count": 103,
     "metadata": {},
     "output_type": "execute_result"
    }
   ],
   "source": [
    "result = smf.glm('bikers ~ C(mnth, Sum(\"Dec\")) + C(hr, Sum(23))' \n",
    "                 '+ workingday + temp + weathersit',\n",
    "                 data=biker, family=sm.families.Poisson()).fit()\n",
    "result.summary()"
   ]
  },
  {
   "cell_type": "code",
   "execution_count": 104,
   "id": "ef51efb4-5512-4878-a67f-4ac5dc1b002a",
   "metadata": {},
   "outputs": [
    {
     "data": {
      "text/plain": [
       "[<matplotlib.axis.XTick at 0x23d800132b0>,\n",
       " <matplotlib.axis.XTick at 0x23d80013280>,\n",
       " <matplotlib.axis.XTick at 0x23dfe4dd430>,\n",
       " <matplotlib.axis.XTick at 0x23d8003cd00>,\n",
       " <matplotlib.axis.XTick at 0x23d80046490>,\n",
       " <matplotlib.axis.XTick at 0x23d80046be0>,\n",
       " <matplotlib.axis.XTick at 0x23d80046730>,\n",
       " <matplotlib.axis.XTick at 0x23d8004d250>,\n",
       " <matplotlib.axis.XTick at 0x23d8004d9d0>,\n",
       " <matplotlib.axis.XTick at 0x23d80054190>,\n",
       " <matplotlib.axis.XTick at 0x23d800548e0>,\n",
       " <matplotlib.axis.XTick at 0x23d8005b070>]"
      ]
     },
     "execution_count": 104,
     "metadata": {},
     "output_type": "execute_result"
    },
    {
     "data": {
      "image/png": "[encoded data removed]",
      "text/plain": [
       "<Figure size 800x550 with 1 Axes>"
      ]
     },
     "metadata": {},
     "output_type": "display_data"
    }
   ],
   "source": [
    "month_coefs = result.params.iloc[[4, 3, 7, 1, 8, 6, 5, 2, 11, 10, 9]]\n",
    "month_coefs.index= ['Jan', 'Feb', 'March', 'April', 'May', 'June', \n",
    "                    'July', 'Aug', 'Sept', 'Oct', 'Nov']\n",
    "month_coefs['Dec'] = -month_coefs.sum()\n",
    "\n",
    "fig, ax = plt.subplots()\n",
    "ax.plot(month_coefs, '-o')\n",
    "ax.set(xlabel='Month', ylabel='Coefficient')\n",
    "ax.set_xticks(range(0,12), ['J', 'F', 'M', 'A', 'M', 'J', 'J', 'A', 'S', 'O', 'N', 'D'])"
   ]
  },
  {
   "cell_type": "code",
   "execution_count": 105,
   "id": "ce79c1a7-0e6a-49be-8e99-1816c2dddc33",
   "metadata": {},
   "outputs": [
    {
     "data": {
      "text/plain": [
       "[<matplotlib.axis.XTick at 0x23d800835e0>,\n",
       " <matplotlib.axis.XTick at 0x23d800835b0>,\n",
       " <matplotlib.axis.XTick at 0x23d8007d220>,\n",
       " <matplotlib.axis.XTick at 0x23d800b6040>]"
      ]
     },
     "execution_count": 105,
     "metadata": {},
     "output_type": "execute_result"
    },
    {
     "data": {
      "image/png": "[encoded data removed]",
      "text/plain": [
       "<Figure size 800x550 with 1 Axes>"
      ]
     },
     "metadata": {},
     "output_type": "display_data"
    }
   ],
   "source": [
    "hours_coefs = result.params.iloc[12:35].reset_index(drop=True)\n",
    "hours_coefs[23] = - hours_coefs.sum()\n",
    "\n",
    "fig, ax = plt.subplots()\n",
    "ax.plot(hours_coefs, '-o')\n",
    "ax.set(xlabel='Hour', ylabel='Coefficient')\n",
    "ax.set_xticks([4, 9, 14, 19], [5, 10, 15, 20])"
   ]
  },
  {
   "cell_type": "code",
   "execution_count": 106,
   "id": "ec7c7392-bcac-46d1-abdf-fc3fca517429",
   "metadata": {},
   "outputs": [
    {
     "data": {
      "text/plain": [
       "[<matplotlib.lines.Line2D at 0x23d8098d9a0>]"
      ]
     },
     "execution_count": 106,
     "metadata": {},
     "output_type": "execute_result"
    },
    {
     "data": {
      "image/png": "[encoded data removed]",
      "text/plain": [
       "<Figure size 800x550 with 1 Axes>"
      ]
     },
     "metadata": {},
     "output_type": "display_data"
    }
   ],
   "source": [
    "fig, ax = plt.subplots()\n",
    "ax.scatter(result.fittedvalues, result2.fittedvalues, alpha=0.3)\n",
    "plt.axis('equal')\n",
    "plt.plot(range(400), range(400), color='red', lw=3)"
   ]
  },
  {
   "cell_type": "code",
   "execution_count": null,
   "id": "0a441548-45b7-4280-ad31-d21965310e8f",
   "metadata": {},
   "outputs": [],
   "source": []
  }
 ],
 "metadata": {
  "kernelspec": {
   "display_name": "Python 3 (ipykernel)",
   "language": "python",
   "name": "python3"
  },
  "language_info": {
   "codemirror_mode": {
    "name": "ipython",
    "version": 3
   },
   "file_extension": ".py",
   "mimetype": "text/x-python",
   "name": "python",
   "nbconvert_exporter": "python",
   "pygments_lexer": "ipython3",
   "version": "3.8.8"
  }
 },
 "nbformat": 4,
 "nbformat_minor": 5
}
